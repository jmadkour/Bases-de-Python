{
  "nbformat": 4,
  "nbformat_minor": 0,
  "metadata": {
    "colab": {
      "provenance": [],
      "authorship_tag": "ABX9TyM7OO9MY53X6nkFZZ2Z99kX",
      "include_colab_link": true
    },
    "kernelspec": {
      "name": "python3",
      "display_name": "Python 3"
    },
    "language_info": {
      "name": "python"
    }
  },
  "cells": [
    {
      "cell_type": "markdown",
      "metadata": {
        "id": "view-in-github",
        "colab_type": "text"
      },
      "source": [
        "<a href=\"https://colab.research.google.com/github/jmadkour/Bases-de-Python/blob/main/0-Python%3A%20une%20calculatrice.ipynb\" target=\"_parent\"><img src=\"https://colab.research.google.com/assets/colab-badge.svg\" alt=\"Open In Colab\"/></a>"
      ]
    },
    {
      "cell_type": "markdown",
      "source": [
        "###**Python comme une simple calculatrice**\n",
        "Python peut fonctionner comme une simpe calculatrice est effectuer des opérations basiques comme des additions, des soustractions, des multiplications, des divisions et des puissances. En revanche, pour des opérations plus compliquées, il faut installer et importer des **modules** (ou **packages** ou **librairies**). Le package **numpy** pas exemple permet de faire du calcul numérique, le package **pandas** permet de gérer bases de données..."
      ],
      "metadata": {
        "id": "_SdFxXIG47CU"
      }
    },
    {
      "cell_type": "markdown",
      "source": [
        "#### **Addition de nombres**"
      ],
      "metadata": {
        "id": "1w2Y4vzWzm0d"
      }
    },
    {
      "cell_type": "code",
      "execution_count": null,
      "metadata": {
        "colab": {
          "base_uri": "https://localhost:8080/"
        },
        "id": "LMPYMZO32Zuj",
        "outputId": "60672f92-5266-4989-ed96-8ee98e0e3325"
      },
      "outputs": [
        {
          "output_type": "execute_result",
          "data": {
            "text/plain": [
              "3"
            ]
          },
          "metadata": {},
          "execution_count": 1
        }
      ],
      "source": [
        "1 + 2"
      ]
    },
    {
      "cell_type": "markdown",
      "source": [
        "#### **Soustraction de nombres**"
      ],
      "metadata": {
        "id": "lPtvU_2czyB7"
      }
    },
    {
      "cell_type": "code",
      "source": [
        "2 - 2"
      ],
      "metadata": {
        "colab": {
          "base_uri": "https://localhost:8080/"
        },
        "id": "15ziPs3U2tI_",
        "outputId": "1c06a60f-2463-4c20-da3c-95c286b8538c"
      },
      "execution_count": null,
      "outputs": [
        {
          "output_type": "execute_result",
          "data": {
            "text/plain": [
              "0"
            ]
          },
          "metadata": {},
          "execution_count": 2
        }
      ]
    },
    {
      "cell_type": "markdown",
      "source": [
        "#### **Division de nombres**"
      ],
      "metadata": {
        "id": "33c4uoeyz3mk"
      }
    },
    {
      "cell_type": "code",
      "source": [
        "2 / 2"
      ],
      "metadata": {
        "colab": {
          "base_uri": "https://localhost:8080/"
        },
        "id": "lEbNoMAl2tjN",
        "outputId": "029c9c4f-289f-4f20-ccd8-50ff4d583428"
      },
      "execution_count": null,
      "outputs": [
        {
          "output_type": "execute_result",
          "data": {
            "text/plain": [
              "1.0"
            ]
          },
          "metadata": {},
          "execution_count": 3
        }
      ]
    },
    {
      "cell_type": "markdown",
      "source": [
        "#### **Multiplication de nombres**"
      ],
      "metadata": {
        "id": "UPocqDKhz7yk"
      }
    },
    {
      "cell_type": "code",
      "source": [
        "2 * 5"
      ],
      "metadata": {
        "colab": {
          "base_uri": "https://localhost:8080/"
        },
        "id": "lygyTUSw2uXf",
        "outputId": "ccb1b43b-d107-454d-e9d9-5b4c5d5a735a"
      },
      "execution_count": null,
      "outputs": [
        {
          "output_type": "execute_result",
          "data": {
            "text/plain": [
              "10"
            ]
          },
          "metadata": {},
          "execution_count": 4
        }
      ]
    },
    {
      "cell_type": "markdown",
      "source": [
        "#### **Puissance de nombres**"
      ],
      "metadata": {
        "id": "G5Z8MM750Arl"
      }
    },
    {
      "cell_type": "code",
      "source": [
        "2**4"
      ],
      "metadata": {
        "colab": {
          "base_uri": "https://localhost:8080/"
        },
        "id": "8zH-tE3I37f8",
        "outputId": "a45e2c9a-ac56-4a3e-9b62-38c2f3391b94"
      },
      "execution_count": null,
      "outputs": [
        {
          "output_type": "execute_result",
          "data": {
            "text/plain": [
              "16"
            ]
          },
          "metadata": {},
          "execution_count": 5
        }
      ]
    }
  ]
}