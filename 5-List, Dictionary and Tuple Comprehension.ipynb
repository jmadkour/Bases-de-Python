{
  "nbformat": 4,
  "nbformat_minor": 0,
  "metadata": {
    "colab": {
      "provenance": [],
      "authorship_tag": "ABX9TyNhinOSwyQvBTeH5QT7+B4J",
      "include_colab_link": true
    },
    "kernelspec": {
      "name": "python3",
      "display_name": "Python 3"
    },
    "language_info": {
      "name": "python"
    }
  },
  "cells": [
    {
      "cell_type": "markdown",
      "metadata": {
        "id": "view-in-github",
        "colab_type": "text"
      },
      "source": [
        "<a href=\"https://colab.research.google.com/github/jmadkour/Bases-de-Python/blob/main/5-List%2C%20Dictionary%20and%20Tuple%20Comprehension.ipynb\" target=\"_parent\"><img src=\"https://colab.research.google.com/assets/colab-badge.svg\" alt=\"Open In Colab\"/></a>"
      ]
    },
    {
      "cell_type": "markdown",
      "source": [
        "## **List, Dictionary and Tuple Comprehension**\n",
        "Insesrion d'une boucle **For** à l'interieur d'une **liste** ou d'un **dictionnaire**, voire à l'intérieur d'un **tuple**. Cela présente 3 avantages:\n",
        "* Economiser les lignes de code\n",
        "* Gagner en temps d'exécution\n",
        "* C'est plus professionnel, plus Python!"
      ],
      "metadata": {
        "id": "fqHbfVf-Fe8I"
      }
    },
    {
      "cell_type": "markdown",
      "source": [
        "###**List comprehension**\n",
        "\n",
        "Créer la liste des carrés des nombres entiers 0, 1,...,9."
      ],
      "metadata": {
        "id": "s3k6I6vgkNcA"
      }
    },
    {
      "cell_type": "markdown",
      "source": [
        "**Méthode 1:** Passer par une boucle **for**"
      ],
      "metadata": {
        "id": "AvWm-gFxgCB-"
      }
    },
    {
      "cell_type": "code",
      "source": [
        "# En utilisant les crochets []\n",
        "liste_1 = [] \n",
        "for i in range(10):\n",
        "  liste_1.append(i**2)\n",
        "print(liste_1)"
      ],
      "metadata": {
        "id": "DnQoM_u6bDZk",
        "colab": {
          "base_uri": "https://localhost:8080/"
        },
        "outputId": "84280de4-99f7-4a94-d510-081c1b02c95d"
      },
      "execution_count": null,
      "outputs": [
        {
          "output_type": "stream",
          "name": "stdout",
          "text": [
            "[0, 1, 4, 9, 16, 25, 36, 49, 64, 81]\n"
          ]
        }
      ]
    },
    {
      "cell_type": "code",
      "source": [
        "# En utilisant la fonction list()\n",
        "liste_1 = list()\n",
        "for i in range(10):\n",
        "  liste_1.append(i**2)\n",
        "print(liste_1)"
      ],
      "metadata": {
        "colab": {
          "base_uri": "https://localhost:8080/"
        },
        "id": "GkvUBoJ0yYdA",
        "outputId": "d2d119a0-792d-429c-b0c8-f6aee512303f"
      },
      "execution_count": null,
      "outputs": [
        {
          "output_type": "stream",
          "name": "stdout",
          "text": [
            "[0, 1, 4, 9, 16, 25, 36, 49, 64, 81]\n"
          ]
        }
      ]
    },
    {
      "cell_type": "markdown",
      "source": [
        "**Méthode 2:** List comprehension"
      ],
      "metadata": {
        "id": "HCU5xBvFgeNv"
      }
    },
    {
      "cell_type": "code",
      "source": [
        "# En utilisant les crochets []\n",
        "liste_2 = [ i**2 for i in range(10) ]\n",
        "liste_2"
      ],
      "metadata": {
        "colab": {
          "base_uri": "https://localhost:8080/"
        },
        "id": "l1gXnCk0glVY",
        "outputId": "832738e4-76a3-46a0-d49e-bfa39049223d"
      },
      "execution_count": null,
      "outputs": [
        {
          "output_type": "execute_result",
          "data": {
            "text/plain": [
              "[0, 1, 4, 9, 16, 25, 36, 49, 64, 81]"
            ]
          },
          "metadata": {},
          "execution_count": 66
        }
      ]
    },
    {
      "cell_type": "code",
      "source": [
        "# En utilisant la fonction list()\n",
        "liste_2 = list(i**2 for i in range(10))\n",
        "liste_2"
      ],
      "metadata": {
        "colab": {
          "base_uri": "https://localhost:8080/"
        },
        "id": "qIUPQt5-foCR",
        "outputId": "2a4faac9-52a3-4197-dfa2-75c63a15d339"
      },
      "execution_count": null,
      "outputs": [
        {
          "output_type": "execute_result",
          "data": {
            "text/plain": [
              "[0, 1, 4, 9, 16, 25, 36, 49, 64, 81]"
            ]
          },
          "metadata": {},
          "execution_count": 67
        }
      ]
    },
    {
      "cell_type": "markdown",
      "source": [
        "**On peut même ajouter une condition**"
      ],
      "metadata": {
        "id": "F4bjRXKtlOJ1"
      }
    },
    {
      "cell_type": "code",
      "source": [
        "# En utilisant les crochets []\n",
        "liste_3 = [ i**2 for i in range(10) if i < 5]\n",
        "liste_3"
      ],
      "metadata": {
        "colab": {
          "base_uri": "https://localhost:8080/"
        },
        "id": "wN4HmfFbjnLn",
        "outputId": "45ce43d2-0808-46c6-9d39-574a1be537a9"
      },
      "execution_count": null,
      "outputs": [
        {
          "output_type": "execute_result",
          "data": {
            "text/plain": [
              "[0, 1, 4, 9, 16]"
            ]
          },
          "metadata": {},
          "execution_count": 68
        }
      ]
    },
    {
      "cell_type": "code",
      "source": [
        "# En utilisant la fonction list()\n",
        "liste_3 = list(i**2 for i in range(10) if i <5)\n",
        "liste_3"
      ],
      "metadata": {
        "colab": {
          "base_uri": "https://localhost:8080/"
        },
        "id": "jLdn5ZCMypzW",
        "outputId": "7da77d37-c4e8-47a8-acb2-1fbc87f4feb9"
      },
      "execution_count": null,
      "outputs": [
        {
          "output_type": "execute_result",
          "data": {
            "text/plain": [
              "[0, 1, 4, 9, 16]"
            ]
          },
          "metadata": {},
          "execution_count": 69
        }
      ]
    },
    {
      "cell_type": "markdown",
      "source": [
        "###**Dictionary comprehension**\n",
        "\n",
        "Créer un dictionnaire à partir d'une ou deux listes."
      ],
      "metadata": {
        "id": "1XvWgcaJh6sw"
      }
    },
    {
      "cell_type": "code",
      "source": [
        "personnes = ['Omar', 'Karim', 'Fatima','Leila']\n",
        "ages = [24,23,25,15]"
      ],
      "metadata": {
        "id": "OGVPw1JAjQ4W"
      },
      "execution_count": null,
      "outputs": []
    },
    {
      "cell_type": "markdown",
      "source": [
        "**Méthode 1:** Passer par une boucle **for**"
      ],
      "metadata": {
        "id": "pYIFlq4kmMbW"
      }
    },
    {
      "cell_type": "code",
      "source": [
        "# En utilisant les accolades {} et enumerate()\n",
        "dict_1 = {}\n",
        "for index,personne in enumerate(personnes):\n",
        "  dict_1[index] = personne\n",
        "\n",
        "dict_1"
      ],
      "metadata": {
        "colab": {
          "base_uri": "https://localhost:8080/"
        },
        "id": "PS1Sp3i2mTeU",
        "outputId": "d4bf50d8-c6a1-4a04-fb48-ab0b3ae204eb"
      },
      "execution_count": null,
      "outputs": [
        {
          "output_type": "execute_result",
          "data": {
            "text/plain": [
              "{0: 'Omar', 1: 'Karim', 2: 'Fatima', 3: 'Leila'}"
            ]
          },
          "metadata": {},
          "execution_count": 52
        }
      ]
    },
    {
      "cell_type": "code",
      "source": [
        "# En utilisant la fonction dict() et enumerate()\n",
        "dict_1 = dict()\n",
        "for index,personne in enumerate(personnes):\n",
        "  dict_1[index] = personne\n",
        "\n",
        "dict_1"
      ],
      "metadata": {
        "id": "LUE3BjEkpLCt",
        "colab": {
          "base_uri": "https://localhost:8080/"
        },
        "outputId": "4e7301dc-1c80-46f1-e554-d7572b19e767"
      },
      "execution_count": null,
      "outputs": [
        {
          "output_type": "execute_result",
          "data": {
            "text/plain": [
              "{0: 'Omar', 1: 'Karim', 2: 'Fatima', 3: 'Leila'}"
            ]
          },
          "metadata": {},
          "execution_count": 53
        }
      ]
    },
    {
      "cell_type": "code",
      "source": [
        "# En utilisant les accolades {} et zip()\n",
        "dict_2 = {}\n",
        "for personne,age in zip(personnes,ages):\n",
        "  dict_2[personne] = age\n",
        "\n",
        "dict_2"
      ],
      "metadata": {
        "colab": {
          "base_uri": "https://localhost:8080/"
        },
        "id": "nNmkTXWHnIcs",
        "outputId": "2ba83267-6967-40a1-b1fe-7d2648a5e5f0"
      },
      "execution_count": null,
      "outputs": [
        {
          "output_type": "execute_result",
          "data": {
            "text/plain": [
              "{'Omar': 24, 'Karim': 23, 'Fatima': 25, 'Leila': 15}"
            ]
          },
          "metadata": {},
          "execution_count": 32
        }
      ]
    },
    {
      "cell_type": "code",
      "source": [
        "# En utilisant la fonction dict() et zip()\n",
        "dict_2 = dict()\n",
        "for personne,age in zip(personnes,ages):\n",
        "  dict_2[personne] = age\n",
        "\n",
        "dict_2"
      ],
      "metadata": {
        "colab": {
          "base_uri": "https://localhost:8080/"
        },
        "id": "sbZ5OfE3vgEN",
        "outputId": "edc04f1c-a631-4799-a1dc-3e2c9186e11a"
      },
      "execution_count": null,
      "outputs": [
        {
          "output_type": "execute_result",
          "data": {
            "text/plain": [
              "{'Omar': 24, 'Karim': 23, 'Fatima': 25, 'Leila': 15}"
            ]
          },
          "metadata": {},
          "execution_count": 54
        }
      ]
    },
    {
      "cell_type": "markdown",
      "source": [
        "**Méthode 2:** Dictionary comprehension"
      ],
      "metadata": {
        "id": "T0uAM_rMmut6"
      }
    },
    {
      "cell_type": "code",
      "source": [
        "# En utilisant les accolades {} et enumerate()\n",
        "dict_3 = {index:personne for index,personne in enumerate(personnes)}\n",
        "dict_3"
      ],
      "metadata": {
        "colab": {
          "base_uri": "https://localhost:8080/"
        },
        "id": "rquXlgDyibHt",
        "outputId": "5cc44e88-94b7-4d37-b23f-61329bb7f4c9"
      },
      "execution_count": null,
      "outputs": [
        {
          "output_type": "execute_result",
          "data": {
            "text/plain": [
              "{0: 'Omar', 1: 'Karim', 2: 'Fatima', 3: 'Leila'}"
            ]
          },
          "metadata": {},
          "execution_count": 70
        }
      ]
    },
    {
      "cell_type": "code",
      "source": [
        "# En utilisant la fonction dict() et enumerate()\n",
        "dict_3 = dict( (index,personne) for (index,personne) in enumerate(personnes))\n",
        "dict_3"
      ],
      "metadata": {
        "colab": {
          "base_uri": "https://localhost:8080/"
        },
        "id": "OiMI23tIolMG",
        "outputId": "ef29f48d-d52a-4ba0-c051-551e6d752787"
      },
      "execution_count": null,
      "outputs": [
        {
          "output_type": "execute_result",
          "data": {
            "text/plain": [
              "{0: 'Omar', 1: 'Karim', 2: 'Fatima', 3: 'Leila'}"
            ]
          },
          "metadata": {},
          "execution_count": 71
        }
      ]
    },
    {
      "cell_type": "code",
      "source": [
        "# En utilisant les accolades {} et zip()\n",
        "dict_4 = {prenom:age for prenom,age in zip(personnes,ages)}\n",
        "dict_4"
      ],
      "metadata": {
        "colab": {
          "base_uri": "https://localhost:8080/"
        },
        "id": "jZfCJG9pi2ur",
        "outputId": "3f07f080-cb93-42f9-f02b-d8eb6c9cc85f"
      },
      "execution_count": null,
      "outputs": [
        {
          "output_type": "execute_result",
          "data": {
            "text/plain": [
              "{'Omar': 24, 'Karim': 23, 'Fatima': 25, 'Leila': 15}"
            ]
          },
          "metadata": {},
          "execution_count": 72
        }
      ]
    },
    {
      "cell_type": "code",
      "source": [
        "# En utilisant la fonction dict() et zip() -> Attention: il faut fournir des tuples! à la boucle for\n",
        "dict_4 = dict( (prenom,age) for (prenom,age) in zip(personnes,ages) )\n",
        "dict_4"
      ],
      "metadata": {
        "colab": {
          "base_uri": "https://localhost:8080/"
        },
        "id": "IZu5bvpio8NT",
        "outputId": "ca8abce2-990e-4208-c547-0ea1185efcab"
      },
      "execution_count": null,
      "outputs": [
        {
          "output_type": "execute_result",
          "data": {
            "text/plain": [
              "{'Omar': 24, 'Karim': 23, 'Fatima': 25, 'Leila': 15}"
            ]
          },
          "metadata": {},
          "execution_count": 74
        }
      ]
    },
    {
      "cell_type": "markdown",
      "source": [
        "**On peut même ajouter une condition**"
      ],
      "metadata": {
        "id": "dZ_jih0CnhrY"
      }
    },
    {
      "cell_type": "code",
      "source": [
        "# En utilisant les accolades {} et enumerate()\n",
        "dict_5 = {index:personne for index,personne in enumerate(personnes) if index < 2}\n",
        "dict_5"
      ],
      "metadata": {
        "colab": {
          "base_uri": "https://localhost:8080/"
        },
        "id": "uLqvbjMR0MEI",
        "outputId": "aac50234-1b1a-445d-e895-2f285319c940"
      },
      "execution_count": null,
      "outputs": [
        {
          "output_type": "execute_result",
          "data": {
            "text/plain": [
              "{0: 'Omar', 1: 'Karim'}"
            ]
          },
          "metadata": {},
          "execution_count": 75
        }
      ]
    },
    {
      "cell_type": "code",
      "source": [
        "# En utilisant la fonction dict() et zip() -> Attention: il faut fournir des tuples! à la boucle for\n",
        "dict_5 = dict( (index,personne) for (index,personne) in enumerate(personnes) if index < 2)\n",
        "dict_5"
      ],
      "metadata": {
        "colab": {
          "base_uri": "https://localhost:8080/"
        },
        "id": "35P7027q0Myr",
        "outputId": "70b4423a-055f-4356-f0c9-86d226a2740a"
      },
      "execution_count": null,
      "outputs": [
        {
          "output_type": "execute_result",
          "data": {
            "text/plain": [
              "{0: 'Omar', 1: 'Karim'}"
            ]
          },
          "metadata": {},
          "execution_count": 77
        }
      ]
    },
    {
      "cell_type": "code",
      "source": [
        "# En utilisant les accolades {} et zip()\n",
        "dict_6 = {prenom:age for prenom,age in zip(personnes,ages) if age < 24}\n",
        "dict_6"
      ],
      "metadata": {
        "colab": {
          "base_uri": "https://localhost:8080/"
        },
        "id": "xvaHC5QhjL2A",
        "outputId": "38058bc2-9a5e-424c-92f4-8cbe74c72314"
      },
      "execution_count": null,
      "outputs": [
        {
          "output_type": "execute_result",
          "data": {
            "text/plain": [
              "{'Karim': 23, 'Leila': 15}"
            ]
          },
          "metadata": {},
          "execution_count": 78
        }
      ]
    },
    {
      "cell_type": "code",
      "source": [
        "# En utilisant la fonction dict() et zip() -> Attention: il faut fournir des tuples! à la boucle for\n",
        "dict_6 = dict( (prenom,age) for (prenom,age) in zip(personnes,ages) if age < 24)\n",
        "dict_6"
      ],
      "metadata": {
        "colab": {
          "base_uri": "https://localhost:8080/"
        },
        "id": "ft15RmpFxtxq",
        "outputId": "e59c9917-4e40-4538-ac43-8f7ab3a193e8"
      },
      "execution_count": null,
      "outputs": [
        {
          "output_type": "execute_result",
          "data": {
            "text/plain": [
              "{'Karim': 23, 'Leila': 15}"
            ]
          },
          "metadata": {},
          "execution_count": 79
        }
      ]
    },
    {
      "cell_type": "markdown",
      "source": [
        "####**Tuple comprehension**\n",
        "\n",
        "Créer le tuple des carrés des nombres entiers 0, 1,...,9."
      ],
      "metadata": {
        "id": "1DeJobvhjutI"
      }
    },
    {
      "cell_type": "markdown",
      "source": [
        "**Méthode 1:** Passer par une boucle **for**"
      ],
      "metadata": {
        "id": "PvTJ5Mgg1brw"
      }
    },
    {
      "cell_type": "code",
      "source": [
        "# Impossible parce qu'un tuple est immuable!"
      ],
      "metadata": {
        "id": "3TCiJ3vr1xWx"
      },
      "execution_count": null,
      "outputs": []
    },
    {
      "cell_type": "markdown",
      "source": [
        "**Méthode 2:** Tuple comprehension"
      ],
      "metadata": {
        "id": "0LSkqcMe1hLD"
      }
    },
    {
      "cell_type": "code",
      "source": [
        "# En utilisant les parenthèses -> Impossible! cela produit un générateur\n",
        "tuple_1 = (i**2 for i in range(10) )\n",
        "tuple_1"
      ],
      "metadata": {
        "colab": {
          "base_uri": "https://localhost:8080/"
        },
        "id": "u-60rMd82EAk",
        "outputId": "1c1fbe93-577e-44e7-97e8-d61fc6c3648c"
      },
      "execution_count": null,
      "outputs": [
        {
          "output_type": "execute_result",
          "data": {
            "text/plain": [
              "<generator object <genexpr> at 0x7f6b5197d970>"
            ]
          },
          "metadata": {},
          "execution_count": 82
        }
      ]
    },
    {
      "cell_type": "code",
      "source": [
        "# En utilisant la fonction tuple() -> la seule possibilité\n",
        "tuple_1 = tuple(i**2 for i in range(10))\n",
        "tuple_1"
      ],
      "metadata": {
        "colab": {
          "base_uri": "https://localhost:8080/"
        },
        "id": "EnRQLFfxjhPf",
        "outputId": "d127c0e9-43a4-47f7-de29-82cbe6442bf0"
      },
      "execution_count": null,
      "outputs": [
        {
          "output_type": "execute_result",
          "data": {
            "text/plain": [
              "(0, 1, 4, 9, 16, 25, 36, 49, 64, 81)"
            ]
          },
          "metadata": {},
          "execution_count": 83
        }
      ]
    },
    {
      "cell_type": "markdown",
      "source": [
        "**On peut même ajouter une condition**"
      ],
      "metadata": {
        "id": "n0-qlrc61GTl"
      }
    },
    {
      "cell_type": "code",
      "source": [
        "# En utilisant la fonction tuple()\n",
        "tuple_2 = tuple(i**2 for i in range(10) if i < 5)\n",
        "tuple_2"
      ],
      "metadata": {
        "colab": {
          "base_uri": "https://localhost:8080/"
        },
        "id": "wSm6WPRkj8Wo",
        "outputId": "27885b23-4a9b-402f-9966-7693bebd6c81"
      },
      "execution_count": null,
      "outputs": [
        {
          "output_type": "execute_result",
          "data": {
            "text/plain": [
              "(0, 1, 4, 9, 16)"
            ]
          },
          "metadata": {},
          "execution_count": 84
        }
      ]
    }
  ]
}