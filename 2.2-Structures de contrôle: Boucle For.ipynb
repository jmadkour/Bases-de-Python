{
  "nbformat": 4,
  "nbformat_minor": 0,
  "metadata": {
    "colab": {
      "provenance": [],
      "authorship_tag": "ABX9TyPMVT+nTEYN9OxGPKoMGBOd",
      "include_colab_link": true
    },
    "kernelspec": {
      "name": "python3",
      "display_name": "Python 3"
    },
    "language_info": {
      "name": "python"
    }
  },
  "cells": [
    {
      "cell_type": "markdown",
      "metadata": {
        "id": "view-in-github",
        "colab_type": "text"
      },
      "source": [
        "<a href=\"https://colab.research.google.com/github/jmadkour/Bases-de-Python/blob/main/2.2-Structures%20de%20contr%C3%B4le%3A%20Boucle%20For.ipynb\" target=\"_parent\"><img src=\"https://colab.research.google.com/assets/colab-badge.svg\" alt=\"Open In Colab\"/></a>"
      ]
    },
    {
      "cell_type": "markdown",
      "source": [
        "### **Strcutures de contrôle**\n",
        "* Test conditionnel if / elif / else\n",
        "* Boucle for\n",
        "* Boucle while"
      ],
      "metadata": {
        "id": "fqHbfVf-Fe8I"
      }
    },
    {
      "cell_type": "markdown",
      "source": [
        "####**Boucle for**\n",
        "Une boucle **for** permet d'exécuter la même tâche un nombre défini de fois."
      ],
      "metadata": {
        "id": "KkMatQbyEgB7"
      }
    },
    {
      "cell_type": "markdown",
      "source": [
        "**Exemple introductif:** \n",
        "\n",
        "La somme $x_1 + x_2 + \\cdots + x_n$ peut s'écrire de manière plus compacte à l'aide de l'opérateur $\\Sigma$ comme suit: $\\sum_{i=1}^{n} x_i$\n",
        "\n",
        "On remarque que tous les éléments qui ne changent pas dans la somme (les lettres $x$ dans notre exemple) ont été maintenus et que tous les éléments qui changent dans la somme (les indices 1,2,...,$n$) ont été remplacés par la lettre (dite variable muette) $i$ en précisant sa valeur initiale (1 dans notre exemple) et sa valeur finale ($n$ dans notre exemple). La variable $i$ est incrémentée de 1 à chaque fois.\n",
        "\n",
        "L'oprateur $\\Sigma$ permet de faire la même opération d'addition des valeurs de $x$ plusieurs fois. La somme des valeurs de $x$ est répétée en **boucle**."
      ],
      "metadata": {
        "id": "T0WSvf5KV935"
      }
    },
    {
      "cell_type": "markdown",
      "source": [
        "#####**Imprimer les nombres de 0 à 9**"
      ],
      "metadata": {
        "id": "rYJM2a8XXVgW"
      }
    },
    {
      "cell_type": "code",
      "source": [
        "print(0)\n",
        "print(1)\n",
        "print(2)\n",
        "print(3)\n",
        "print(4)\n",
        "print(5)\n",
        "print(6)\n",
        "print(7)\n",
        "print(8)\n",
        "print(9)"
      ],
      "metadata": {
        "colab": {
          "base_uri": "https://localhost:8080/"
        },
        "id": "B5hQfhjPpqOw",
        "outputId": "c4897320-37f3-4b72-df34-7c08ff04121d"
      },
      "execution_count": null,
      "outputs": [
        {
          "output_type": "stream",
          "name": "stdout",
          "text": [
            "0\n",
            "1\n",
            "2\n",
            "3\n",
            "4\n",
            "5\n",
            "6\n",
            "7\n",
            "8\n",
            "9\n"
          ]
        }
      ]
    },
    {
      "cell_type": "code",
      "source": [
        "for i in range(10): # range(10) = Intervalle semi-fermé [0 , 10[\n",
        "  print(i)"
      ],
      "metadata": {
        "colab": {
          "base_uri": "https://localhost:8080/"
        },
        "id": "p6jU0DNETg4-",
        "outputId": "9004a779-094b-437b-8462-7fe7a816c0b1"
      },
      "execution_count": null,
      "outputs": [
        {
          "output_type": "stream",
          "name": "stdout",
          "text": [
            "0\n",
            "1\n",
            "2\n",
            "3\n",
            "4\n",
            "5\n",
            "6\n",
            "7\n",
            "8\n",
            "9\n"
          ]
        }
      ]
    },
    {
      "cell_type": "markdown",
      "source": [
        "#####**Comprendre la fonction range(valeur initiale , valeur finale , incrément)**\n",
        "\n",
        "La fonction **range()** a 3 arguments:\n",
        "* Valeur intiale: 0 est la valeur par défaut (elle est incluse);\n",
        "* Valeur finale: à fournir (elle est exclue)\n",
        "* Incrément: 1 est la valeur par défaut\n",
        "\n"
      ],
      "metadata": {
        "id": "HSZJTEJgX60j"
      }
    },
    {
      "cell_type": "markdown",
      "source": [
        "#####**Imprimer les nombres de 1 à 9 avec un incrément de 1**"
      ],
      "metadata": {
        "id": "ZWGCmNC4aT2c"
      }
    },
    {
      "cell_type": "code",
      "source": [
        "for i in range(0,10,1): # range(10)\n",
        "  print(i)"
      ],
      "metadata": {
        "colab": {
          "base_uri": "https://localhost:8080/"
        },
        "id": "RSxMPYJIXzBj",
        "outputId": "2709c517-f709-416a-f24d-5f6e77fd09c5"
      },
      "execution_count": null,
      "outputs": [
        {
          "output_type": "stream",
          "name": "stdout",
          "text": [
            "0\n",
            "1\n",
            "2\n",
            "3\n",
            "4\n",
            "5\n",
            "6\n",
            "7\n",
            "8\n",
            "9\n"
          ]
        }
      ]
    },
    {
      "cell_type": "markdown",
      "source": [
        "#####**Imprimer les nombres de 2 à 9 avec un incrément de 2**"
      ],
      "metadata": {
        "id": "s2tpAhwcaieY"
      }
    },
    {
      "cell_type": "code",
      "source": [
        "for i in range(2,10,2): # range(2,10,2) = [ 2 , 4 , 6 , 8 , 10 [\n",
        "  print(i)"
      ],
      "metadata": {
        "colab": {
          "base_uri": "https://localhost:8080/"
        },
        "id": "kLPFkWHgY53r",
        "outputId": "c7282c2a-a536-462c-d002-7c5cecd95638"
      },
      "execution_count": null,
      "outputs": [
        {
          "output_type": "stream",
          "name": "stdout",
          "text": [
            "2\n",
            "4\n",
            "6\n",
            "8\n"
          ]
        }
      ]
    },
    {
      "cell_type": "markdown",
      "source": [
        "#####**Imprimer le texte \"bonjour\" 10 fois**"
      ],
      "metadata": {
        "id": "twQhA3eGat1d"
      }
    },
    {
      "cell_type": "code",
      "source": [
        "for i in range(10): # range(0,10,1)\n",
        "  print(\"bonjour\")"
      ],
      "metadata": {
        "colab": {
          "base_uri": "https://localhost:8080/"
        },
        "id": "ZbdipYPqaJlY",
        "outputId": "8bf87d5e-6795-454e-8f26-b4678329a62f"
      },
      "execution_count": null,
      "outputs": [
        {
          "output_type": "stream",
          "name": "stdout",
          "text": [
            "bonjour\n",
            "bonjour\n",
            "bonjour\n",
            "bonjour\n",
            "bonjour\n",
            "bonjour\n",
            "bonjour\n",
            "bonjour\n",
            "bonjour\n",
            "bonjour\n"
          ]
        }
      ]
    },
    {
      "cell_type": "markdown",
      "source": [
        "#####**Imprimer le texte \"bonjour\" 10 fois en indicant le numéro de l'incrémentation**"
      ],
      "metadata": {
        "id": "OsFs-_89bHHT"
      }
    },
    {
      "cell_type": "code",
      "source": [
        "for i in range(10): # range(0,100,1)\n",
        "  print(\"bonjour numéro :\" , i)"
      ],
      "metadata": {
        "colab": {
          "base_uri": "https://localhost:8080/"
        },
        "id": "DZpR6OAna8NW",
        "outputId": "a457ca6b-069d-492a-df8c-ea77f1cfbeea"
      },
      "execution_count": null,
      "outputs": [
        {
          "output_type": "stream",
          "name": "stdout",
          "text": [
            "bonjour numéro : 0\n",
            "bonjour numéro : 1\n",
            "bonjour numéro : 2\n",
            "bonjour numéro : 3\n",
            "bonjour numéro : 4\n",
            "bonjour numéro : 5\n",
            "bonjour numéro : 6\n",
            "bonjour numéro : 7\n",
            "bonjour numéro : 8\n",
            "bonjour numéro : 9\n"
          ]
        }
      ]
    },
    {
      "cell_type": "markdown",
      "source": [
        "####**Application**\n",
        "\n",
        "Calculer la puissance $n$ des $k$ premiers nombres entiers y compris 0."
      ],
      "metadata": {
        "id": "5FNbt3UtbbzH"
      }
    },
    {
      "cell_type": "code",
      "source": [
        "n , k = 2 , 10 \n",
        "for i in range(0, k, 1):\n",
        "  print('La puissance' , n , 'du nombre' , i , 'est égale à' , i**n)"
      ],
      "metadata": {
        "id": "XLMjPdXybTA_",
        "colab": {
          "base_uri": "https://localhost:8080/"
        },
        "outputId": "d3cc7302-c987-4828-b594-69baa351fae4"
      },
      "execution_count": null,
      "outputs": [
        {
          "output_type": "stream",
          "name": "stdout",
          "text": [
            "La puissance 2 du nombre 0 est égale à 0\n",
            "La puissance 2 du nombre 1 est égale à 1\n",
            "La puissance 2 du nombre 2 est égale à 4\n",
            "La puissance 2 du nombre 3 est égale à 9\n",
            "La puissance 2 du nombre 4 est égale à 16\n",
            "La puissance 2 du nombre 5 est égale à 25\n",
            "La puissance 2 du nombre 6 est égale à 36\n",
            "La puissance 2 du nombre 7 est égale à 49\n",
            "La puissance 2 du nombre 8 est égale à 64\n",
            "La puissance 2 du nombre 9 est égale à 81\n"
          ]
        }
      ]
    }
  ]
}