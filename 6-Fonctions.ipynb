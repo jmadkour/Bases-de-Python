{
  "nbformat": 4,
  "nbformat_minor": 0,
  "metadata": {
    "colab": {
      "provenance": [],
      "authorship_tag": "ABX9TyM+dS3dDhcXPF/KKd0kDrH7",
      "include_colab_link": true
    },
    "kernelspec": {
      "name": "python3",
      "display_name": "Python 3"
    },
    "language_info": {
      "name": "python"
    }
  },
  "cells": [
    {
      "cell_type": "markdown",
      "metadata": {
        "id": "view-in-github",
        "colab_type": "text"
      },
      "source": [
        "<a href=\"https://colab.research.google.com/github/jmadkour/Bases-de-Python/blob/main/6-Fonctions.ipynb\" target=\"_parent\"><img src=\"https://colab.research.google.com/assets/colab-badge.svg\" alt=\"Open In Colab\"/></a>"
      ]
    },
    {
      "cell_type": "markdown",
      "source": [
        "## **Built-in Functions**\n",
        "Python dispose de fonctions natives que l'on peut utiliser indépendamment des modules, leur noms sont réservés au langage Python et ne peuvent être utilisés comme noms de fonctions ou de variables. Ce fonctions natives sont listées par ordre alphabétique dans le site [**suivant**](https://docs.python.org/3/library/functions.html):\n"
      ],
      "metadata": {
        "id": "fqHbfVf-Fe8I"
      }
    },
    {
      "cell_type": "markdown",
      "source": [
        "###**A**\n",
        "* **abs()**\n",
        "* aiter()\n",
        "* all()\n",
        "* any()\n",
        "* anext()\n",
        "* ascii()"
      ],
      "metadata": {
        "id": "adAK_uDn4MBg"
      }
    },
    {
      "cell_type": "code",
      "source": [
        "x = -1\n",
        "abs(x)"
      ],
      "metadata": {
        "colab": {
          "base_uri": "https://localhost:8080/"
        },
        "id": "yMGtDa2LfW5D",
        "outputId": "e4ba12cd-7aa3-44c9-88f3-cfc2f7621f9a"
      },
      "execution_count": null,
      "outputs": [
        {
          "output_type": "execute_result",
          "data": {
            "text/plain": [
              "1"
            ]
          },
          "metadata": {},
          "execution_count": 1
        }
      ]
    },
    {
      "cell_type": "markdown",
      "source": [
        "###**B**\n",
        "* bin()\n",
        "* **bool()**\n",
        "* breakpoint()\n",
        "* bytearray()\n",
        "* bytes()"
      ],
      "metadata": {
        "id": "o2_QLpCg4G-l"
      }
    },
    {
      "cell_type": "code",
      "source": [
        "bool(0)"
      ],
      "metadata": {
        "colab": {
          "base_uri": "https://localhost:8080/"
        },
        "id": "dzCtYjMafii8",
        "outputId": "5c80fce2-9d95-4d3f-d7d0-8e759784f4c6"
      },
      "execution_count": null,
      "outputs": [
        {
          "output_type": "execute_result",
          "data": {
            "text/plain": [
              "False"
            ]
          },
          "metadata": {},
          "execution_count": 4
        }
      ]
    },
    {
      "cell_type": "markdown",
      "source": [
        "###**C**\n",
        "* callable()\n",
        "* chr()\n",
        "* classmethod()\n",
        "* compile()\n",
        "* complex()"
      ],
      "metadata": {
        "id": "_sQmfEyV4C-I"
      }
    },
    {
      "cell_type": "markdown",
      "source": [
        "###**D**\n",
        "* delattr()\n",
        "* **dict()**\n",
        "* dir()\n",
        "* divmod()"
      ],
      "metadata": {
        "id": "X7FwJjre3_mQ"
      }
    },
    {
      "cell_type": "code",
      "source": [
        "dict_1 = dict()\n",
        "dict_1"
      ],
      "metadata": {
        "colab": {
          "base_uri": "https://localhost:8080/"
        },
        "id": "_FQSvlTjfrNc",
        "outputId": "828d77c7-f98a-47d9-fe46-d0c3347dc57f"
      },
      "execution_count": null,
      "outputs": [
        {
          "output_type": "execute_result",
          "data": {
            "text/plain": [
              "{}"
            ]
          },
          "metadata": {},
          "execution_count": 59
        }
      ]
    },
    {
      "cell_type": "code",
      "source": [
        "help(dict)"
      ],
      "metadata": {
        "id": "Xrr9178-gLZm"
      },
      "execution_count": null,
      "outputs": []
    },
    {
      "cell_type": "markdown",
      "source": [
        "###**E**\n",
        "* **enumerate()**\n",
        "* eval()\n",
        "* exec()"
      ],
      "metadata": {
        "id": "2mqFLpj738Ll"
      }
    },
    {
      "cell_type": "code",
      "source": [
        "names = ['name_1','name_2','name_3','name_4']"
      ],
      "metadata": {
        "id": "cHpalVMxhiWi"
      },
      "execution_count": null,
      "outputs": []
    },
    {
      "cell_type": "code",
      "source": [
        "for n in enumerate(names):\n",
        "  print(n)"
      ],
      "metadata": {
        "colab": {
          "base_uri": "https://localhost:8080/"
        },
        "id": "chLY2B-ch9Ip",
        "outputId": "3cd779aa-c808-4df1-d349-f259d32eff54"
      },
      "execution_count": null,
      "outputs": [
        {
          "output_type": "stream",
          "name": "stdout",
          "text": [
            "(0, 'name_1')\n",
            "(1, 'name_2')\n",
            "(2, 'name_3')\n",
            "(3, 'name_4')\n"
          ]
        }
      ]
    },
    {
      "cell_type": "code",
      "source": [
        "for n,item in enumerate(names):\n",
        "  print(n , item)"
      ],
      "metadata": {
        "colab": {
          "base_uri": "https://localhost:8080/"
        },
        "id": "0dq7YcUHh-sp",
        "outputId": "063a72af-bced-497b-8088-7c89628ccc5f"
      },
      "execution_count": null,
      "outputs": [
        {
          "output_type": "stream",
          "name": "stdout",
          "text": [
            "0 name_1\n",
            "1 name_2\n",
            "2 name_3\n",
            "3 name_4\n"
          ]
        }
      ]
    },
    {
      "cell_type": "markdown",
      "source": [
        "###**F**\n",
        "* filter()\n",
        "* **float()**\n",
        "* **format()**\n",
        "* frozenset()"
      ],
      "metadata": {
        "id": "7wxeQEVe34gZ"
      }
    },
    {
      "cell_type": "code",
      "source": [
        "x = 2\n",
        "print(x , 'est de type' , type(x))"
      ],
      "metadata": {
        "colab": {
          "base_uri": "https://localhost:8080/"
        },
        "id": "PTgU6kDniIOO",
        "outputId": "8b04ed43-f1a2-441e-ecc3-9b5af80e0f46"
      },
      "execution_count": null,
      "outputs": [
        {
          "output_type": "stream",
          "name": "stdout",
          "text": [
            "2 est de type <class 'int'>\n"
          ]
        }
      ]
    },
    {
      "cell_type": "code",
      "source": [
        "y = float(x)\n",
        "print(y , 'est de type ', type(y))"
      ],
      "metadata": {
        "colab": {
          "base_uri": "https://localhost:8080/"
        },
        "id": "e5SbFdREiPOC",
        "outputId": "d795f153-4e77-4556-e743-435a65822cc6"
      },
      "execution_count": null,
      "outputs": [
        {
          "output_type": "stream",
          "name": "stdout",
          "text": [
            "2.0 est de type  <class 'float'>\n"
          ]
        }
      ]
    },
    {
      "cell_type": "code",
      "source": [
        "print('{} est de type {}'.format(y,type(y)))"
      ],
      "metadata": {
        "colab": {
          "base_uri": "https://localhost:8080/"
        },
        "id": "nUH_pZZFikYx",
        "outputId": "5a850d2f-a25b-4630-e781-2a77943453c0"
      },
      "execution_count": null,
      "outputs": [
        {
          "output_type": "stream",
          "name": "stdout",
          "text": [
            "2.0 est de type <class 'float'>\n"
          ]
        }
      ]
    },
    {
      "cell_type": "markdown",
      "source": [
        "###**G**\n",
        "* getattr()\n",
        "* globals()"
      ],
      "metadata": {
        "id": "SzelBXlZ3zUY"
      }
    },
    {
      "cell_type": "markdown",
      "source": [
        "###**H**\n",
        "* hasattr()\n",
        "* hash()\n",
        "* **help()**\n",
        "* hex()"
      ],
      "metadata": {
        "id": "HFl3I0pB3vDV"
      }
    },
    {
      "cell_type": "code",
      "source": [
        "help(format)"
      ],
      "metadata": {
        "colab": {
          "base_uri": "https://localhost:8080/"
        },
        "id": "7Xx-9sSWiwh1",
        "outputId": "3a6715eb-26f8-4d1a-a434-4ec5e2c611d8"
      },
      "execution_count": null,
      "outputs": [
        {
          "output_type": "stream",
          "name": "stdout",
          "text": [
            "Help on built-in function format in module builtins:\n",
            "\n",
            "format(value, format_spec='', /)\n",
            "    Return value.__format__(format_spec)\n",
            "    \n",
            "    format_spec defaults to the empty string.\n",
            "    See the Format Specification Mini-Language section of help('FORMATTING') for\n",
            "    details.\n",
            "\n"
          ]
        }
      ]
    },
    {
      "cell_type": "markdown",
      "source": [
        "###**I**\n",
        "* id()\n",
        "* **input()**\n",
        "* **int()**\n",
        "* isinstance()\n",
        "* issubclass()\n",
        "* iter()"
      ],
      "metadata": {
        "id": "kktd0Hl_3qw4"
      }
    },
    {
      "cell_type": "code",
      "source": [
        "mp = input('Saisir votre mot de passe:')"
      ],
      "metadata": {
        "colab": {
          "base_uri": "https://localhost:8080/"
        },
        "id": "6frQuwJMi58J",
        "outputId": "ddfeb157-a1e8-4215-e414-3565c2a97b9d"
      },
      "execution_count": null,
      "outputs": [
        {
          "name": "stdout",
          "output_type": "stream",
          "text": [
            "Saisir votre mot de passe:24\n"
          ]
        }
      ]
    },
    {
      "cell_type": "code",
      "source": [
        "mp"
      ],
      "metadata": {
        "colab": {
          "base_uri": "https://localhost:8080/",
          "height": 36
        },
        "id": "RHLxLY0xjDL4",
        "outputId": "199a51e7-c9cf-427a-8d7c-5ccbc0bef387"
      },
      "execution_count": null,
      "outputs": [
        {
          "output_type": "execute_result",
          "data": {
            "text/plain": [
              "'24'"
            ],
            "application/vnd.google.colaboratory.intrinsic+json": {
              "type": "string"
            }
          },
          "metadata": {},
          "execution_count": 27
        }
      ]
    },
    {
      "cell_type": "code",
      "source": [
        "y = 2.0\n",
        "print(y)"
      ],
      "metadata": {
        "colab": {
          "base_uri": "https://localhost:8080/"
        },
        "id": "bN5Piqi3jQfl",
        "outputId": "17a42e8b-31fc-48b0-86b9-6cf828cb2005"
      },
      "execution_count": null,
      "outputs": [
        {
          "output_type": "stream",
          "name": "stdout",
          "text": [
            "2.0\n"
          ]
        }
      ]
    },
    {
      "cell_type": "code",
      "source": [
        "print(int(y))"
      ],
      "metadata": {
        "colab": {
          "base_uri": "https://localhost:8080/"
        },
        "id": "rt_uY0HHjZDZ",
        "outputId": "f018f5b3-5b93-4493-8282-bf57fb02a090"
      },
      "execution_count": null,
      "outputs": [
        {
          "output_type": "stream",
          "name": "stdout",
          "text": [
            "2\n"
          ]
        }
      ]
    },
    {
      "cell_type": "markdown",
      "source": [
        "###**L**\n",
        "* **len()**\n",
        "* **list()**\n",
        "* locals()"
      ],
      "metadata": {
        "id": "Ov6V2T7m3mYE"
      }
    },
    {
      "cell_type": "code",
      "source": [
        "names = ['name_1','name_2','name_3','name_4']\n",
        "names"
      ],
      "metadata": {
        "colab": {
          "base_uri": "https://localhost:8080/"
        },
        "id": "DGgu0_GLjc8F",
        "outputId": "fe3c8f1c-1acf-49c0-900f-9f95db96e482"
      },
      "execution_count": null,
      "outputs": [
        {
          "output_type": "execute_result",
          "data": {
            "text/plain": [
              "['name_1', 'name_2', 'name_3', 'name_4']"
            ]
          },
          "metadata": {},
          "execution_count": 37
        }
      ]
    },
    {
      "cell_type": "code",
      "source": [
        "len(names)"
      ],
      "metadata": {
        "colab": {
          "base_uri": "https://localhost:8080/"
        },
        "id": "ueZufCQZjecJ",
        "outputId": "493224dc-a447-4f91-ab5c-0162b8315c1b"
      },
      "execution_count": null,
      "outputs": [
        {
          "output_type": "execute_result",
          "data": {
            "text/plain": [
              "4"
            ]
          },
          "metadata": {},
          "execution_count": 32
        }
      ]
    },
    {
      "cell_type": "code",
      "source": [
        "names_2 = list(['name_1','name_2','name_3','name_4'])\n",
        "names_2"
      ],
      "metadata": {
        "colab": {
          "base_uri": "https://localhost:8080/"
        },
        "id": "FnfRUVQ4jiRN",
        "outputId": "07477931-8203-4a99-b52e-0ffbfbd7b189"
      },
      "execution_count": null,
      "outputs": [
        {
          "output_type": "execute_result",
          "data": {
            "text/plain": [
              "['name_1', 'name_2', 'name_3', 'name_4']"
            ]
          },
          "metadata": {},
          "execution_count": 36
        }
      ]
    },
    {
      "cell_type": "code",
      "source": [
        "numbers = list()\n",
        "for i in range(10):\n",
        "  numbers.append(i)\n",
        "\n",
        "numbers"
      ],
      "metadata": {
        "colab": {
          "base_uri": "https://localhost:8080/"
        },
        "id": "Q8dN9Sh_kFOa",
        "outputId": "57ea3080-2f79-406a-bcdf-6cc00012ed77"
      },
      "execution_count": null,
      "outputs": [
        {
          "output_type": "execute_result",
          "data": {
            "text/plain": [
              "[0, 1, 2, 3, 4, 5, 6, 7, 8, 9]"
            ]
          },
          "metadata": {},
          "execution_count": 38
        }
      ]
    },
    {
      "cell_type": "markdown",
      "source": [
        "###**M**\n",
        "* map()\n",
        "* **max()**\n",
        "* memoryview()\n",
        "* **min()**"
      ],
      "metadata": {
        "id": "5xMO22Bt3hsi"
      }
    },
    {
      "cell_type": "code",
      "source": [
        "numbers_max = max(numbers)\n",
        "numbers_max"
      ],
      "metadata": {
        "colab": {
          "base_uri": "https://localhost:8080/"
        },
        "id": "Sh_tU2VZkVBB",
        "outputId": "8dc58305-875e-429c-cb45-81d605228640"
      },
      "execution_count": null,
      "outputs": [
        {
          "output_type": "execute_result",
          "data": {
            "text/plain": [
              "9"
            ]
          },
          "metadata": {},
          "execution_count": 41
        }
      ]
    },
    {
      "cell_type": "code",
      "source": [
        "numbers_min = min(numbers)\n",
        "numbers_min"
      ],
      "metadata": {
        "colab": {
          "base_uri": "https://localhost:8080/"
        },
        "id": "1_ZdsqpNklRF",
        "outputId": "7f6dde19-500e-452b-c8f3-7efe1f7cff82"
      },
      "execution_count": null,
      "outputs": [
        {
          "output_type": "execute_result",
          "data": {
            "text/plain": [
              "0"
            ]
          },
          "metadata": {},
          "execution_count": 42
        }
      ]
    },
    {
      "cell_type": "markdown",
      "source": [
        "###**N**\n",
        "* next()"
      ],
      "metadata": {
        "id": "V9I6WCA_3eRj"
      }
    },
    {
      "cell_type": "markdown",
      "source": [
        "###**O**\n",
        "* object()\n",
        "* oct()\n",
        "* open()\n",
        "* ord()"
      ],
      "metadata": {
        "id": "rTqWce1o3ZkY"
      }
    },
    {
      "cell_type": "markdown",
      "source": [
        "###**P**\n",
        "* pow()\n",
        "* **print()**\n",
        "* property()"
      ],
      "metadata": {
        "id": "IvqAQV0Z3Ut0"
      }
    },
    {
      "cell_type": "code",
      "source": [
        "print(numbers_min , numbers_max)"
      ],
      "metadata": {
        "colab": {
          "base_uri": "https://localhost:8080/"
        },
        "id": "zrcI0VUlkqRU",
        "outputId": "7dba25a2-ffa4-4de7-cb24-1e1cfe869197"
      },
      "execution_count": null,
      "outputs": [
        {
          "output_type": "stream",
          "name": "stdout",
          "text": [
            "0 9\n"
          ]
        }
      ]
    },
    {
      "cell_type": "markdown",
      "source": [
        "###**R**\n",
        "* **range()**\n",
        "* repr()\n",
        "* reversed()\n",
        "* **round()**"
      ],
      "metadata": {
        "id": "mLyS5NBn3EvB"
      }
    },
    {
      "cell_type": "code",
      "source": [
        "x = range(1 , 12 , 2)\n",
        "x"
      ],
      "metadata": {
        "colab": {
          "base_uri": "https://localhost:8080/"
        },
        "id": "8tDDaCMgkxat",
        "outputId": "22f35d01-090d-4235-e10a-adddffdcae8b"
      },
      "execution_count": null,
      "outputs": [
        {
          "output_type": "execute_result",
          "data": {
            "text/plain": [
              "range(1, 12, 2)"
            ]
          },
          "metadata": {},
          "execution_count": 44
        }
      ]
    },
    {
      "cell_type": "code",
      "source": [
        "round(2/3)"
      ],
      "metadata": {
        "colab": {
          "base_uri": "https://localhost:8080/"
        },
        "id": "HmOZPRoMk87R",
        "outputId": "55ecd4d5-ac93-42f5-c459-168f8948e937"
      },
      "execution_count": null,
      "outputs": [
        {
          "output_type": "execute_result",
          "data": {
            "text/plain": [
              "1"
            ]
          },
          "metadata": {},
          "execution_count": 46
        }
      ]
    },
    {
      "cell_type": "code",
      "source": [
        "round(2/3,2)"
      ],
      "metadata": {
        "colab": {
          "base_uri": "https://localhost:8080/"
        },
        "id": "aP7XmbTAlCU4",
        "outputId": "c995e0f0-49de-4e32-fb73-ca3ebee30e89"
      },
      "execution_count": null,
      "outputs": [
        {
          "output_type": "execute_result",
          "data": {
            "text/plain": [
              "0.67"
            ]
          },
          "metadata": {},
          "execution_count": 47
        }
      ]
    },
    {
      "cell_type": "markdown",
      "source": [
        "###**S**\n",
        "* set()\n",
        "* setattr()\n",
        "* slice()\n",
        "* sorted()\n",
        "* staticmethod()\n",
        "* **str()**\n",
        "* **sum()**\n",
        "* super()"
      ],
      "metadata": {
        "id": "iB2aTpaa2oKX"
      }
    },
    {
      "cell_type": "code",
      "source": [
        "x = 2\n",
        "print(x , 'est de type' , type(x))"
      ],
      "metadata": {
        "colab": {
          "base_uri": "https://localhost:8080/"
        },
        "id": "19tcE6c-lGd4",
        "outputId": "9dd1f774-dfc6-4332-fac0-d8e9f0f0c1ca"
      },
      "execution_count": null,
      "outputs": [
        {
          "output_type": "stream",
          "name": "stdout",
          "text": [
            "2 est de type <class 'int'>\n"
          ]
        }
      ]
    },
    {
      "cell_type": "code",
      "source": [
        "x = str(2)\n",
        "print(x , 'est de type' , type(x))"
      ],
      "metadata": {
        "colab": {
          "base_uri": "https://localhost:8080/"
        },
        "id": "4i-kBbHllNC8",
        "outputId": "d1b9f64d-8226-48a4-95bd-e8459eb2b997"
      },
      "execution_count": null,
      "outputs": [
        {
          "output_type": "stream",
          "name": "stdout",
          "text": [
            "2 est de type <class 'str'>\n"
          ]
        }
      ]
    },
    {
      "cell_type": "code",
      "source": [
        "x/2"
      ],
      "metadata": {
        "colab": {
          "base_uri": "https://localhost:8080/",
          "height": 165
        },
        "id": "4uIHGYA7lc3X",
        "outputId": "1cba90c4-c0ba-413f-a916-7c1e8eca4b34"
      },
      "execution_count": null,
      "outputs": [
        {
          "output_type": "error",
          "ename": "TypeError",
          "evalue": "ignored",
          "traceback": [
            "\u001b[0;31m---------------------------------------------------------------------------\u001b[0m",
            "\u001b[0;31mTypeError\u001b[0m                                 Traceback (most recent call last)",
            "\u001b[0;32m<ipython-input-52-a9af5bba98c4>\u001b[0m in \u001b[0;36m<module>\u001b[0;34m\u001b[0m\n\u001b[0;32m----> 1\u001b[0;31m \u001b[0mx\u001b[0m\u001b[0;34m/\u001b[0m\u001b[0;36m2\u001b[0m\u001b[0;34m\u001b[0m\u001b[0;34m\u001b[0m\u001b[0m\n\u001b[0m",
            "\u001b[0;31mTypeError\u001b[0m: unsupported operand type(s) for /: 'str' and 'int'"
          ]
        }
      ]
    },
    {
      "cell_type": "code",
      "source": [
        "numbers = list()\n",
        "for i in range(10):\n",
        "  numbers.append(i)\n",
        "\n",
        "sum(numbers)"
      ],
      "metadata": {
        "colab": {
          "base_uri": "https://localhost:8080/"
        },
        "id": "S4kSuO6Xmh4t",
        "outputId": "630b074a-1a71-4794-85d6-95e7eac8a9e5"
      },
      "execution_count": null,
      "outputs": [
        {
          "output_type": "execute_result",
          "data": {
            "text/plain": [
              "45"
            ]
          },
          "metadata": {},
          "execution_count": 61
        }
      ]
    },
    {
      "cell_type": "markdown",
      "source": [
        "###**T**\n",
        "* **tuple()**\n",
        "* **type()**"
      ],
      "metadata": {
        "id": "9Df9M4072oHE"
      }
    },
    {
      "cell_type": "code",
      "source": [
        "tuple_1 = tuple([2,2,2])\n",
        "tuple_1"
      ],
      "metadata": {
        "colab": {
          "base_uri": "https://localhost:8080/"
        },
        "id": "QdsnNwrnlhZI",
        "outputId": "9e532845-8e84-4c58-eeae-6029fe0458d5"
      },
      "execution_count": null,
      "outputs": [
        {
          "output_type": "execute_result",
          "data": {
            "text/plain": [
              "(2, 2, 2)"
            ]
          },
          "metadata": {},
          "execution_count": 56
        }
      ]
    },
    {
      "cell_type": "markdown",
      "source": [
        "###**V**\n",
        "* vars()"
      ],
      "metadata": {
        "id": "QzOEA--p2oBV"
      }
    },
    {
      "cell_type": "markdown",
      "source": [
        "###**Z**\n",
        "* **zip()**"
      ],
      "metadata": {
        "id": "SRE5xB9i2n4L"
      }
    },
    {
      "cell_type": "code",
      "source": [
        "numbers"
      ],
      "metadata": {
        "colab": {
          "base_uri": "https://localhost:8080/"
        },
        "id": "5iN8igK1muGE",
        "outputId": "02f6697d-991c-4992-be3b-36f23b8e93d0"
      },
      "execution_count": null,
      "outputs": [
        {
          "output_type": "execute_result",
          "data": {
            "text/plain": [
              "[0, 1, 2, 3, 4, 5, 6, 7, 8, 9]"
            ]
          },
          "metadata": {},
          "execution_count": 62
        }
      ]
    },
    {
      "cell_type": "code",
      "source": [
        "names"
      ],
      "metadata": {
        "colab": {
          "base_uri": "https://localhost:8080/"
        },
        "id": "4sjvU5cfmxVT",
        "outputId": "a3949383-c555-4446-f8b3-4b6cae832850"
      },
      "execution_count": null,
      "outputs": [
        {
          "output_type": "execute_result",
          "data": {
            "text/plain": [
              "['name_1', 'name_2', 'name_3', 'name_4']"
            ]
          },
          "metadata": {},
          "execution_count": 63
        }
      ]
    },
    {
      "cell_type": "code",
      "source": [
        "for number , name in zip(numbers,names):\n",
        "  print(number,name)"
      ],
      "metadata": {
        "colab": {
          "base_uri": "https://localhost:8080/"
        },
        "id": "VwEWOOnXmy9S",
        "outputId": "0fb2d617-8ce3-4627-aded-fdb879906a01"
      },
      "execution_count": null,
      "outputs": [
        {
          "output_type": "stream",
          "name": "stdout",
          "text": [
            "0 name_1\n",
            "1 name_2\n",
            "2 name_3\n",
            "3 name_4\n"
          ]
        }
      ]
    },
    {
      "cell_type": "markdown",
      "source": [
        "###**__**\n",
        "* __import__()"
      ],
      "metadata": {
        "id": "pa3AiNW42nQl"
      }
    },
    {
      "cell_type": "markdown",
      "source": [
        "## **Fonctions personnalisées**\n",
        "Les fonctions natives de Python sont insuffiasantes, l'utilisateur sera amené à créer ses propres fonctions."
      ],
      "metadata": {
        "id": "qXkTCYM45Z3n"
      }
    },
    {
      "cell_type": "markdown",
      "source": [
        "### **def** \n",
        "\n",
        "\n",
        "```\n",
        "def ma_fonction(parametre_1=valeur_1 , parametre_2=valeur_2,...):\n",
        "  instruction_1\n",
        "  instruction_2\n",
        "  ...\n",
        "  return resultat\n",
        "```\n",
        "\n"
      ],
      "metadata": {
        "id": "e_HZk7Nz6F7M"
      }
    },
    {
      "cell_type": "markdown",
      "source": [
        "Le mot clé **def** siganle à Python que l'on souhaite créer une fonction dont le nom est **ma_fonction**. Ce nom doit non seulement obéir aux mêmes règles appliquées au choix du nom d'une variable mais il ne doit, en plus, pas être un nom réservé aux fonctions natives de Python. \n",
        "\n",
        "La fonction **ma_fonction** dépend d'un certain nombre de paramètres (**parametre_1**=**valeur_1**, **parametre_2**=**valeur_2**,...). Elle exécute un certain nombre d'instructions (**instruction_1**, **instruction_2**,...) et retourne éventuellement un résultat **resultat**.\n",
        "\n",
        "Les noms des paramètres **parametre_1**, **paramètre_2**... peuvent être explicitement indiqués avec leur valeurs respectives **valeur_1**, **valeur_2**, ... Dans ce cas, l'ordre des paramètres n'a pas d'importance. Il suffit aussi de donner les valeurs **valeur_1**, **valeur_2**, ... des paramètres **parametre_1**, **paramètre_2**... sans indiquer ces derniers. Dans ce cas, l'ordre d'apparition des valeurs **valeur_1**, **valeur_2**, ... doit impérativement correspondre à l'ordre d'apparition des paramètres **parametre_1**, **paramètre_2**... dans la définition de la fonction **ma_fonction**.\n",
        "\n",
        "Certains paramètres **parametre_1**, **paramètre_2**... peuvent prendre des valeurs par défaut **valeur_1**, **valeur_2** attribuées lors de la définition de la fonction **ma_fonction** (placés à la fin de la liste des paramètres). Dans ce cas, la fonction **ma_fonction** peut être appelée sans ces parfamètres qui prendront leur valeurs par défaut. "
      ],
      "metadata": {
        "id": "i5ZIs_wuvYJG"
      }
    },
    {
      "cell_type": "markdown",
      "source": [
        "**Exemple 1:**\n",
        "\n",
        "Créer une fonction pour la résolution de l'équation du second degré $ax^2 + bx + c = 0$. If faut suivre les étapes suivantes dans l'ordre (un algorithme):\n",
        "1. Calculer le discriminant $\\Delta = b^2 -4ac$;\n",
        "2. Etudier le signe du discriminant $\\Delta$:\n",
        "  *  Si $\\Delta > 0$, l'équation admet 2 racines réelles distinctes $x_1= \\frac{-b - \\sqrt{\\Delta}}{2a}$ et $x_2 = \\frac{-b + \\sqrt{\\Delta}}{2a}$ \n",
        "  *  Si $\\Delta = 0$, l'équation admet 1 racine réelle double $x = \\frac{-b}{2a}$\n",
        "  *  Si $\\Delta < 0$, l'équation n'admet pas de racines réelles, mais des racines complexes."
      ],
      "metadata": {
        "id": "Ex8Od9pcrpUZ"
      }
    },
    {
      "cell_type": "code",
      "source": [
        "import math # le module math contient la fonction sqrt (square root)\n",
        "def resolution(a , b , c):\n",
        "  D = b**2 -4*a*c\n",
        "  if D > 0:\n",
        "    x1 = (-b - math.sqrt(D)) / (2*a)\n",
        "    x2 = (-b + math.sqrt(D)) / (2*a)\n",
        "    print(\"L'équation admet 2 racines réelles: \" , x1 , ' et ' , x2)\n",
        "  elif D == 0:\n",
        "    x = -b / (2*a)\n",
        "    print(\"L'équation admet une racine réelle double:\" , x )\n",
        "  else:\n",
        "    print(\"L'équation n'admet pas de racine réelle\")"
      ],
      "metadata": {
        "id": "tUeYNeZqqwY8"
      },
      "execution_count": null,
      "outputs": []
    },
    {
      "cell_type": "code",
      "source": [
        "# Appeler la fonction en indiquant explicitement le nom des paramètres (l'ordre des paramètres n'a pas d'importance):\n",
        "resolution(a=2, b=1, c=-3)"
      ],
      "metadata": {
        "colab": {
          "base_uri": "https://localhost:8080/"
        },
        "id": "GJLC8kX-zlf9",
        "outputId": "eccb662e-9c03-410e-febe-6dbb2e80eab0"
      },
      "execution_count": null,
      "outputs": [
        {
          "output_type": "stream",
          "name": "stdout",
          "text": [
            "L'équation admet 2 racines réelles:  -1.5  et  1.0\n"
          ]
        }
      ]
    },
    {
      "cell_type": "code",
      "source": [
        "# Appeler la fonction en indiquant explicitement le nom des paramètres (l'ordre des paramètres n'a pas d'importance):\n",
        "resolution(a=2, c=-3, b=1)"
      ],
      "metadata": {
        "colab": {
          "base_uri": "https://localhost:8080/"
        },
        "id": "mIvCSvkI0RYN",
        "outputId": "bab2c31b-b295-4866-f7a5-a3be3b1bd014"
      },
      "execution_count": null,
      "outputs": [
        {
          "output_type": "stream",
          "name": "stdout",
          "text": [
            "L'équation admet 2 racines réelles:  -1.5  et  1.0\n"
          ]
        }
      ]
    },
    {
      "cell_type": "code",
      "source": [
        "# Appeler la fonction sans en indiquer le nom des paramètres (l'ordre des paramètres doit être respecté):\n",
        "resolution(2, 1, -3)"
      ],
      "metadata": {
        "colab": {
          "base_uri": "https://localhost:8080/"
        },
        "id": "8soy4hg40jyp",
        "outputId": "cd7e3c8b-8ee5-4109-bb46-257f709d3b84"
      },
      "execution_count": null,
      "outputs": [
        {
          "output_type": "stream",
          "name": "stdout",
          "text": [
            "L'équation admet 2 racines réelles:  -1.5  et  1.0\n"
          ]
        }
      ]
    },
    {
      "cell_type": "markdown",
      "source": [
        "**Exemple 2:**\n",
        "\n",
        "Pour la résolution de l'équation du premier degré $bx + c = 0$, il suffit de donner la valeur 0 par défaut au paramètre a de la fonction **resolution** précédente."
      ],
      "metadata": {
        "id": "hJ6wGzWg3bX8"
      }
    },
    {
      "cell_type": "code",
      "source": [
        "# Calculer la puissance n du nombre m:\n",
        "def puissance( m, n=2):\n",
        "  return m**n"
      ],
      "metadata": {
        "id": "cA8h8OJg0yCw"
      },
      "execution_count": null,
      "outputs": []
    },
    {
      "cell_type": "code",
      "source": [
        "puissance( 4 )"
      ],
      "metadata": {
        "colab": {
          "base_uri": "https://localhost:8080/"
        },
        "id": "fk5inCWp4NcU",
        "outputId": "f2164d83-29d0-4765-ea69-a17f77008318"
      },
      "execution_count": null,
      "outputs": [
        {
          "output_type": "execute_result",
          "data": {
            "text/plain": [
              "16"
            ]
          },
          "metadata": {},
          "execution_count": 79
        }
      ]
    },
    {
      "cell_type": "code",
      "source": [
        "puissance( 4 , 2 )"
      ],
      "metadata": {
        "id": "MHGyvIuK6CIf",
        "outputId": "d3b65a91-1062-47f4-ce6e-6290958b447b",
        "colab": {
          "base_uri": "https://localhost:8080/"
        }
      },
      "execution_count": null,
      "outputs": [
        {
          "output_type": "execute_result",
          "data": {
            "text/plain": [
              "16"
            ]
          },
          "metadata": {},
          "execution_count": 80
        }
      ]
    },
    {
      "cell_type": "code",
      "source": [
        "puissance( 4 , 3 )"
      ],
      "metadata": {
        "id": "fzD0luB56Foo",
        "outputId": "64be0ef3-c064-4849-e40e-47758409d6bd",
        "colab": {
          "base_uri": "https://localhost:8080/"
        }
      },
      "execution_count": null,
      "outputs": [
        {
          "output_type": "execute_result",
          "data": {
            "text/plain": [
              "64"
            ]
          },
          "metadata": {},
          "execution_count": 81
        }
      ]
    },
    {
      "cell_type": "markdown",
      "source": [
        "### **Fonction lambda**\n",
        "\n",
        "\n",
        "\n",
        "```\n",
        "resultat = lambda ma_fonction parametre_1, parametre_2 : une_seule_instruction\n",
        "```\n",
        "\n",
        "\n",
        "\n",
        "La fonction **lambda** est une fonction particulière qui exécute **une_seule_instruction** à partir d'un ensemble de paramètres **parametre_1**, **parametre_2**,... et retourne éventuellement un résultat **resultat**. "
      ],
      "metadata": {
        "id": "vEYGJK5hqJmF"
      }
    },
    {
      "cell_type": "markdown",
      "source": [
        "**Exemple:**"
      ],
      "metadata": {
        "id": "wIMIj-Fjynvh"
      }
    },
    {
      "cell_type": "code",
      "source": [
        "# Calculer la somme de 2 nombres x et y:\n",
        "somme = lambda x,y: x+y"
      ],
      "metadata": {
        "id": "rNJk_vXNxnDR"
      },
      "execution_count": null,
      "outputs": []
    },
    {
      "cell_type": "code",
      "source": [
        "somme(2,5)"
      ],
      "metadata": {
        "colab": {
          "base_uri": "https://localhost:8080/"
        },
        "id": "j7-Oy8lQy544",
        "outputId": "75932bfd-1a21-45e2-8926-1c3920176dc1"
      },
      "execution_count": null,
      "outputs": [
        {
          "output_type": "execute_result",
          "data": {
            "text/plain": [
              "7"
            ]
          },
          "metadata": {},
          "execution_count": 66
        }
      ]
    },
    {
      "cell_type": "code",
      "source": [],
      "metadata": {
        "id": "Q6RU_dbFy8Dh"
      },
      "execution_count": null,
      "outputs": []
    }
  ]
}