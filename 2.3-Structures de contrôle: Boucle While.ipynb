{
  "nbformat": 4,
  "nbformat_minor": 0,
  "metadata": {
    "colab": {
      "provenance": [],
      "authorship_tag": "ABX9TyP/36KeHsCLfEIXBzPkvzLw",
      "include_colab_link": true
    },
    "kernelspec": {
      "name": "python3",
      "display_name": "Python 3"
    },
    "language_info": {
      "name": "python"
    }
  },
  "cells": [
    {
      "cell_type": "markdown",
      "metadata": {
        "id": "view-in-github",
        "colab_type": "text"
      },
      "source": [
        "<a href=\"https://colab.research.google.com/github/jmadkour/Bases-de-Python/blob/main/2.3-Structures%20de%20contr%C3%B4le%3A%20Boucle%20While.ipynb\" target=\"_parent\"><img src=\"https://colab.research.google.com/assets/colab-badge.svg\" alt=\"Open In Colab\"/></a>"
      ]
    },
    {
      "cell_type": "markdown",
      "source": [
        "### **Strcutures de contrôle**\n",
        "* Test conditionnel if / elif / else\n",
        "* Boucle for\n",
        "* Boucle while (= for + if)"
      ],
      "metadata": {
        "id": "fqHbfVf-Fe8I"
      }
    },
    {
      "cell_type": "markdown",
      "source": [
        "####**Boucle while**\n",
        "Une boucle **while** permet d'exécuter la même tâche tant qu'une condition est vérifiée. La boucle **while** est un mélange de la boucle **for** et du test conditionnel **if**."
      ],
      "metadata": {
        "id": "KkMatQbyEgB7"
      }
    },
    {
      "cell_type": "markdown",
      "source": [
        "**Exemple 1:**"
      ],
      "metadata": {
        "id": "45ejOUMKAhp-"
      }
    },
    {
      "cell_type": "code",
      "source": [
        "x = 0\n",
        "while x < 10: \n",
        "  print(x)\n",
        "  x = x + 1"
      ],
      "metadata": {
        "id": "tBEj1o6rAQp7",
        "colab": {
          "base_uri": "https://localhost:8080/"
        },
        "outputId": "b35b6832-1578-4a8c-b948-75f85613e6bc"
      },
      "execution_count": null,
      "outputs": [
        {
          "output_type": "stream",
          "name": "stdout",
          "text": [
            "0\n",
            "1\n",
            "2\n",
            "3\n",
            "4\n",
            "5\n",
            "6\n",
            "7\n",
            "8\n",
            "9\n"
          ]
        }
      ]
    },
    {
      "cell_type": "markdown",
      "source": [
        "**Exemple 2:**"
      ],
      "metadata": {
        "id": "qJM9XumfAl4g"
      }
    },
    {
      "cell_type": "code",
      "source": [
        "i = 0\n",
        "while i < 20:\n",
        "  print('bonjour numéro : ' , i )\n",
        "  i = i + 2"
      ],
      "metadata": {
        "id": "tG0DUbyjcbEV",
        "colab": {
          "base_uri": "https://localhost:8080/"
        },
        "outputId": "910c759a-7179-4572-e94d-fa8ab1e159da"
      },
      "execution_count": null,
      "outputs": [
        {
          "output_type": "stream",
          "name": "stdout",
          "text": [
            "bonjour numéro :  0\n",
            "bonjour numéro :  2\n",
            "bonjour numéro :  4\n",
            "bonjour numéro :  6\n",
            "bonjour numéro :  8\n",
            "bonjour numéro :  10\n",
            "bonjour numéro :  12\n",
            "bonjour numéro :  14\n",
            "bonjour numéro :  16\n",
            "bonjour numéro :  18\n"
          ]
        }
      ]
    },
    {
      "cell_type": "markdown",
      "source": [
        "Une manière équivalent d'incrémenter la variable i de 1 ( i = i + 1 ) est i += 1"
      ],
      "metadata": {
        "id": "SXBQnga4dr7w"
      }
    },
    {
      "cell_type": "code",
      "source": [
        "i = 0\n",
        "while i < 10:\n",
        "  print('bonjour numéro : ' , i )\n",
        "  i +=  1 # une autre manière d'incrémenter une variable"
      ],
      "metadata": {
        "id": "UMtDm3o2d85M",
        "colab": {
          "base_uri": "https://localhost:8080/"
        },
        "outputId": "7a7fbca4-5724-4ad0-caf0-383e1e7860bf"
      },
      "execution_count": null,
      "outputs": [
        {
          "output_type": "stream",
          "name": "stdout",
          "text": [
            "bonjour numéro :  0\n",
            "bonjour numéro :  1\n",
            "bonjour numéro :  2\n",
            "bonjour numéro :  3\n",
            "bonjour numéro :  4\n",
            "bonjour numéro :  5\n",
            "bonjour numéro :  6\n",
            "bonjour numéro :  7\n",
            "bonjour numéro :  8\n",
            "bonjour numéro :  9\n"
          ]
        }
      ]
    },
    {
      "cell_type": "markdown",
      "source": [
        "####**Application**\n",
        "\n",
        "Calculer la puissance $n$ des $k$ premiers nombres entiers."
      ],
      "metadata": {
        "id": "v5nVgAybeDMr"
      }
    },
    {
      "cell_type": "code",
      "source": [
        "n , k = 2 , 10\n",
        "i = 0\n",
        "while i < k:\n",
        "  print('La puissance ' , n , 'du nombre ' , i , 'est égale à ' , i**n)\n",
        "  i += 1"
      ],
      "metadata": {
        "id": "Sw393jSjeA-p",
        "colab": {
          "base_uri": "https://localhost:8080/"
        },
        "outputId": "b3dfd8ce-9668-4ad7-c277-e2009e4539c7"
      },
      "execution_count": null,
      "outputs": [
        {
          "output_type": "stream",
          "name": "stdout",
          "text": [
            "La puissance  2 du nombre  0 est égale à  0\n",
            "La puissance  2 du nombre  1 est égale à  1\n",
            "La puissance  2 du nombre  2 est égale à  4\n",
            "La puissance  2 du nombre  3 est égale à  9\n",
            "La puissance  2 du nombre  4 est égale à  16\n",
            "La puissance  2 du nombre  5 est égale à  25\n",
            "La puissance  2 du nombre  6 est égale à  36\n",
            "La puissance  2 du nombre  7 est égale à  49\n",
            "La puissance  2 du nombre  8 est égale à  64\n",
            "La puissance  2 du nombre  9 est égale à  81\n"
          ]
        }
      ]
    }
  ]
}