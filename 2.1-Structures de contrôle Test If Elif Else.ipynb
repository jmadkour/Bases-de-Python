{
  "nbformat": 4,
  "nbformat_minor": 0,
  "metadata": {
    "colab": {
      "provenance": [],
      "authorship_tag": "ABX9TyNUwmgyMHaiOKfyuo19g6cK",
      "include_colab_link": true
    },
    "kernelspec": {
      "name": "python3",
      "display_name": "Python 3"
    },
    "language_info": {
      "name": "python"
    }
  },
  "cells": [
    {
      "cell_type": "markdown",
      "metadata": {
        "id": "view-in-github",
        "colab_type": "text"
      },
      "source": [
        "<a href=\"https://colab.research.google.com/github/jmadkour/Bases-de-Python/blob/main/2.1-Structures%20de%20contr%C3%B4le%20Test%20If%20Elif%20Else.ipynb\" target=\"_parent\"><img src=\"https://colab.research.google.com/assets/colab-badge.svg\" alt=\"Open In Colab\"/></a>"
      ]
    },
    {
      "cell_type": "markdown",
      "source": [
        "### **Strcutures de contrôle**\n",
        "* Test conditionnel if / elif / else\n",
        "* Boucle for\n",
        "* Boucle while"
      ],
      "metadata": {
        "id": "fqHbfVf-Fe8I"
      }
    },
    {
      "cell_type": "markdown",
      "source": [
        "####**Test conditionnel if / elif / else**"
      ],
      "metadata": {
        "id": "KkMatQbyEgB7"
      }
    },
    {
      "cell_type": "markdown",
      "source": [
        "#####**Test conditionnel if**\n",
        "\n",
        "Si la condition est vraie, effectuer l'action demandée. Pour le reste, ne rien faire."
      ],
      "metadata": {
        "id": "ZPd92hwBHgbR"
      }
    },
    {
      "cell_type": "code",
      "source": [
        "x = 1\n",
        "if x > 0:\n",
        "  print('x est positif')"
      ],
      "metadata": {
        "id": "SJMgGFdAEnSc",
        "colab": {
          "base_uri": "https://localhost:8080/"
        },
        "outputId": "b15d3cc8-6acb-4788-adaf-e0d539b93f9d"
      },
      "execution_count": null,
      "outputs": [
        {
          "output_type": "stream",
          "name": "stdout",
          "text": [
            "x est positif\n"
          ]
        }
      ]
    },
    {
      "cell_type": "markdown",
      "source": [
        "#####**Test conditionnel if / else**\n",
        "\n",
        "Si la condition est vraie, effectuer l'action demandée. Sinon, effectuer l'autre action."
      ],
      "metadata": {
        "id": "YCLKHytsHnya"
      }
    },
    {
      "cell_type": "code",
      "source": [
        "x = -1\n",
        "if x > 0:\n",
        "  print('x est positif')\n",
        "else:\n",
        "  print(\"x n'est pas positif\")"
      ],
      "metadata": {
        "colab": {
          "base_uri": "https://localhost:8080/"
        },
        "id": "_TNyqLC8Epnr",
        "outputId": "8e69edf6-1d56-43e2-82b3-fe0f24720234"
      },
      "execution_count": null,
      "outputs": [
        {
          "output_type": "stream",
          "name": "stdout",
          "text": [
            "x n'est pas positif\n"
          ]
        }
      ]
    },
    {
      "cell_type": "markdown",
      "source": [
        "#####**Test conditionnel if / elif / else**\n",
        "\n",
        "Si la condition 1 est vraie, effectuer l'action 1. Sinon, si la condition 2 est vraie, effectuer l'action2. Sinon, si la condition 3 est vraie, effectuer l'action 3. Sinon (pour le reste), effectuer l'action qui reste."
      ],
      "metadata": {
        "id": "TmJm25StHsdw"
      }
    },
    {
      "cell_type": "code",
      "source": [
        "x = 0\n",
        "if x > 0:\n",
        "  print('x est positif')\n",
        "elif x < 0: # elif = else + if \n",
        "  print('x est négatif')\n",
        "else:\n",
        "  print('x est nul')"
      ],
      "metadata": {
        "colab": {
          "base_uri": "https://localhost:8080/"
        },
        "id": "DWTT1brMEsi2",
        "outputId": "b90c31ff-79f3-4efe-e9e9-5fdcb8a039c4"
      },
      "execution_count": null,
      "outputs": [
        {
          "output_type": "stream",
          "name": "stdout",
          "text": [
            "x est nul\n"
          ]
        }
      ]
    },
    {
      "cell_type": "markdown",
      "source": [
        "#####**Application**: Résoudre l'équation $2x^2 + 1x + 3 = 0$"
      ],
      "metadata": {
        "id": "VyeO__UiLn1y"
      }
    },
    {
      "cell_type": "code",
      "source": [
        "# a = 2\n",
        "# b = 1\n",
        "# c = 3"
      ],
      "metadata": {
        "id": "7t8xJJ8AlyQC"
      },
      "execution_count": null,
      "outputs": []
    },
    {
      "cell_type": "code",
      "source": [
        "a , b , c = 2 , 1 , 3"
      ],
      "metadata": {
        "id": "dDUxiae1Evvd"
      },
      "execution_count": null,
      "outputs": []
    },
    {
      "cell_type": "code",
      "source": [
        "# Discriminant D\n",
        "D = b**2 -4*a*c\n",
        "D"
      ],
      "metadata": {
        "colab": {
          "base_uri": "https://localhost:8080/"
        },
        "id": "J4Xs4XZZE9Yq",
        "outputId": "aa8ac9f3-d17d-48a4-ab4c-424afe8acad5"
      },
      "execution_count": null,
      "outputs": [
        {
          "output_type": "execute_result",
          "data": {
            "text/plain": [
              "-23"
            ]
          },
          "metadata": {},
          "execution_count": 2
        }
      ]
    },
    {
      "cell_type": "code",
      "source": [
        "if D > 0:\n",
        "  x1 = (-b - np.sqrt(D)) / (2*a)\n",
        "  x2 = (-b + np.sqrt(D)) / (2*a)\n",
        "  print(\"L'équation admet 2 racines réelles: \" , x1 , ' et ' , x2)\n",
        "elif D == 0:\n",
        "  x = -b / (2*a)\n",
        "  print(\"L'équation admet une racine réelle double:\" , x )\n",
        "else:\n",
        "  print(\"L'équation n'admet pas de racine réelle\")"
      ],
      "metadata": {
        "id": "mnj1aovqoD8x",
        "colab": {
          "base_uri": "https://localhost:8080/"
        },
        "outputId": "2f8ee895-c6c7-472c-a18e-685db90dc140"
      },
      "execution_count": null,
      "outputs": [
        {
          "output_type": "stream",
          "name": "stdout",
          "text": [
            "L'équation n'admet pas de racine réelle\n"
          ]
        }
      ]
    }
  ]
}