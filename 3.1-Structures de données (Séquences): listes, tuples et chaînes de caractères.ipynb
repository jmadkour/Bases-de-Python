{
  "nbformat": 4,
  "nbformat_minor": 0,
  "metadata": {
    "colab": {
      "provenance": [],
      "authorship_tag": "ABX9TyOkv00U20nyZjahhcFKz7SQ",
      "include_colab_link": true
    },
    "kernelspec": {
      "name": "python3",
      "display_name": "Python 3"
    },
    "language_info": {
      "name": "python"
    }
  },
  "cells": [
    {
      "cell_type": "markdown",
      "metadata": {
        "id": "view-in-github",
        "colab_type": "text"
      },
      "source": [
        "<a href=\"https://colab.research.google.com/github/jmadkour/Bases-de-Python/blob/main/3.1-Structures%20de%20donn%C3%A9es%20(S%C3%A9quences)%3A%20listes%2C%20tuples%20et%20cha%C3%AEnes%20de%20caract%C3%A8res.ipynb\" target=\"_parent\"><img src=\"https://colab.research.google.com/assets/colab-badge.svg\" alt=\"Open In Colab\"/></a>"
      ]
    },
    {
      "cell_type": "markdown",
      "source": [
        "### **Strcutures des données: Séquences**\n",
        "Losqu'une grandeur prend plusieurs valeurs, une variable ne suffit plus. Il faut regouper ces valeurs dans l'une des structures suivantes qui forment des **séquences** (c'est à dire un ensemble d'éléments **ordonnés**):\n",
        "* Listes\n",
        "* Tuples: couple $(x,y)$, triplet $(x,y,z)$, quadruplet $(w,x,y,z)$... n-uplets ($x_1 , x_2 , \\cdots , x_n $)\n",
        "* Chaînes de caratctères"
      ],
      "metadata": {
        "id": "fqHbfVf-Fe8I"
      }
    },
    {
      "cell_type": "markdown",
      "source": [
        "####**Listes [ ]**"
      ],
      "metadata": {
        "id": "KkMatQbyEgB7"
      }
    },
    {
      "cell_type": "markdown",
      "source": [
        "**Liste vide**"
      ],
      "metadata": {
        "id": "Fgvs6VQKEDTB"
      }
    },
    {
      "cell_type": "code",
      "source": [
        "liste_0 = []  # Eviter le terme \"list\" comme nom liste.\n",
        "liste_0"
      ],
      "metadata": {
        "colab": {
          "base_uri": "https://localhost:8080/"
        },
        "id": "Dvt1nMM5D9h-",
        "outputId": "060089aa-c137-454b-a55f-5dae828e9264"
      },
      "execution_count": null,
      "outputs": [
        {
          "output_type": "execute_result",
          "data": {
            "text/plain": [
              "[]"
            ]
          },
          "metadata": {},
          "execution_count": 3
        }
      ]
    },
    {
      "cell_type": "code",
      "source": [
        "print(liste_0)"
      ],
      "metadata": {
        "colab": {
          "base_uri": "https://localhost:8080/"
        },
        "id": "rYwAn8hm8EAx",
        "outputId": "6424fce4-6648-42f9-af0c-61f61c603242"
      },
      "execution_count": null,
      "outputs": [
        {
          "output_type": "stream",
          "name": "stdout",
          "text": [
            "[]\n"
          ]
        }
      ]
    },
    {
      "cell_type": "markdown",
      "source": [
        "**Liste de valeurs quantitatives**"
      ],
      "metadata": {
        "id": "BInecE3fEJRq"
      }
    },
    {
      "cell_type": "code",
      "source": [
        "liste_1 = [1 , 5 , 5 , 7 , 4 , 3]\n",
        "liste_1"
      ],
      "metadata": {
        "colab": {
          "base_uri": "https://localhost:8080/"
        },
        "id": "JQvyxc6VESZZ",
        "outputId": "b5c017b9-074a-449e-e654-28730a41dc82"
      },
      "execution_count": null,
      "outputs": [
        {
          "output_type": "execute_result",
          "data": {
            "text/plain": [
              "[1, 5, 5, 7, 4, 3]"
            ]
          },
          "metadata": {},
          "execution_count": 5
        }
      ]
    },
    {
      "cell_type": "markdown",
      "source": [
        "**Liste de valeurs qualitatitves / texte**"
      ],
      "metadata": {
        "id": "xlVTQ30WEcR3"
      }
    },
    {
      "cell_type": "code",
      "source": [
        "liste_2 = ['chat' , 'chien' , 'vache' , 'mouton' , 'chèvre']\n",
        "liste_2"
      ],
      "metadata": {
        "colab": {
          "base_uri": "https://localhost:8080/"
        },
        "id": "4nPTIOA9EkdT",
        "outputId": "7137f80e-6d71-4c72-9d35-f22b62a2e94c"
      },
      "execution_count": null,
      "outputs": [
        {
          "output_type": "execute_result",
          "data": {
            "text/plain": [
              "['chat', 'chien', 'vache', 'mouton', 'chèvre']"
            ]
          },
          "metadata": {},
          "execution_count": 6
        }
      ]
    },
    {
      "cell_type": "markdown",
      "source": [
        "**Liste hybirde**"
      ],
      "metadata": {
        "id": "T49MoPgc9YIK"
      }
    },
    {
      "cell_type": "code",
      "source": [
        "lists = [1 , 2 , 'texte 1' , 'texte 2']\n",
        "lists"
      ],
      "metadata": {
        "colab": {
          "base_uri": "https://localhost:8080/"
        },
        "id": "qxv_CKAM9LMH",
        "outputId": "c9bf0b2b-a25a-4777-d070-d0c078d6a63d"
      },
      "execution_count": null,
      "outputs": [
        {
          "output_type": "execute_result",
          "data": {
            "text/plain": [
              "[1, 2, 'texte 1', 'texte 2']"
            ]
          },
          "metadata": {},
          "execution_count": 7
        }
      ]
    },
    {
      "cell_type": "markdown",
      "source": [
        "**Liste de listes**"
      ],
      "metadata": {
        "id": "qSWNHHJBE0Wu"
      }
    },
    {
      "cell_type": "code",
      "source": [
        "print(liste_1)\n",
        "print(liste_2)"
      ],
      "metadata": {
        "colab": {
          "base_uri": "https://localhost:8080/"
        },
        "id": "-e9sfQUJ9dSD",
        "outputId": "3fa24f22-b158-4a77-d7f0-b2f1623dfc1c"
      },
      "execution_count": null,
      "outputs": [
        {
          "output_type": "stream",
          "name": "stdout",
          "text": [
            "[1, 5, 5, 7, 4, 3]\n",
            "['chat', 'chien', 'vache', 'mouton', 'chèvre']\n"
          ]
        }
      ]
    },
    {
      "cell_type": "code",
      "source": [
        "liste_3 = [liste_1 , liste_2]\n",
        "liste_3"
      ],
      "metadata": {
        "colab": {
          "base_uri": "https://localhost:8080/"
        },
        "id": "9AjGZjA3E4fR",
        "outputId": "c2d66908-5295-4c2a-f99e-4372d3a19129"
      },
      "execution_count": null,
      "outputs": [
        {
          "output_type": "execute_result",
          "data": {
            "text/plain": [
              "[[1, 5, 5, 7, 4, 3], ['chat', 'chien', 'vache', 'mouton', 'chèvre']]"
            ]
          },
          "metadata": {},
          "execution_count": 9
        }
      ]
    },
    {
      "cell_type": "markdown",
      "source": [
        "####**Tuples**"
      ],
      "metadata": {
        "id": "Gfx6IlSRfX5W"
      }
    },
    {
      "cell_type": "markdown",
      "source": [
        "**Tuple vide**"
      ],
      "metadata": {
        "id": "76htMpVIffxK"
      }
    },
    {
      "cell_type": "code",
      "source": [
        "tuple_0 = () \n",
        "tuple_0"
      ],
      "metadata": {
        "colab": {
          "base_uri": "https://localhost:8080/"
        },
        "id": "aNwEZewTgUEd",
        "outputId": "2b417c31-0f23-4ab8-bf86-37f43d65556a"
      },
      "execution_count": null,
      "outputs": [
        {
          "output_type": "execute_result",
          "data": {
            "text/plain": [
              "()"
            ]
          },
          "metadata": {},
          "execution_count": 10
        }
      ]
    },
    {
      "cell_type": "markdown",
      "source": [
        "**Tuple de valeurs quantitatives**"
      ],
      "metadata": {
        "id": "oxyu8w8Dfl4A"
      }
    },
    {
      "cell_type": "code",
      "source": [
        "tuple_1 = (1 , 5 , 5 , 7 , 4 , 3)\n",
        "tuple_1"
      ],
      "metadata": {
        "colab": {
          "base_uri": "https://localhost:8080/"
        },
        "id": "T70qcdv-gW7C",
        "outputId": "a2c292ca-e1eb-4c6c-d643-4eeb41069616"
      },
      "execution_count": null,
      "outputs": [
        {
          "output_type": "execute_result",
          "data": {
            "text/plain": [
              "(1, 5, 5, 7, 4, 3)"
            ]
          },
          "metadata": {},
          "execution_count": 11
        }
      ]
    },
    {
      "cell_type": "markdown",
      "source": [
        "**Tuple de valeurs qualitatitves / texte**"
      ],
      "metadata": {
        "id": "0mefgIVbfp4x"
      }
    },
    {
      "cell_type": "code",
      "source": [
        "tuple_2 = ('chat' , 'chien' , 'vache' , 'mouton' , 'chèvre')\n",
        "tuple_2"
      ],
      "metadata": {
        "colab": {
          "base_uri": "https://localhost:8080/"
        },
        "id": "0DgloodtgZ8M",
        "outputId": "f17fdca0-c614-4ae6-a5e6-ed19aba4eef5"
      },
      "execution_count": null,
      "outputs": [
        {
          "output_type": "execute_result",
          "data": {
            "text/plain": [
              "('chat', 'chien', 'vache', 'mouton', 'chèvre')"
            ]
          },
          "metadata": {},
          "execution_count": 12
        }
      ]
    },
    {
      "cell_type": "markdown",
      "source": [
        "**Tuple hybride**"
      ],
      "metadata": {
        "id": "BedkGi7E-cCo"
      }
    },
    {
      "cell_type": "code",
      "source": [
        "tuples = (1 , 2 , 2 , 'chat' , 'chien')\n",
        "tuples"
      ],
      "metadata": {
        "colab": {
          "base_uri": "https://localhost:8080/"
        },
        "id": "zDk4ukHE-fMq",
        "outputId": "0c8d4b4a-d558-4789-fcad-e70942ca01ad"
      },
      "execution_count": null,
      "outputs": [
        {
          "output_type": "execute_result",
          "data": {
            "text/plain": [
              "(1, 2, 2, 'chat', 'chien')"
            ]
          },
          "metadata": {},
          "execution_count": 13
        }
      ]
    },
    {
      "cell_type": "markdown",
      "source": [
        "**Tuple de tuples**"
      ],
      "metadata": {
        "id": "UfdPOHwofzAZ"
      }
    },
    {
      "cell_type": "code",
      "source": [
        "print(tuple_1)\n",
        "print(tuple_2)"
      ],
      "metadata": {
        "colab": {
          "base_uri": "https://localhost:8080/"
        },
        "id": "mraqSN-R-vrj",
        "outputId": "2c0ec4bb-462a-4dfa-e556-af053b1432b2"
      },
      "execution_count": null,
      "outputs": [
        {
          "output_type": "stream",
          "name": "stdout",
          "text": [
            "(1, 5, 5, 7, 4, 3)\n",
            "('chat', 'chien', 'vache', 'mouton', 'chèvre')\n"
          ]
        }
      ]
    },
    {
      "cell_type": "code",
      "source": [
        "tuple_3 = (tuple_1 , tuple_2)\n",
        "tuple_3"
      ],
      "metadata": {
        "colab": {
          "base_uri": "https://localhost:8080/"
        },
        "id": "1KTPgnFHgdSu",
        "outputId": "fa055f52-ad2f-4ba8-fbbe-02c7f61d82b2"
      },
      "execution_count": null,
      "outputs": [
        {
          "output_type": "execute_result",
          "data": {
            "text/plain": [
              "((1, 5, 5, 7, 4, 3), ('chat', 'chien', 'vache', 'mouton', 'chèvre'))"
            ]
          },
          "metadata": {},
          "execution_count": 15
        }
      ]
    },
    {
      "cell_type": "markdown",
      "source": [
        "####**Chaînes de caractères / String**"
      ],
      "metadata": {
        "id": "2L9QMnVXfc46"
      }
    },
    {
      "cell_type": "markdown",
      "source": [
        "**Chaîne de caractères vide**"
      ],
      "metadata": {
        "id": "qX8JaVKIhCFu"
      }
    },
    {
      "cell_type": "code",
      "source": [
        "texte_vide = ''\n",
        "texte_vide"
      ],
      "metadata": {
        "colab": {
          "base_uri": "https://localhost:8080/",
          "height": 36
        },
        "id": "sHzlzmbZg-Cp",
        "outputId": "0ef983db-3d0c-4075-b9f0-1027cfd2c8de"
      },
      "execution_count": null,
      "outputs": [
        {
          "output_type": "execute_result",
          "data": {
            "text/plain": [
              "''"
            ],
            "application/vnd.google.colaboratory.intrinsic+json": {
              "type": "string"
            }
          },
          "metadata": {},
          "execution_count": 16
        }
      ]
    },
    {
      "cell_type": "markdown",
      "source": [
        "**Chaîne de caractères non-vide**"
      ],
      "metadata": {
        "id": "he_9aZQhhS5y"
      }
    },
    {
      "cell_type": "code",
      "source": [
        "texte_1 = 'Langage'\n",
        "texte_1"
      ],
      "metadata": {
        "colab": {
          "base_uri": "https://localhost:8080/",
          "height": 36
        },
        "id": "x5_ve9jghYbp",
        "outputId": "16677104-217e-4bd1-f6d8-52917cd6d2a3"
      },
      "execution_count": null,
      "outputs": [
        {
          "output_type": "execute_result",
          "data": {
            "text/plain": [
              "'Langage'"
            ],
            "application/vnd.google.colaboratory.intrinsic+json": {
              "type": "string"
            }
          },
          "metadata": {},
          "execution_count": 17
        }
      ]
    },
    {
      "cell_type": "markdown",
      "source": [
        "**Concaténation (fusion) de chaînes de caractères**"
      ],
      "metadata": {
        "id": "UOIVBJ_0i4Ev"
      }
    },
    {
      "cell_type": "code",
      "source": [
        "texte_2 = 'Python'\n",
        "texte = texte_1 + texte_2\n",
        "texte"
      ],
      "metadata": {
        "colab": {
          "base_uri": "https://localhost:8080/",
          "height": 36
        },
        "id": "lQoYTJTPi_hd",
        "outputId": "6caa2b0e-bb89-493b-fdcd-049a4de3ebc3"
      },
      "execution_count": null,
      "outputs": [
        {
          "output_type": "execute_result",
          "data": {
            "text/plain": [
              "'LangagePython'"
            ],
            "application/vnd.google.colaboratory.intrinsic+json": {
              "type": "string"
            }
          },
          "metadata": {},
          "execution_count": 18
        }
      ]
    },
    {
      "cell_type": "markdown",
      "source": [
        "**Concaténation de chaînes de caractères et insertion d'espace**"
      ],
      "metadata": {
        "id": "LsDcdM9diDUA"
      }
    },
    {
      "cell_type": "code",
      "source": [
        "texte_3 = texte_1 +\" \"+ texte_2\n",
        "texte_3"
      ],
      "metadata": {
        "colab": {
          "base_uri": "https://localhost:8080/",
          "height": 36
        },
        "id": "mjGNTllNiLXt",
        "outputId": "92bb44e2-8ba6-49fe-f2f6-ce7fb7171c7a"
      },
      "execution_count": null,
      "outputs": [
        {
          "output_type": "execute_result",
          "data": {
            "text/plain": [
              "'Langage Python'"
            ],
            "application/vnd.google.colaboratory.intrinsic+json": {
              "type": "string"
            }
          },
          "metadata": {},
          "execution_count": 19
        }
      ]
    },
    {
      "cell_type": "markdown",
      "source": [
        "###**Indexing & Slicing dans les séquences** \n",
        "Une liste étant une **séquence** dans le sens où ses éléments sont **ordonnés**, on peut vouloir accéder à un ou plusieurs de ses élements. Il s'agit de l'**Indexing** (dans le premier cas) et du **Sclicing** (dans le dernier cas)."
      ],
      "metadata": {
        "id": "OLWD897oFfgI"
      }
    },
    {
      "cell_type": "markdown",
      "source": [
        "En partant du début, le premier élément se trouve dans la position 0, le deuxième élément dans la postion 1, le troisème dans la position 2... etc."
      ],
      "metadata": {
        "id": "Zao6RsJYI5qb"
      }
    },
    {
      "cell_type": "markdown",
      "source": [
        "En partant de la fin, le dernier élément se trouve dans la position -1, l'avant dernier élément dans la postion -2... etc."
      ],
      "metadata": {
        "id": "I-CFuAI3I-i0"
      }
    },
    {
      "cell_type": "markdown",
      "source": [
        "####**Indexing**: \n",
        "\n",
        "Accéder à un seul élément d'une liste. Il suffit de préciser sa position dans la liste."
      ],
      "metadata": {
        "id": "DhqpVKY9FoCl"
      }
    },
    {
      "cell_type": "code",
      "source": [
        "# Accéder au premier élément de liste_1\n",
        "print(liste_1)\n",
        "liste_1[0]"
      ],
      "metadata": {
        "colab": {
          "base_uri": "https://localhost:8080/"
        },
        "id": "y5OOmc0sGwOm",
        "outputId": "b65208ef-2c7c-4a03-d959-69d242a7aa25"
      },
      "execution_count": null,
      "outputs": [
        {
          "output_type": "stream",
          "name": "stdout",
          "text": [
            "[1, 5, 5, 7, 4, 3]\n"
          ]
        },
        {
          "output_type": "execute_result",
          "data": {
            "text/plain": [
              "1"
            ]
          },
          "metadata": {},
          "execution_count": 20
        }
      ]
    },
    {
      "cell_type": "code",
      "source": [
        "# Accéder au premier élément de liste_2\n",
        "print(liste_2)\n",
        "liste_2[0]"
      ],
      "metadata": {
        "colab": {
          "base_uri": "https://localhost:8080/",
          "height": 53
        },
        "id": "5eeFAZJRHYMD",
        "outputId": "b965cfcb-28bf-496b-b1e9-ec8af9ea8caf"
      },
      "execution_count": null,
      "outputs": [
        {
          "output_type": "stream",
          "name": "stdout",
          "text": [
            "['chat', 'chien', 'vache', 'mouton', 'chèvre']\n"
          ]
        },
        {
          "output_type": "execute_result",
          "data": {
            "text/plain": [
              "'chat'"
            ],
            "application/vnd.google.colaboratory.intrinsic+json": {
              "type": "string"
            }
          },
          "metadata": {},
          "execution_count": 21
        }
      ]
    },
    {
      "cell_type": "code",
      "source": [
        "# Accéder au premier élément de liste_3\n",
        "print(liste_3)\n",
        "liste_3[0]"
      ],
      "metadata": {
        "colab": {
          "base_uri": "https://localhost:8080/"
        },
        "id": "09jqrm4yHqQA",
        "outputId": "2c991fbb-9852-4c38-a226-e9932d22e4dc"
      },
      "execution_count": null,
      "outputs": [
        {
          "output_type": "stream",
          "name": "stdout",
          "text": [
            "[[1, 5, 5, 7, 4, 3], ['chat', 'chien', 'vache', 'mouton', 'chèvre']]\n"
          ]
        },
        {
          "output_type": "execute_result",
          "data": {
            "text/plain": [
              "[1, 5, 5, 7, 4, 3]"
            ]
          },
          "metadata": {},
          "execution_count": 22
        }
      ]
    },
    {
      "cell_type": "code",
      "source": [
        "# Accéder au deuxième élément de liste_1\n",
        "print(liste_1)\n",
        "liste_1[1]"
      ],
      "metadata": {
        "colab": {
          "base_uri": "https://localhost:8080/"
        },
        "id": "jG5ldlorH0FP",
        "outputId": "408faf5d-3804-4f54-9da4-97e5d56c73e8"
      },
      "execution_count": null,
      "outputs": [
        {
          "output_type": "stream",
          "name": "stdout",
          "text": [
            "[1, 5, 5, 7, 4, 3]\n"
          ]
        },
        {
          "output_type": "execute_result",
          "data": {
            "text/plain": [
              "5"
            ]
          },
          "metadata": {},
          "execution_count": 23
        }
      ]
    },
    {
      "cell_type": "code",
      "source": [
        "# Accéder au deuxième élément de liste_2\n",
        "print(liste_2)\n",
        "liste_2[1]"
      ],
      "metadata": {
        "colab": {
          "base_uri": "https://localhost:8080/",
          "height": 53
        },
        "id": "nDk-7_QcH2Zi",
        "outputId": "0e8ce5b6-481f-4645-ca26-92910d45ecfc"
      },
      "execution_count": null,
      "outputs": [
        {
          "output_type": "stream",
          "name": "stdout",
          "text": [
            "['chat', 'chien', 'vache', 'mouton', 'chèvre']\n"
          ]
        },
        {
          "output_type": "execute_result",
          "data": {
            "text/plain": [
              "'chien'"
            ],
            "application/vnd.google.colaboratory.intrinsic+json": {
              "type": "string"
            }
          },
          "metadata": {},
          "execution_count": 24
        }
      ]
    },
    {
      "cell_type": "code",
      "source": [
        "# Accéder au deuxième élément de liste_3\n",
        "print(liste_3)\n",
        "liste_3[1]"
      ],
      "metadata": {
        "colab": {
          "base_uri": "https://localhost:8080/"
        },
        "id": "PCi2W1VrH5E3",
        "outputId": "ece15441-ced9-49da-ed6c-2c8f61495e1b"
      },
      "execution_count": null,
      "outputs": [
        {
          "output_type": "stream",
          "name": "stdout",
          "text": [
            "[[1, 5, 5, 7, 4, 3], ['chat', 'chien', 'vache', 'mouton', 'chèvre']]\n"
          ]
        },
        {
          "output_type": "execute_result",
          "data": {
            "text/plain": [
              "['chat', 'chien', 'vache', 'mouton', 'chèvre']"
            ]
          },
          "metadata": {},
          "execution_count": 25
        }
      ]
    },
    {
      "cell_type": "code",
      "source": [
        "# Accéder au dernier élément de liste_1\n",
        "print(liste_1)\n",
        "liste_1[-1]"
      ],
      "metadata": {
        "colab": {
          "base_uri": "https://localhost:8080/"
        },
        "id": "Sch168I0INAE",
        "outputId": "1061dedd-61b3-437b-e070-9b99f643bb05"
      },
      "execution_count": null,
      "outputs": [
        {
          "output_type": "stream",
          "name": "stdout",
          "text": [
            "[1, 5, 5, 7, 4, 3]\n"
          ]
        },
        {
          "output_type": "execute_result",
          "data": {
            "text/plain": [
              "3"
            ]
          },
          "metadata": {},
          "execution_count": 26
        }
      ]
    },
    {
      "cell_type": "code",
      "source": [
        "# Accéder au dernier élément de liste_2\n",
        "print(liste_2)\n",
        "liste_2[-1]"
      ],
      "metadata": {
        "colab": {
          "base_uri": "https://localhost:8080/",
          "height": 53
        },
        "id": "XA0bGygQIPC9",
        "outputId": "f82d9804-61d8-4e0e-fd74-92f780c13331"
      },
      "execution_count": null,
      "outputs": [
        {
          "output_type": "stream",
          "name": "stdout",
          "text": [
            "['chat', 'chien', 'vache', 'mouton', 'chèvre']\n"
          ]
        },
        {
          "output_type": "execute_result",
          "data": {
            "text/plain": [
              "'chèvre'"
            ],
            "application/vnd.google.colaboratory.intrinsic+json": {
              "type": "string"
            }
          },
          "metadata": {},
          "execution_count": 27
        }
      ]
    },
    {
      "cell_type": "code",
      "source": [
        "# Accéder au dernier élément de liste_3\n",
        "print(liste_3)\n",
        "liste_3[-1]"
      ],
      "metadata": {
        "colab": {
          "base_uri": "https://localhost:8080/"
        },
        "id": "mOafn7C-IRZv",
        "outputId": "21ae62aa-e12b-4b97-8dd9-f49669bc4af1"
      },
      "execution_count": null,
      "outputs": [
        {
          "output_type": "stream",
          "name": "stdout",
          "text": [
            "[[1, 5, 5, 7, 4, 3], ['chat', 'chien', 'vache', 'mouton', 'chèvre']]\n"
          ]
        },
        {
          "output_type": "execute_result",
          "data": {
            "text/plain": [
              "['chat', 'chien', 'vache', 'mouton', 'chèvre']"
            ]
          },
          "metadata": {},
          "execution_count": 28
        }
      ]
    },
    {
      "cell_type": "code",
      "source": [
        "# Accéder à l'avant dernier élément de liste_1\n",
        "print(liste_1)\n",
        "liste_1[-2]"
      ],
      "metadata": {
        "colab": {
          "base_uri": "https://localhost:8080/"
        },
        "id": "9q3Nieh-IkT1",
        "outputId": "1380915a-dfae-4fe2-a1f0-9ab9a278d33a"
      },
      "execution_count": null,
      "outputs": [
        {
          "output_type": "stream",
          "name": "stdout",
          "text": [
            "[1, 5, 5, 7, 4, 3]\n"
          ]
        },
        {
          "output_type": "execute_result",
          "data": {
            "text/plain": [
              "4"
            ]
          },
          "metadata": {},
          "execution_count": 29
        }
      ]
    },
    {
      "cell_type": "code",
      "source": [
        "# Accéder à l'avant dernier élément de liste_2\n",
        "print(liste_2)\n",
        "liste_2[-2]"
      ],
      "metadata": {
        "colab": {
          "base_uri": "https://localhost:8080/",
          "height": 53
        },
        "id": "2wIevSxCIpcG",
        "outputId": "736af89b-81d0-4500-e580-d0f2fc665a0c"
      },
      "execution_count": null,
      "outputs": [
        {
          "output_type": "stream",
          "name": "stdout",
          "text": [
            "['chat', 'chien', 'vache', 'mouton', 'chèvre']\n"
          ]
        },
        {
          "output_type": "execute_result",
          "data": {
            "text/plain": [
              "'mouton'"
            ],
            "application/vnd.google.colaboratory.intrinsic+json": {
              "type": "string"
            }
          },
          "metadata": {},
          "execution_count": 30
        }
      ]
    },
    {
      "cell_type": "code",
      "source": [
        "# Accéder à l'avant dernier élément de liste_3\n",
        "print(liste_3)\n",
        "liste_3[-2]"
      ],
      "metadata": {
        "colab": {
          "base_uri": "https://localhost:8080/"
        },
        "id": "9pFuHnM1IqBX",
        "outputId": "8d766ba8-0284-4e10-98f6-a31603cc8339"
      },
      "execution_count": null,
      "outputs": [
        {
          "output_type": "stream",
          "name": "stdout",
          "text": [
            "[[1, 5, 5, 7, 4, 3], ['chat', 'chien', 'vache', 'mouton', 'chèvre']]\n"
          ]
        },
        {
          "output_type": "execute_result",
          "data": {
            "text/plain": [
              "[1, 5, 5, 7, 4, 3]"
            ]
          },
          "metadata": {},
          "execution_count": 31
        }
      ]
    },
    {
      "cell_type": "markdown",
      "source": [
        "####**Slicing**: \n",
        "\n",
        "Accéder à plusieurs éléments (une fourchette) d'une liste. Il faut préciser le premier et le dernier éléments de la fourchette et éventullement le pas (qui est par défaut fixé à 1).  "
      ],
      "metadata": {
        "id": "umkKPP6-Fq8q"
      }
    },
    {
      "cell_type": "code",
      "source": [
        "# Accéder aux éléments 1, 5 , 5 de liste_1\n",
        "print(liste_1)\n",
        "liste_1[0:3]  # Accéder au premier (index 0), au deuxième (index 1) \n",
        "              # et au troisème (index 2) éléments. \n",
        "              # Le premier index 0 est inclus, le dernier index 3 est exclu."
      ],
      "metadata": {
        "colab": {
          "base_uri": "https://localhost:8080/"
        },
        "id": "kC2ipJTZJ_vn",
        "outputId": "4efb742d-5687-4b97-fc1b-ac6f98223eef"
      },
      "execution_count": null,
      "outputs": [
        {
          "output_type": "stream",
          "name": "stdout",
          "text": [
            "[1, 5, 5, 7, 4, 3]\n"
          ]
        },
        {
          "output_type": "execute_result",
          "data": {
            "text/plain": [
              "[1, 5, 5]"
            ]
          },
          "metadata": {},
          "execution_count": 32
        }
      ]
    },
    {
      "cell_type": "code",
      "source": [
        "# Lorsque le slicing commence à 0, on omet celui-ci:\n",
        "print(liste_1)\n",
        "liste_1[:3]"
      ],
      "metadata": {
        "colab": {
          "base_uri": "https://localhost:8080/"
        },
        "id": "tuY6jWRWMHZv",
        "outputId": "a7d81d94-dd5f-4f66-e201-6d347ea3db25"
      },
      "execution_count": null,
      "outputs": [
        {
          "output_type": "stream",
          "name": "stdout",
          "text": [
            "[1, 5, 5, 7, 4, 3]\n"
          ]
        },
        {
          "output_type": "execute_result",
          "data": {
            "text/plain": [
              "[1, 5, 5]"
            ]
          },
          "metadata": {},
          "execution_count": 33
        }
      ]
    },
    {
      "cell_type": "code",
      "source": [
        "# Lorsque le slicing se termine à la fin de la liste, on omet le dernier index:\n",
        "print(liste_1)\n",
        "liste_1[3:]"
      ],
      "metadata": {
        "colab": {
          "base_uri": "https://localhost:8080/"
        },
        "id": "AXK-T59UMcew",
        "outputId": "2ab2068f-56be-4c2d-d56b-0874512fc476"
      },
      "execution_count": null,
      "outputs": [
        {
          "output_type": "stream",
          "name": "stdout",
          "text": [
            "[1, 5, 5, 7, 4, 3]\n"
          ]
        },
        {
          "output_type": "execute_result",
          "data": {
            "text/plain": [
              "[7, 4, 3]"
            ]
          },
          "metadata": {},
          "execution_count": 34
        }
      ]
    },
    {
      "cell_type": "code",
      "source": [
        "# Lorsque le pas du slicing est différent de sa valeur par défaut 1, 2 par exemple: \n",
        "print(liste_1)\n",
        "liste_1[1:4:2]"
      ],
      "metadata": {
        "colab": {
          "base_uri": "https://localhost:8080/"
        },
        "id": "Y_6IvS_1OIhU",
        "outputId": "890b4255-e9ac-47c1-e6c9-298996c3d6b6"
      },
      "execution_count": null,
      "outputs": [
        {
          "output_type": "stream",
          "name": "stdout",
          "text": [
            "[1, 5, 5, 7, 4, 3]\n"
          ]
        },
        {
          "output_type": "execute_result",
          "data": {
            "text/plain": [
              "[5, 7]"
            ]
          },
          "metadata": {},
          "execution_count": 35
        }
      ]
    },
    {
      "cell_type": "code",
      "source": [
        "liste_1"
      ],
      "metadata": {
        "colab": {
          "base_uri": "https://localhost:8080/"
        },
        "id": "5IfHbcGuCl-o",
        "outputId": "f0ba0ea2-6530-431b-d1b5-60e27564a882"
      },
      "execution_count": null,
      "outputs": [
        {
          "output_type": "execute_result",
          "data": {
            "text/plain": [
              "[1, 5, 10, 7, 4, 3]"
            ]
          },
          "metadata": {},
          "execution_count": 44
        }
      ]
    },
    {
      "cell_type": "code",
      "source": [
        "liste_1[:]"
      ],
      "metadata": {
        "colab": {
          "base_uri": "https://localhost:8080/"
        },
        "id": "W5mnC5LICpVy",
        "outputId": "568d686a-bf0c-415f-c915-898571069647"
      },
      "execution_count": null,
      "outputs": [
        {
          "output_type": "execute_result",
          "data": {
            "text/plain": [
              "[1, 5, 10, 7, 4, 3]"
            ]
          },
          "metadata": {},
          "execution_count": 45
        }
      ]
    },
    {
      "cell_type": "code",
      "source": [
        "# Lorsque le pas du slicing est différent de sa valeur par défaut 1, 2 par exemple, \n",
        "# et on veut aller du premier au dernier élément de la liste:\n",
        "print(liste_1)\n",
        "liste_1[::2]"
      ],
      "metadata": {
        "colab": {
          "base_uri": "https://localhost:8080/"
        },
        "id": "C6S_9Ay1Omx_",
        "outputId": "88aec16d-491f-4838-85e2-a2d49ebfb1d0"
      },
      "execution_count": null,
      "outputs": [
        {
          "output_type": "stream",
          "name": "stdout",
          "text": [
            "[1, 5, 5, 7, 4, 3]\n"
          ]
        },
        {
          "output_type": "execute_result",
          "data": {
            "text/plain": [
              "[1, 5, 4]"
            ]
          },
          "metadata": {},
          "execution_count": 36
        }
      ]
    },
    {
      "cell_type": "code",
      "source": [
        "# Lorsque on veut aller du dernier au permeir élément de la liste:\n",
        "print(liste_1)\n",
        "liste_1[::-1]"
      ],
      "metadata": {
        "colab": {
          "base_uri": "https://localhost:8080/"
        },
        "id": "c4AYSyOPO5of",
        "outputId": "19b20a92-72b4-467f-8eb1-74a9e91c626c"
      },
      "execution_count": null,
      "outputs": [
        {
          "output_type": "stream",
          "name": "stdout",
          "text": [
            "[1, 5, 5, 7, 4, 3]\n"
          ]
        },
        {
          "output_type": "execute_result",
          "data": {
            "text/plain": [
              "[3, 4, 7, 5, 5, 1]"
            ]
          },
          "metadata": {},
          "execution_count": 37
        }
      ]
    },
    {
      "cell_type": "code",
      "source": [
        "# Afficher tous les éléments du premier au dernier\n",
        "print(liste_1)\n",
        "liste_1[:]"
      ],
      "metadata": {
        "colab": {
          "base_uri": "https://localhost:8080/"
        },
        "id": "ew7mFMyupnbD",
        "outputId": "95547c9b-8c33-4d5d-8ef3-1ad2370c591b"
      },
      "execution_count": null,
      "outputs": [
        {
          "output_type": "stream",
          "name": "stdout",
          "text": [
            "[1, 5, 5, 7, 4, 3]\n"
          ]
        },
        {
          "output_type": "execute_result",
          "data": {
            "text/plain": [
              "[1, 5, 5, 7, 4, 3]"
            ]
          },
          "metadata": {},
          "execution_count": 38
        }
      ]
    },
    {
      "cell_type": "code",
      "source": [
        "# Afficher tous les éléments du premier au dernier et préciser le pas (1 par défaut)\n",
        "print(liste_1)\n",
        "liste_1[::]"
      ],
      "metadata": {
        "colab": {
          "base_uri": "https://localhost:8080/"
        },
        "id": "V6W_bPdVp43x",
        "outputId": "bd97ef22-290a-40d4-fa6a-1aeba76aba17"
      },
      "execution_count": null,
      "outputs": [
        {
          "output_type": "stream",
          "name": "stdout",
          "text": [
            "[1, 5, 5, 7, 4, 3]\n"
          ]
        },
        {
          "output_type": "execute_result",
          "data": {
            "text/plain": [
              "[1, 5, 5, 7, 4, 3]"
            ]
          },
          "metadata": {},
          "execution_count": 39
        }
      ]
    },
    {
      "cell_type": "code",
      "source": [
        "# Afficher tous les éléments du premier au dernier et préciser un pas égal à 2\n",
        "print(liste_1)\n",
        "liste_1[::2]"
      ],
      "metadata": {
        "colab": {
          "base_uri": "https://localhost:8080/"
        },
        "id": "P5Hj1F8LqDw4",
        "outputId": "e3eabbbc-423a-48c8-b0bf-f20a93fef1e9"
      },
      "execution_count": null,
      "outputs": [
        {
          "output_type": "stream",
          "name": "stdout",
          "text": [
            "[1, 5, 5, 7, 4, 3]\n"
          ]
        },
        {
          "output_type": "execute_result",
          "data": {
            "text/plain": [
              "[1, 5, 4]"
            ]
          },
          "metadata": {},
          "execution_count": 40
        }
      ]
    },
    {
      "cell_type": "markdown",
      "source": [
        "####**Indexing et Slicing pour modifier les éléments d'une séquence**: "
      ],
      "metadata": {
        "id": "F-9bIiBnjt8o"
      }
    },
    {
      "cell_type": "code",
      "source": [
        "# Modifier les éléments d'une liste de valeurs quantitatives\n",
        "print(liste_1)\n",
        "liste_1[2] = 10\n",
        "liste_1"
      ],
      "metadata": {
        "colab": {
          "base_uri": "https://localhost:8080/"
        },
        "id": "I0ZqcCryj3A9",
        "outputId": "bbe35484-5266-41ee-ec30-36c9cc24b316"
      },
      "execution_count": null,
      "outputs": [
        {
          "output_type": "stream",
          "name": "stdout",
          "text": [
            "[1, 5, 5, 7, 4, 3]\n"
          ]
        },
        {
          "output_type": "execute_result",
          "data": {
            "text/plain": [
              "[1, 5, 10, 7, 4, 3]"
            ]
          },
          "metadata": {},
          "execution_count": 41
        }
      ]
    },
    {
      "cell_type": "code",
      "source": [
        "# Modifier les éléments d'une liste de valeurs qualitatives\n",
        "print(liste_2)\n",
        "liste_2[2] = 'Boeuf'\n",
        "liste_2"
      ],
      "metadata": {
        "colab": {
          "base_uri": "https://localhost:8080/"
        },
        "id": "TD6jI4wGkMM7",
        "outputId": "579679b5-cc49-471c-b647-ad1bbeed7aab"
      },
      "execution_count": null,
      "outputs": [
        {
          "output_type": "stream",
          "name": "stdout",
          "text": [
            "['chat', 'chien', 'vache', 'mouton', 'chèvre']\n"
          ]
        },
        {
          "output_type": "execute_result",
          "data": {
            "text/plain": [
              "['chat', 'chien', 'Boeuf', 'mouton', 'chèvre']"
            ]
          },
          "metadata": {},
          "execution_count": 42
        }
      ]
    },
    {
      "cell_type": "code",
      "source": [
        "# Attention: un tuple est immuable!\n",
        "print(tuple_1)\n",
        "tuple_1[2] = 10\n",
        "#tuple_1"
      ],
      "metadata": {
        "id": "0iATzyp6kONm",
        "colab": {
          "base_uri": "https://localhost:8080/",
          "height": 241
        },
        "outputId": "e3864f24-0827-4da3-a87a-65c617f72633"
      },
      "execution_count": null,
      "outputs": [
        {
          "output_type": "stream",
          "name": "stdout",
          "text": [
            "(1, 5, 5, 7, 4, 3)\n"
          ]
        },
        {
          "output_type": "error",
          "ename": "TypeError",
          "evalue": "ignored",
          "traceback": [
            "\u001b[0;31m---------------------------------------------------------------------------\u001b[0m",
            "\u001b[0;31mTypeError\u001b[0m                                 Traceback (most recent call last)",
            "\u001b[0;32m<ipython-input-47-39b4295396af>\u001b[0m in \u001b[0;36m<module>\u001b[0;34m\u001b[0m\n\u001b[1;32m      1\u001b[0m \u001b[0;31m# Attention: un tuple est immuable!\u001b[0m\u001b[0;34m\u001b[0m\u001b[0;34m\u001b[0m\u001b[0;34m\u001b[0m\u001b[0m\n\u001b[1;32m      2\u001b[0m \u001b[0mprint\u001b[0m\u001b[0;34m(\u001b[0m\u001b[0mtuple_1\u001b[0m\u001b[0;34m)\u001b[0m\u001b[0;34m\u001b[0m\u001b[0;34m\u001b[0m\u001b[0m\n\u001b[0;32m----> 3\u001b[0;31m \u001b[0mtuple_1\u001b[0m\u001b[0;34m[\u001b[0m\u001b[0;36m2\u001b[0m\u001b[0;34m]\u001b[0m \u001b[0;34m=\u001b[0m \u001b[0;36m10\u001b[0m\u001b[0;34m\u001b[0m\u001b[0;34m\u001b[0m\u001b[0m\n\u001b[0m\u001b[1;32m      4\u001b[0m \u001b[0;31m#tuple_1\u001b[0m\u001b[0;34m\u001b[0m\u001b[0;34m\u001b[0m\u001b[0;34m\u001b[0m\u001b[0m\n",
            "\u001b[0;31mTypeError\u001b[0m: 'tuple' object does not support item assignment"
          ]
        }
      ]
    },
    {
      "cell_type": "code",
      "source": [
        "# Modifier les éléments d'une chaîne de caractères\n",
        "print(texte_1)\n",
        "texte_1[0] = 'l'\n",
        "#texte_1"
      ],
      "metadata": {
        "colab": {
          "base_uri": "https://localhost:8080/",
          "height": 241
        },
        "id": "AN-fe3OUlZNG",
        "outputId": "8e9e43fc-0253-4a07-b4c7-a10aa99152bd"
      },
      "execution_count": null,
      "outputs": [
        {
          "output_type": "stream",
          "name": "stdout",
          "text": [
            "Langage\n"
          ]
        },
        {
          "output_type": "error",
          "ename": "TypeError",
          "evalue": "ignored",
          "traceback": [
            "\u001b[0;31m---------------------------------------------------------------------------\u001b[0m",
            "\u001b[0;31mTypeError\u001b[0m                                 Traceback (most recent call last)",
            "\u001b[0;32m<ipython-input-49-4c02125994a4>\u001b[0m in \u001b[0;36m<module>\u001b[0;34m\u001b[0m\n\u001b[1;32m      1\u001b[0m \u001b[0;31m# Modifier les éléments d'une chaîne de caractères\u001b[0m\u001b[0;34m\u001b[0m\u001b[0;34m\u001b[0m\u001b[0;34m\u001b[0m\u001b[0m\n\u001b[1;32m      2\u001b[0m \u001b[0mprint\u001b[0m\u001b[0;34m(\u001b[0m\u001b[0mtexte_1\u001b[0m\u001b[0;34m)\u001b[0m\u001b[0;34m\u001b[0m\u001b[0;34m\u001b[0m\u001b[0m\n\u001b[0;32m----> 3\u001b[0;31m \u001b[0mtexte_1\u001b[0m\u001b[0;34m[\u001b[0m\u001b[0;36m0\u001b[0m\u001b[0;34m]\u001b[0m \u001b[0;34m=\u001b[0m \u001b[0;34m'l'\u001b[0m\u001b[0;34m\u001b[0m\u001b[0;34m\u001b[0m\u001b[0m\n\u001b[0m\u001b[1;32m      4\u001b[0m \u001b[0;31m#texte_1\u001b[0m\u001b[0;34m\u001b[0m\u001b[0;34m\u001b[0m\u001b[0;34m\u001b[0m\u001b[0m\n",
            "\u001b[0;31mTypeError\u001b[0m: 'str' object does not support item assignment"
          ]
        }
      ]
    }
  ]
}