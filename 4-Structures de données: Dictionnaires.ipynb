{
  "nbformat": 4,
  "nbformat_minor": 0,
  "metadata": {
    "colab": {
      "provenance": [],
      "authorship_tag": "ABX9TyNi21EBK7SQ+aFeQS0KgM8R",
      "include_colab_link": true
    },
    "kernelspec": {
      "name": "python3",
      "display_name": "Python 3"
    },
    "language_info": {
      "name": "python"
    }
  },
  "cells": [
    {
      "cell_type": "markdown",
      "metadata": {
        "id": "view-in-github",
        "colab_type": "text"
      },
      "source": [
        "<a href=\"https://colab.research.google.com/github/jmadkour/Bases-de-Python/blob/main/4-Structures%20de%20donn%C3%A9es%3A%20Dictionnaires.ipynb\" target=\"_parent\"><img src=\"https://colab.research.google.com/assets/colab-badge.svg\" alt=\"Open In Colab\"/></a>"
      ]
    },
    {
      "cell_type": "markdown",
      "source": [
        "### **Strcutures des données: Dictionnaires**\n",
        "Le **dictionnaire** est une structure de données dont les éléments ne sont pas **ordonnés**. L'utilisation d'un **index** n'est donc plus justifée, il sera remplacé par une **clef** (qui doit être unique) à laquelle sera associée une **valeur** (qui n'est pas nécessairement unique):\n",
        "\n",
        "dictionnaire = { clef1 : valeur1 , clef2 : valeur2 , clef3 : valeur3 }"
      ],
      "metadata": {
        "id": "fqHbfVf-Fe8I"
      }
    },
    {
      "cell_type": "markdown",
      "source": [
        "**Dictionnaire vide**"
      ],
      "metadata": {
        "id": "pZPyIG8W01lI"
      }
    },
    {
      "cell_type": "code",
      "source": [
        "dictionnaire_vide = {}\n",
        "dictionnaire_vide"
      ],
      "metadata": {
        "colab": {
          "base_uri": "https://localhost:8080/"
        },
        "id": "vO9o7-YD0Ywq",
        "outputId": "770c8001-ed79-4b6a-82f3-75ceeee935a3"
      },
      "execution_count": null,
      "outputs": [
        {
          "output_type": "execute_result",
          "data": {
            "text/plain": [
              "{}"
            ]
          },
          "metadata": {},
          "execution_count": 57
        }
      ]
    },
    {
      "cell_type": "markdown",
      "source": [
        "**Association de chaînes de caractères à des chaînes de caractères**"
      ],
      "metadata": {
        "id": "47Dj2PF0FYpM"
      }
    },
    {
      "cell_type": "code",
      "source": [
        "traduction = {\n",
        "    \"Chien\" : \"Dog\",\n",
        "    \"Chat\"  : \"Cat\",\n",
        "    \"Souris\": \"Mouse\"\n",
        "}\n",
        "traduction"
      ],
      "metadata": {
        "id": "DnQoM_u6bDZk",
        "colab": {
          "base_uri": "https://localhost:8080/"
        },
        "outputId": "083a19cf-7b0e-4132-edb1-be4a716b8baf"
      },
      "execution_count": null,
      "outputs": [
        {
          "output_type": "execute_result",
          "data": {
            "text/plain": [
              "{'Chien': 'Dog', 'Chat': 'Cat', 'Souris': 'Mouse'}"
            ]
          },
          "metadata": {},
          "execution_count": 64
        }
      ]
    },
    {
      "cell_type": "markdown",
      "source": [
        "**Association de nombres à des nombres**"
      ],
      "metadata": {
        "id": "irn-IrQkFpca"
      }
    },
    {
      "cell_type": "code",
      "source": [
        "puissance2 = {\n",
        "    4 : 2,\n",
        "    9 : 3,\n",
        "    16: 4\n",
        "}\n",
        "puissance2"
      ],
      "metadata": {
        "colab": {
          "base_uri": "https://localhost:8080/"
        },
        "id": "A9HapKh9CemD",
        "outputId": "bf321ed5-e55b-45b9-d0b0-41d80771c19e"
      },
      "execution_count": null,
      "outputs": [
        {
          "output_type": "execute_result",
          "data": {
            "text/plain": [
              "{4: 2, 9: 3, 16: 4}"
            ]
          },
          "metadata": {},
          "execution_count": 65
        }
      ]
    },
    {
      "cell_type": "markdown",
      "source": [
        "**Association de chaînes de caractères à des nombres**"
      ],
      "metadata": {
        "id": "oG8_IKugFuV5"
      }
    },
    {
      "cell_type": "code",
      "source": [
        "prefectures = {\n",
        "    40 : \"Tanger\",\n",
        "    44 : \"Tétouan\",\n",
        "    42 : \"Larache\"\n",
        "}\n",
        "prefectures"
      ],
      "metadata": {
        "colab": {
          "base_uri": "https://localhost:8080/"
        },
        "id": "u5GNlYt_CsYx",
        "outputId": "bf73de24-7313-4e60-9c64-28d9e1009fc6"
      },
      "execution_count": null,
      "outputs": [
        {
          "output_type": "execute_result",
          "data": {
            "text/plain": [
              "{40: 'Tanger', 44: 'Tétouan', 42: 'Larache'}"
            ]
          },
          "metadata": {},
          "execution_count": 66
        }
      ]
    },
    {
      "cell_type": "markdown",
      "source": [
        "**Association de nombres à des chaînes de caractères**"
      ],
      "metadata": {
        "id": "cjQ72YZBFyLF"
      }
    },
    {
      "cell_type": "code",
      "source": [
        "legumes = {\n",
        "    \"Tomates\" : 5,\n",
        "    \"Carottes\": 7,\n",
        "    \"Navets\"  : 8\n",
        "}\n",
        "legumes"
      ],
      "metadata": {
        "colab": {
          "base_uri": "https://localhost:8080/"
        },
        "id": "viz_Omy-DKmL",
        "outputId": "b777654d-fbb6-43eb-81e7-58091c592810"
      },
      "execution_count": null,
      "outputs": [
        {
          "output_type": "execute_result",
          "data": {
            "text/plain": [
              "{'Tomates': 5, 'Carottes': 7, 'Navets': 8}"
            ]
          },
          "metadata": {},
          "execution_count": 67
        }
      ]
    },
    {
      "cell_type": "markdown",
      "source": [
        "#### **Dictionnaires de dictionnaires**"
      ],
      "metadata": {
        "id": "0P82yrwiF67x"
      }
    },
    {
      "cell_type": "code",
      "source": [
        "dictionnaire = {\n",
        "    \"dict_1\" : traduction,\n",
        "    \"dict_2\" : legumes,\n",
        "    \"dict_3\" : puissance2\n",
        "    }\n",
        "dictionnaire"
      ],
      "metadata": {
        "colab": {
          "base_uri": "https://localhost:8080/"
        },
        "id": "GfrjliwmDpHR",
        "outputId": "ea5a7260-6bb3-4752-c863-de1a9ea18ebf"
      },
      "execution_count": null,
      "outputs": [
        {
          "output_type": "execute_result",
          "data": {
            "text/plain": [
              "{'dict_1': {'Chien': 'Dog', 'Chat': 'Cat', 'Souris': 'Mouse'},\n",
              " 'dict_2': {'Tomates': 5, 'Carottes': 7, 'Navets': 8},\n",
              " 'dict_3': {4: 2, 9: 3, 16: 4}}"
            ]
          },
          "metadata": {},
          "execution_count": 68
        }
      ]
    },
    {
      "cell_type": "code",
      "source": [
        "legumes"
      ],
      "metadata": {
        "colab": {
          "base_uri": "https://localhost:8080/"
        },
        "id": "8TCdp27d17LF",
        "outputId": "69c07e5b-16fa-4c6d-c6d4-cfaf9d445fdc"
      },
      "execution_count": null,
      "outputs": [
        {
          "output_type": "execute_result",
          "data": {
            "text/plain": [
              "{'Tomates': 5, 'Carottes': 7, 'Navets': 8}"
            ]
          },
          "metadata": {},
          "execution_count": 69
        }
      ]
    },
    {
      "cell_type": "code",
      "source": [
        "legumes['Oignons'] = 9\n",
        "legumes"
      ],
      "metadata": {
        "colab": {
          "base_uri": "https://localhost:8080/"
        },
        "id": "s83Rhw3Yej8y",
        "outputId": "9352b2f0-3f96-48d3-873c-585285aea31b"
      },
      "execution_count": null,
      "outputs": [
        {
          "output_type": "execute_result",
          "data": {
            "text/plain": [
              "{'Tomates': 5, 'Carottes': 7, 'Navets': 8, 'Oignons': 9}"
            ]
          },
          "metadata": {},
          "execution_count": 70
        }
      ]
    },
    {
      "cell_type": "markdown",
      "source": [
        "### **Méthodes associées aux Dictionnaires**\n",
        "\n",
        "* ~~**index**~~\n",
        "* ~~**insert**~~ (index , élément)\n",
        "* ~~**append**~~\n",
        "* ~~**extend**~~\n",
        "* ~~**remove**~~ (élément)\n",
        "* ~~**sort**~~\n",
        "* ~~**reverse**~~\n",
        "* ~~**count**~~\n",
        "* **copy**\n",
        "* **keys**\n",
        "* **values**\n",
        "* **fromkeys**\n",
        "* **get**\n",
        "* **items**\n",
        "* **pop**\n",
        "* **popitem**\n",
        "* **setdefault**\n",
        "* **update**\n",
        "* **clear**\n"
      ],
      "metadata": {
        "id": "LDcNBzsmdhQw"
      }
    },
    {
      "cell_type": "code",
      "source": [
        "legumes.index()"
      ],
      "metadata": {
        "colab": {
          "base_uri": "https://localhost:8080/",
          "height": 169
        },
        "id": "38KlFcqj2n8O",
        "outputId": "87c7324f-7d42-4dfc-f6b0-8bcfd2fb5320"
      },
      "execution_count": null,
      "outputs": [
        {
          "output_type": "error",
          "ename": "AttributeError",
          "evalue": "ignored",
          "traceback": [
            "\u001b[0;31m---------------------------------------------------------------------------\u001b[0m",
            "\u001b[0;31mAttributeError\u001b[0m                            Traceback (most recent call last)",
            "\u001b[0;32m<ipython-input-71-5133ff7e1690>\u001b[0m in \u001b[0;36m<module>\u001b[0;34m\u001b[0m\n\u001b[0;32m----> 1\u001b[0;31m \u001b[0mlegumes\u001b[0m\u001b[0;34m.\u001b[0m\u001b[0mindex\u001b[0m\u001b[0;34m(\u001b[0m\u001b[0;34m)\u001b[0m\u001b[0;34m\u001b[0m\u001b[0;34m\u001b[0m\u001b[0m\n\u001b[0m",
            "\u001b[0;31mAttributeError\u001b[0m: 'dict' object has no attribute 'index'"
          ]
        }
      ]
    },
    {
      "cell_type": "markdown",
      "source": [
        "**copy**"
      ],
      "metadata": {
        "id": "3j3H9ncIfCa2"
      }
    },
    {
      "cell_type": "code",
      "source": [
        "print(legumes)\n",
        "legumes2 = legumes.copy()\n",
        "legumes2"
      ],
      "metadata": {
        "colab": {
          "base_uri": "https://localhost:8080/"
        },
        "id": "R2CD0EjPdgf0",
        "outputId": "58bf46d4-4797-46fc-f6f0-e8b9851dbcde"
      },
      "execution_count": null,
      "outputs": [
        {
          "output_type": "stream",
          "name": "stdout",
          "text": [
            "{'Tomates': 5, 'Carottes': 7, 'Navets': 8, 'Oignons': 9}\n"
          ]
        },
        {
          "output_type": "execute_result",
          "data": {
            "text/plain": [
              "{'Tomates': 5, 'Carottes': 7, 'Navets': 8, 'Oignons': 9}"
            ]
          },
          "metadata": {},
          "execution_count": 73
        }
      ]
    },
    {
      "cell_type": "markdown",
      "source": [
        "**keys**"
      ],
      "metadata": {
        "id": "ZhhgeQqsfFme"
      }
    },
    {
      "cell_type": "code",
      "source": [
        "print(legumes)\n",
        "legumes.keys()"
      ],
      "metadata": {
        "id": "PunKJNsbGLo0",
        "colab": {
          "base_uri": "https://localhost:8080/"
        },
        "outputId": "5f90ed6f-bc85-4781-ffea-c64f213365f6"
      },
      "execution_count": null,
      "outputs": [
        {
          "output_type": "stream",
          "name": "stdout",
          "text": [
            "{'Tomates': 5, 'Carottes': 7, 'Navets': 8, 'Oignons': 9}\n"
          ]
        },
        {
          "output_type": "execute_result",
          "data": {
            "text/plain": [
              "dict_keys(['Tomates', 'Carottes', 'Navets', 'Oignons'])"
            ]
          },
          "metadata": {},
          "execution_count": 75
        }
      ]
    },
    {
      "cell_type": "markdown",
      "source": [
        "**values**"
      ],
      "metadata": {
        "id": "ZClumktpfJC1"
      }
    },
    {
      "cell_type": "code",
      "source": [
        "print(legumes)\n",
        "legumes.values()"
      ],
      "metadata": {
        "colab": {
          "base_uri": "https://localhost:8080/"
        },
        "id": "Fykj51wNfKv0",
        "outputId": "325d272f-91c9-49ff-da55-b9b01b856963"
      },
      "execution_count": null,
      "outputs": [
        {
          "output_type": "stream",
          "name": "stdout",
          "text": [
            "{'Tomates': 5, 'Carottes': 7, 'Navets': 8, 'Oignons': 9}\n"
          ]
        },
        {
          "output_type": "execute_result",
          "data": {
            "text/plain": [
              "dict_values([5, 7, 8, 9])"
            ]
          },
          "metadata": {},
          "execution_count": 76
        }
      ]
    },
    {
      "cell_type": "markdown",
      "source": [
        "**fromkeys**"
      ],
      "metadata": {
        "id": "xL61gbb1fLi2"
      }
    },
    {
      "cell_type": "code",
      "source": [
        "animaux = ['chat' , 'chien' , 'vache' , 'mouton' , 'chèvre']\n",
        "dict_animaux = {}\n",
        "dict_animaux"
      ],
      "metadata": {
        "colab": {
          "base_uri": "https://localhost:8080/"
        },
        "id": "SHg1-5H2fQdn",
        "outputId": "35b6e4f2-5232-40b0-e199-1bdc8bdb9337"
      },
      "execution_count": null,
      "outputs": [
        {
          "output_type": "execute_result",
          "data": {
            "text/plain": [
              "{}"
            ]
          },
          "metadata": {},
          "execution_count": 79
        }
      ]
    },
    {
      "cell_type": "code",
      "source": [
        "dict_animaux.fromkeys(animaux)"
      ],
      "metadata": {
        "colab": {
          "base_uri": "https://localhost:8080/"
        },
        "id": "njRY71-o4oD6",
        "outputId": "9de939b6-bdc8-473c-928d-7b3f5b1dea1f"
      },
      "execution_count": null,
      "outputs": [
        {
          "output_type": "execute_result",
          "data": {
            "text/plain": [
              "{'chat': None, 'chien': None, 'vache': None, 'mouton': None, 'chèvre': None}"
            ]
          },
          "metadata": {},
          "execution_count": 80
        }
      ]
    },
    {
      "cell_type": "code",
      "source": [
        "animaux = ['chat' , 'chien' , 'vache' , 'mouton' , 'chèvre']\n",
        "dict_animaux = {}\n",
        "dict_animaux.fromkeys(animaux , 'animal')"
      ],
      "metadata": {
        "colab": {
          "base_uri": "https://localhost:8080/"
        },
        "id": "uHY6vpn6gCVq",
        "outputId": "8620b3f1-d905-4444-ea4d-43d1692494c7"
      },
      "execution_count": null,
      "outputs": [
        {
          "output_type": "execute_result",
          "data": {
            "text/plain": [
              "{'chat': 'animal',\n",
              " 'chien': 'animal',\n",
              " 'vache': 'animal',\n",
              " 'mouton': 'animal',\n",
              " 'chèvre': 'animal'}"
            ]
          },
          "metadata": {},
          "execution_count": 81
        }
      ]
    },
    {
      "cell_type": "markdown",
      "source": [
        "**get**"
      ],
      "metadata": {
        "id": "Sc1U0M0gjy2n"
      }
    },
    {
      "cell_type": "code",
      "source": [
        "legumes"
      ],
      "metadata": {
        "colab": {
          "base_uri": "https://localhost:8080/"
        },
        "id": "FN73j-ds5LPi",
        "outputId": "ab63a9fa-ed8c-45b1-9023-d3641c60fe68"
      },
      "execution_count": null,
      "outputs": [
        {
          "output_type": "execute_result",
          "data": {
            "text/plain": [
              "{'Tomates': 5, 'Carottes': 7, 'Navets': 8, 'Oignons': 9}"
            ]
          },
          "metadata": {},
          "execution_count": 83
        }
      ]
    },
    {
      "cell_type": "code",
      "source": [
        "legumes.get('Ail')"
      ],
      "metadata": {
        "id": "E68KSgTLj0Aq"
      },
      "execution_count": null,
      "outputs": []
    },
    {
      "cell_type": "code",
      "source": [
        "print(legumes.get('Ail'))"
      ],
      "metadata": {
        "colab": {
          "base_uri": "https://localhost:8080/"
        },
        "id": "RNpsF2-jj5i_",
        "outputId": "f19c9d03-b689-4081-b7a1-a284a3fb7da7"
      },
      "execution_count": null,
      "outputs": [
        {
          "output_type": "stream",
          "name": "stdout",
          "text": [
            "None\n"
          ]
        }
      ]
    },
    {
      "cell_type": "code",
      "source": [
        "legumes.get('Ail', 'Attention! Introuvable')"
      ],
      "metadata": {
        "colab": {
          "base_uri": "https://localhost:8080/",
          "height": 36
        },
        "id": "wDZrImUkkI_u",
        "outputId": "8331d1c4-abf3-4777-ff4b-fa0d9f971703"
      },
      "execution_count": null,
      "outputs": [
        {
          "output_type": "execute_result",
          "data": {
            "text/plain": [
              "'Attention! Introuvable'"
            ],
            "application/vnd.google.colaboratory.intrinsic+json": {
              "type": "string"
            }
          },
          "metadata": {},
          "execution_count": 91
        }
      ]
    },
    {
      "cell_type": "code",
      "source": [
        "legumes.get('Courgettes', 'Attention! Introuvable')"
      ],
      "metadata": {
        "colab": {
          "base_uri": "https://localhost:8080/",
          "height": 36
        },
        "id": "5q7jKtSckR7m",
        "outputId": "bb940af4-aae0-47a8-c22c-11faf836dc28"
      },
      "execution_count": null,
      "outputs": [
        {
          "output_type": "execute_result",
          "data": {
            "text/plain": [
              "'Attention! Introuvable'"
            ],
            "application/vnd.google.colaboratory.intrinsic+json": {
              "type": "string"
            }
          },
          "metadata": {},
          "execution_count": 92
        }
      ]
    },
    {
      "cell_type": "code",
      "source": [
        "legumes.get('Tomates', 'Attention! Introuvable')"
      ],
      "metadata": {
        "colab": {
          "base_uri": "https://localhost:8080/"
        },
        "id": "kCsaLm2N5tSp",
        "outputId": "5536c8ca-54ed-448d-fe13-c33c3e86312d"
      },
      "execution_count": null,
      "outputs": [
        {
          "output_type": "execute_result",
          "data": {
            "text/plain": [
              "5"
            ]
          },
          "metadata": {},
          "execution_count": 93
        }
      ]
    },
    {
      "cell_type": "markdown",
      "source": [
        "**setdefault**"
      ],
      "metadata": {
        "id": "oB27nTKPm4kt"
      }
    },
    {
      "cell_type": "code",
      "source": [
        "legumes = {\n",
        "    \"Tomates\" : 5,\n",
        "    \"Carottes\": 7,\n",
        "    \"Navets\"  : 8\n",
        "}"
      ],
      "metadata": {
        "id": "c9C9oa1aoZYS"
      },
      "execution_count": null,
      "outputs": []
    },
    {
      "cell_type": "code",
      "source": [
        "legumes.get('Ail', 'introuvable')"
      ],
      "metadata": {
        "colab": {
          "base_uri": "https://localhost:8080/",
          "height": 36
        },
        "id": "CINcnArWooGf",
        "outputId": "e960b305-17f3-4880-f37e-12b873b7a33c"
      },
      "execution_count": null,
      "outputs": [
        {
          "output_type": "execute_result",
          "data": {
            "text/plain": [
              "'introuvable'"
            ],
            "application/vnd.google.colaboratory.intrinsic+json": {
              "type": "string"
            }
          },
          "metadata": {},
          "execution_count": 95
        }
      ]
    },
    {
      "cell_type": "code",
      "source": [
        "legumes.setdefault('Ail' , 10)"
      ],
      "metadata": {
        "colab": {
          "base_uri": "https://localhost:8080/"
        },
        "id": "DzZ1kA82opxt",
        "outputId": "123807fb-6889-46d3-e64c-bef869541849"
      },
      "execution_count": null,
      "outputs": [
        {
          "output_type": "execute_result",
          "data": {
            "text/plain": [
              "10"
            ]
          },
          "metadata": {},
          "execution_count": 96
        }
      ]
    },
    {
      "cell_type": "code",
      "source": [
        "legumes"
      ],
      "metadata": {
        "colab": {
          "base_uri": "https://localhost:8080/"
        },
        "id": "ZmTcVrMgoy_7",
        "outputId": "b3a74a93-6d28-435d-e48d-8a609262c416"
      },
      "execution_count": null,
      "outputs": [
        {
          "output_type": "execute_result",
          "data": {
            "text/plain": [
              "{'Tomates': 5, 'Carottes': 7, 'Navets': 8, 'Ail': 10}"
            ]
          },
          "metadata": {},
          "execution_count": 97
        }
      ]
    },
    {
      "cell_type": "markdown",
      "source": [
        "**pop**"
      ],
      "metadata": {
        "id": "0YFHxvfFko25"
      }
    },
    {
      "cell_type": "code",
      "source": [
        "legumes = {\n",
        "    \"Tomates\" : 5,\n",
        "    \"Carottes\": 7,\n",
        "    \"Navets\"  : 8\n",
        "}\n",
        "legumes"
      ],
      "metadata": {
        "colab": {
          "base_uri": "https://localhost:8080/"
        },
        "id": "8OVh1wMulYKD",
        "outputId": "ac87c42b-f56f-4fd3-f3c1-e610c5f91de3"
      },
      "execution_count": null,
      "outputs": [
        {
          "output_type": "execute_result",
          "data": {
            "text/plain": [
              "{'Tomates': 5, 'Carottes': 7, 'Navets': 8}"
            ]
          },
          "metadata": {},
          "execution_count": 102
        }
      ]
    },
    {
      "cell_type": "code",
      "source": [
        "fruit = legumes.pop('Tomates')"
      ],
      "metadata": {
        "id": "W2lK7WtukZPP"
      },
      "execution_count": null,
      "outputs": []
    },
    {
      "cell_type": "code",
      "source": [
        "fruit"
      ],
      "metadata": {
        "colab": {
          "base_uri": "https://localhost:8080/"
        },
        "id": "o9c1sdJh6tm9",
        "outputId": "5b6a3ef3-edde-420a-9450-0ccc609cae3f"
      },
      "execution_count": null,
      "outputs": [
        {
          "output_type": "execute_result",
          "data": {
            "text/plain": [
              "5"
            ]
          },
          "metadata": {},
          "execution_count": 104
        }
      ]
    },
    {
      "cell_type": "code",
      "source": [
        "legumes"
      ],
      "metadata": {
        "colab": {
          "base_uri": "https://localhost:8080/"
        },
        "id": "ONl1UsmelN5L",
        "outputId": "55d1490f-f814-4327-93ca-1d969c9d44a5"
      },
      "execution_count": null,
      "outputs": [
        {
          "output_type": "execute_result",
          "data": {
            "text/plain": [
              "{'Carottes': 7, 'Navets': 8}"
            ]
          },
          "metadata": {},
          "execution_count": 105
        }
      ]
    },
    {
      "cell_type": "markdown",
      "source": [
        "**popitem**"
      ],
      "metadata": {
        "id": "1lGSp6allhkp"
      }
    },
    {
      "cell_type": "code",
      "source": [
        "legumes = {\n",
        "    \"Tomates\" : 5,\n",
        "    \"Carottes\": 7,\n",
        "    \"Navets\"  : 8\n",
        "}"
      ],
      "metadata": {
        "id": "muM8A4_GlQQW"
      },
      "execution_count": null,
      "outputs": []
    },
    {
      "cell_type": "code",
      "source": [
        "legumes3 = legumes.popitem()"
      ],
      "metadata": {
        "id": "e1CKGwF3lpe2"
      },
      "execution_count": null,
      "outputs": []
    },
    {
      "cell_type": "code",
      "source": [
        "legumes3"
      ],
      "metadata": {
        "colab": {
          "base_uri": "https://localhost:8080/"
        },
        "id": "vtHv9_cn7QYx",
        "outputId": "e067cb86-74d4-46bf-a1b1-a5c7677de40f"
      },
      "execution_count": null,
      "outputs": [
        {
          "output_type": "execute_result",
          "data": {
            "text/plain": [
              "('Navets', 8)"
            ]
          },
          "metadata": {},
          "execution_count": 114
        }
      ]
    },
    {
      "cell_type": "code",
      "source": [
        "type(legumes3)"
      ],
      "metadata": {
        "colab": {
          "base_uri": "https://localhost:8080/"
        },
        "id": "vkEVOdax7ViP",
        "outputId": "4a17c132-b878-4082-df2a-69bf166ad78e"
      },
      "execution_count": null,
      "outputs": [
        {
          "output_type": "execute_result",
          "data": {
            "text/plain": [
              "tuple"
            ]
          },
          "metadata": {},
          "execution_count": 115
        }
      ]
    },
    {
      "cell_type": "code",
      "source": [
        "legumes"
      ],
      "metadata": {
        "colab": {
          "base_uri": "https://localhost:8080/"
        },
        "id": "vvkRpXtOlrXv",
        "outputId": "74239151-729c-4a07-8671-ac2f4f9d1090"
      },
      "execution_count": null,
      "outputs": [
        {
          "output_type": "execute_result",
          "data": {
            "text/plain": [
              "{'Tomates': 5, 'Carottes': 7}"
            ]
          },
          "metadata": {},
          "execution_count": 116
        }
      ]
    },
    {
      "cell_type": "markdown",
      "source": [
        "**update**"
      ],
      "metadata": {
        "id": "PkQ8UvK-m1hx"
      }
    },
    {
      "cell_type": "code",
      "source": [
        "legumes = {\n",
        "    \"Tomates\" : 5,\n",
        "    \"Carottes\": 7,\n",
        "    \"Navets\"  : 8\n",
        "}\n",
        "\n",
        "legumes2 = {\n",
        "    \"Oignons\" : 6,\n",
        "    \"Ail\"     : 4\n",
        "}"
      ],
      "metadata": {
        "id": "YKeoJFSilxxD"
      },
      "execution_count": null,
      "outputs": []
    },
    {
      "cell_type": "code",
      "source": [
        "legumes.update(legumes2)"
      ],
      "metadata": {
        "id": "__0df-kLndWO"
      },
      "execution_count": null,
      "outputs": []
    },
    {
      "cell_type": "code",
      "source": [
        "legumes"
      ],
      "metadata": {
        "colab": {
          "base_uri": "https://localhost:8080/"
        },
        "id": "oECHs8R0noXd",
        "outputId": "f9b54d67-1fdb-45ae-efec-434f342b7fd1"
      },
      "execution_count": null,
      "outputs": [
        {
          "output_type": "execute_result",
          "data": {
            "text/plain": [
              "{'Tomates': 5, 'Carottes': 7, 'Navets': 8, 'Oignons': 6, 'Ail': 4}"
            ]
          },
          "metadata": {},
          "execution_count": 119
        }
      ]
    },
    {
      "cell_type": "markdown",
      "source": [
        "**clear**"
      ],
      "metadata": {
        "id": "0Yn9wFChmzNJ"
      }
    },
    {
      "cell_type": "code",
      "source": [
        "print(legumes)\n",
        "legumes.clear()"
      ],
      "metadata": {
        "colab": {
          "base_uri": "https://localhost:8080/"
        },
        "id": "j-R5hwUyl4PM",
        "outputId": "a87070fe-8d3b-461f-e068-d811498f2b7d"
      },
      "execution_count": null,
      "outputs": [
        {
          "output_type": "stream",
          "name": "stdout",
          "text": [
            "{'Tomates': 5, 'Carottes': 7, 'Navets': 8, 'Oignons': 6, 'Ail': 4}\n"
          ]
        }
      ]
    },
    {
      "cell_type": "code",
      "source": [
        "legumes"
      ],
      "metadata": {
        "colab": {
          "base_uri": "https://localhost:8080/"
        },
        "id": "NZaGcT5Zo_b8",
        "outputId": "dff3b2f2-9395-4c98-db18-1263b64d9f92"
      },
      "execution_count": null,
      "outputs": [
        {
          "output_type": "execute_result",
          "data": {
            "text/plain": [
              "{}"
            ]
          },
          "metadata": {},
          "execution_count": 121
        }
      ]
    },
    {
      "cell_type": "markdown",
      "source": [
        "#### **Boucle for dans un dictionnaire**"
      ],
      "metadata": {
        "id": "Vhelk4c8l58K"
      }
    },
    {
      "cell_type": "code",
      "source": [
        "legumes = {\n",
        "    \"Tomates\" : 5,\n",
        "    \"Carottes\": 7,\n",
        "    \"Navets\"  : 8\n",
        "}"
      ],
      "metadata": {
        "id": "oQKkBQnul4lj"
      },
      "execution_count": null,
      "outputs": []
    },
    {
      "cell_type": "markdown",
      "source": [
        "**Boucle sur les clefs**"
      ],
      "metadata": {
        "id": "qUasfAgvmfrd"
      }
    },
    {
      "cell_type": "code",
      "source": [
        "for k in legumes:\n",
        "  print(k)"
      ],
      "metadata": {
        "colab": {
          "base_uri": "https://localhost:8080/"
        },
        "id": "FgXk8n4ymAjM",
        "outputId": "f8f3a779-1c14-4413-805e-f9c6c5cf5638"
      },
      "execution_count": null,
      "outputs": [
        {
          "output_type": "stream",
          "name": "stdout",
          "text": [
            "Tomates\n",
            "Carottes\n",
            "Navets\n"
          ]
        }
      ]
    },
    {
      "cell_type": "code",
      "source": [
        "for k in legumes.keys():\n",
        "  print(k)"
      ],
      "metadata": {
        "colab": {
          "base_uri": "https://localhost:8080/"
        },
        "id": "SCrWv5UFmSlG",
        "outputId": "d8f53fac-be8c-4280-c2b1-2b9b1d82be3c"
      },
      "execution_count": null,
      "outputs": [
        {
          "output_type": "stream",
          "name": "stdout",
          "text": [
            "Tomates\n",
            "Carottes\n",
            "Navets\n"
          ]
        }
      ]
    },
    {
      "cell_type": "markdown",
      "source": [
        "**Boucle sur les valeurs**"
      ],
      "metadata": {
        "id": "bQZW3lKEmlzx"
      }
    },
    {
      "cell_type": "code",
      "source": [
        "for v in legumes.values():\n",
        "  print(v)"
      ],
      "metadata": {
        "colab": {
          "base_uri": "https://localhost:8080/"
        },
        "id": "vN1V-63ImInS",
        "outputId": "8e4e5b11-89ea-47de-e8bf-f0d8d200acb8"
      },
      "execution_count": null,
      "outputs": [
        {
          "output_type": "stream",
          "name": "stdout",
          "text": [
            "5\n",
            "7\n",
            "8\n"
          ]
        }
      ]
    },
    {
      "cell_type": "markdown",
      "source": [
        "**Boucle sur les clefs et les valeurs**"
      ],
      "metadata": {
        "id": "1l7-frbempc7"
      }
    },
    {
      "cell_type": "code",
      "source": [
        "for k , v in legumes.items():\n",
        "  print(k , v)"
      ],
      "metadata": {
        "colab": {
          "base_uri": "https://localhost:8080/"
        },
        "id": "8nxDIBJSmPDc",
        "outputId": "6f6b5929-60f1-4237-8675-09ddd389c385"
      },
      "execution_count": null,
      "outputs": [
        {
          "output_type": "stream",
          "name": "stdout",
          "text": [
            "Tomates 5\n",
            "Carottes 7\n",
            "Navets 8\n"
          ]
        }
      ]
    },
    {
      "cell_type": "code",
      "source": [],
      "metadata": {
        "id": "Lm7ksGjv8Ohp"
      },
      "execution_count": null,
      "outputs": []
    }
  ]
}