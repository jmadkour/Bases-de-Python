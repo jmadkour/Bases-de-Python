{
  "nbformat": 4,
  "nbformat_minor": 0,
  "metadata": {
    "colab": {
      "provenance": [],
      "authorship_tag": "ABX9TyO29KHn84ERGLMXsBNu+O66",
      "include_colab_link": true
    },
    "kernelspec": {
      "name": "python3",
      "display_name": "Python 3"
    },
    "language_info": {
      "name": "python"
    }
  },
  "cells": [
    {
      "cell_type": "markdown",
      "metadata": {
        "id": "view-in-github",
        "colab_type": "text"
      },
      "source": [
        "<a href=\"https://colab.research.google.com/github/jmadkour/Bases-de-Python/blob/main/3.5-Structures%20de%20contr%C3%B4le%20vs%20Structures%20de%20donn%C3%A9es%20(S%C3%A9quences).ipynb\" target=\"_parent\"><img src=\"https://colab.research.google.com/assets/colab-badge.svg\" alt=\"Open In Colab\"/></a>"
      ]
    },
    {
      "cell_type": "markdown",
      "source": [
        "### **Des structures de contrôle et des structures de données en interaction**"
      ],
      "metadata": {
        "id": "mX-oSRV7eMuf"
      }
    },
    {
      "cell_type": "code",
      "source": [
        "nombres = [1 , 5 , 5 , 7 , 4 , 3]"
      ],
      "metadata": {
        "id": "KeB1r770mFMD"
      },
      "execution_count": null,
      "outputs": []
    },
    {
      "cell_type": "code",
      "source": [
        "animaux = ['chat' , 'chien' , 'vache' , 'mouton' , 'chèvre']"
      ],
      "metadata": {
        "id": "y1LnjxzhmF7D"
      },
      "execution_count": null,
      "outputs": []
    },
    {
      "cell_type": "markdown",
      "source": [
        "####**Test conditionnel If / Elif / Else**"
      ],
      "metadata": {
        "id": "I3Hf1CuumUka"
      }
    },
    {
      "cell_type": "code",
      "source": [
        "print(nombres)\n",
        "x = 5\n",
        "if x in nombres:\n",
        "  print('Le nombre' , x ,'se trouve dans la liste des nombres')\n",
        "else:\n",
        "  print('Le nombre' , x , 'ne se trouve pas dans la liste des nombres')"
      ],
      "metadata": {
        "colab": {
          "base_uri": "https://localhost:8080/"
        },
        "id": "-yAoLwcrmZjf",
        "outputId": "91bcffc7-c66e-4781-843b-ac5e6d7a997e"
      },
      "execution_count": null,
      "outputs": [
        {
          "output_type": "stream",
          "name": "stdout",
          "text": [
            "[1, 5, 5, 7, 4, 3]\n",
            "Le nombre 5 se trouve dans la liste des nombres\n"
          ]
        }
      ]
    },
    {
      "cell_type": "code",
      "source": [
        "print(animaux)\n",
        "animal = 'chat'\n",
        "if animal in animaux:\n",
        "  # print(\"L'animal \", animal , 'se trouve dans la liste des animaux')\n",
        "  print(\"L'animal {} se trouve dans la liste des animaux\".format(animal) )\n",
        "else:\n",
        "  print(\"L'animal \", animal , 'ne se trouve pas dans la liste des animaux')"
      ],
      "metadata": {
        "colab": {
          "base_uri": "https://localhost:8080/"
        },
        "id": "pub9utKdnGGq",
        "outputId": "e647e80a-696d-4708-ed38-bc7809cd25f5"
      },
      "execution_count": null,
      "outputs": [
        {
          "output_type": "stream",
          "name": "stdout",
          "text": [
            "['chat', 'chien', 'vache', 'mouton', 'chèvre']\n",
            "L'animal chat se trouve dans la liste des animaux\n"
          ]
        }
      ]
    },
    {
      "cell_type": "markdown",
      "source": [
        "#### **Boucle for**"
      ],
      "metadata": {
        "id": "FFtvAVNumapR"
      }
    },
    {
      "cell_type": "code",
      "source": [
        "for i in range(10): # range(10) = range(0,10,1) = [0, 1, 2,...,10[\n",
        "  print(i)"
      ],
      "metadata": {
        "colab": {
          "base_uri": "https://localhost:8080/"
        },
        "id": "0HwWn8TWqCiE",
        "outputId": "3563c71b-4002-40b6-9e02-315096eacad2"
      },
      "execution_count": null,
      "outputs": [
        {
          "output_type": "stream",
          "name": "stdout",
          "text": [
            "0\n",
            "1\n",
            "2\n",
            "3\n",
            "4\n",
            "5\n",
            "6\n",
            "7\n",
            "8\n",
            "9\n"
          ]
        }
      ]
    },
    {
      "cell_type": "code",
      "source": [
        "print(nombres)\n",
        "for nombre in nombres: # [1, 5, 5, 7, 4, 3]\n",
        "  print(nombre)"
      ],
      "metadata": {
        "colab": {
          "base_uri": "https://localhost:8080/"
        },
        "id": "f0hAqj36mgNI",
        "outputId": "a94fdb44-b868-4d9f-e62d-39daa67a40f5"
      },
      "execution_count": null,
      "outputs": [
        {
          "output_type": "stream",
          "name": "stdout",
          "text": [
            "[1, 5, 5, 7, 4, 3]\n",
            "1\n",
            "5\n",
            "5\n",
            "7\n",
            "4\n",
            "3\n"
          ]
        }
      ]
    },
    {
      "cell_type": "code",
      "source": [
        "print(animaux)\n",
        "for i in animaux: # ['chat', 'chien', 'vache', 'mouton', 'chèvre']\n",
        "  print(i)"
      ],
      "metadata": {
        "colab": {
          "base_uri": "https://localhost:8080/"
        },
        "id": "vmnzNVknoH5N",
        "outputId": "ce815f80-f34a-40db-c685-5938e48ffbc5"
      },
      "execution_count": null,
      "outputs": [
        {
          "output_type": "stream",
          "name": "stdout",
          "text": [
            "['chat', 'chien', 'vache', 'mouton', 'chèvre']\n",
            "chat\n",
            "chien\n",
            "vache\n",
            "mouton\n",
            "chèvre\n"
          ]
        }
      ]
    },
    {
      "cell_type": "code",
      "source": [
        "print(animaux)\n",
        "for index , animal in enumerate(animaux):\n",
        "  print(index , animal)\n",
        "\n",
        "#[ 0      , 1       , 2 ,      3 ,       4   ]\n",
        "#['chat', 'chien', 'vache', 'mouton', 'chèvre']"
      ],
      "metadata": {
        "colab": {
          "base_uri": "https://localhost:8080/"
        },
        "id": "eFLUTM0xqVzT",
        "outputId": "8ce473a4-286f-4bad-839e-abcb54cac1cd"
      },
      "execution_count": null,
      "outputs": [
        {
          "output_type": "stream",
          "name": "stdout",
          "text": [
            "['chat', 'chien', 'vache', 'mouton', 'chèvre']\n",
            "0 chat\n",
            "1 chien\n",
            "2 vache\n",
            "3 mouton\n",
            "4 chèvre\n"
          ]
        }
      ]
    },
    {
      "cell_type": "code",
      "source": [
        "print(nombres)\n",
        "print(animaux)\n",
        "for nombre , animal in zip(nombres , animaux):\n",
        "  print(nombre , animal)\n",
        "\n",
        "# [1,         5,       5,       7,      4        , 3]\n",
        "# ['chat', 'chien', 'vache', 'mouton', 'chèvre'       ]"
      ],
      "metadata": {
        "colab": {
          "base_uri": "https://localhost:8080/"
        },
        "id": "uEMWqBIjqjvA",
        "outputId": "6dee5a8c-30bd-4d0e-dc82-d37e4b998ba9"
      },
      "execution_count": null,
      "outputs": [
        {
          "output_type": "stream",
          "name": "stdout",
          "text": [
            "[1, 5, 5, 7, 4, 3]\n",
            "['chat', 'chien', 'vache', 'mouton', 'chèvre']\n",
            "1 chat\n",
            "5 chien\n",
            "5 vache\n",
            "7 mouton\n",
            "4 chèvre\n"
          ]
        }
      ]
    },
    {
      "cell_type": "markdown",
      "source": [
        "#### **Boucle while** = for + if"
      ],
      "metadata": {
        "id": "ZW19zAqx70KE"
      }
    },
    {
      "cell_type": "code",
      "source": [
        "i = 0\n",
        "while i in range(10): # range(10) = range(0,10,1) = [0, 1, 2,...,10[\n",
        "  print(i)\n",
        "  i += 1"
      ],
      "metadata": {
        "colab": {
          "base_uri": "https://localhost:8080/"
        },
        "id": "aBGH_C_S7zPj",
        "outputId": "49ec5f3b-5570-4508-e0e6-3cc262008454"
      },
      "execution_count": null,
      "outputs": [
        {
          "output_type": "stream",
          "name": "stdout",
          "text": [
            "0\n",
            "1\n",
            "2\n",
            "3\n",
            "4\n",
            "5\n",
            "6\n",
            "7\n",
            "8\n",
            "9\n"
          ]
        }
      ]
    },
    {
      "cell_type": "code",
      "source": [
        "nombres = [1 , 5 , 5 , 7 , 4 , 3]\n",
        "print(nombres)\n",
        "\n",
        "while len(nombres) != 0: #length (== égal , != différent)\n",
        "  print(nombres)\n",
        "  nombres.pop(0) # éliminer l'élément d'index 0"
      ],
      "metadata": {
        "colab": {
          "base_uri": "https://localhost:8080/"
        },
        "id": "HoWaH-QM86fS",
        "outputId": "289bb155-96ce-4e79-af33-118d5b6179c7"
      },
      "execution_count": null,
      "outputs": [
        {
          "output_type": "stream",
          "name": "stdout",
          "text": [
            "[1, 5, 5, 7, 4, 3]\n",
            "[1, 5, 5, 7, 4, 3]\n",
            "[5, 5, 7, 4, 3]\n",
            "[5, 7, 4, 3]\n",
            "[7, 4, 3]\n",
            "[4, 3]\n",
            "[3]\n"
          ]
        }
      ]
    },
    {
      "cell_type": "code",
      "source": [
        "len(nombres)"
      ],
      "metadata": {
        "colab": {
          "base_uri": "https://localhost:8080/"
        },
        "id": "c1ILoiI0ylDW",
        "outputId": "4a4a3024-2645-45d6-fe66-2877ef201f2b"
      },
      "execution_count": null,
      "outputs": [
        {
          "output_type": "execute_result",
          "data": {
            "text/plain": [
              "0"
            ]
          },
          "metadata": {},
          "execution_count": 19
        }
      ]
    },
    {
      "cell_type": "code",
      "source": [
        "animaux = ['chat' , 'chien' , 'vache' , 'mouton' , 'chèvre']\n",
        "print(animaux)\n",
        "\n",
        "while len(animaux) != 0:\n",
        "  print(animaux)\n",
        "  animaux.pop(-1)"
      ],
      "metadata": {
        "colab": {
          "base_uri": "https://localhost:8080/"
        },
        "id": "mwh_xpfO8GJP",
        "outputId": "d39d026d-7893-4764-aeda-321ff10cc3af"
      },
      "execution_count": null,
      "outputs": [
        {
          "output_type": "stream",
          "name": "stdout",
          "text": [
            "['chat', 'chien', 'vache', 'mouton', 'chèvre']\n",
            "['chat', 'chien', 'vache', 'mouton', 'chèvre']\n",
            "['chat', 'chien', 'vache', 'mouton']\n",
            "['chat', 'chien', 'vache']\n",
            "['chat', 'chien']\n",
            "['chat']\n"
          ]
        }
      ]
    },
    {
      "cell_type": "code",
      "source": [
        "animaux"
      ],
      "metadata": {
        "id": "iq9kcbMAzSot",
        "outputId": "2728d4c1-0aa2-49ff-ea9f-9d182987fc70",
        "colab": {
          "base_uri": "https://localhost:8080/"
        }
      },
      "execution_count": null,
      "outputs": [
        {
          "output_type": "execute_result",
          "data": {
            "text/plain": [
              "[]"
            ]
          },
          "metadata": {},
          "execution_count": 21
        }
      ]
    },
    {
      "cell_type": "code",
      "source": [],
      "metadata": {
        "id": "iKl8ZsnrzRuk"
      },
      "execution_count": null,
      "outputs": []
    }
  ]
}