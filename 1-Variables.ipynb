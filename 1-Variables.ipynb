{
  "nbformat": 4,
  "nbformat_minor": 0,
  "metadata": {
    "colab": {
      "provenance": [],
      "authorship_tag": "ABX9TyPfQUNDRItzcY7kyauOx0an",
      "include_colab_link": true
    },
    "kernelspec": {
      "name": "python3",
      "display_name": "Python 3"
    },
    "language_info": {
      "name": "python"
    }
  },
  "cells": [
    {
      "cell_type": "markdown",
      "metadata": {
        "id": "view-in-github",
        "colab_type": "text"
      },
      "source": [
        "<a href=\"https://colab.research.google.com/github/jmadkour/Bases-de-Python/blob/main/1-Variables.ipynb\" target=\"_parent\"><img src=\"https://colab.research.google.com/assets/colab-badge.svg\" alt=\"Open In Colab\"/></a>"
      ]
    },
    {
      "cell_type": "markdown",
      "source": [
        "###**Variables**\n",
        "\n",
        "La création d'une variable dans Python nécessite trois éléments:\n",
        "* Le **nom** de la variable;\n",
        "* La **valeur** (quatitative, qualitative ou booléenne);\n",
        "* L'**assignation** de la **valeur** au **nom** de la variable à l'aide du symbole = (qui n'est pas une **égalité**!).\n",
        "\n",
        "Le choix du nom de la variable obéit à certaines règles:\n",
        "* Il ne doit pas contenir d'espace;\n",
        "* Il peut contenir de lettres et des chiffres, à condition de ne pas commencer par un chiffre;\n",
        "* Il ne doit pas contenir de lettres accentuées ni de caractères spéciaux (à l'exception de l'underscore _ )\n",
        "* Il ne doit pas contenir d'opérateur arithmétique (+, -, * et /).\n",
        "\n"
      ],
      "metadata": {
        "id": "9xrjAn3HDuFy"
      }
    },
    {
      "cell_type": "markdown",
      "source": [
        "#### **Variable quantitative**\n",
        "\n",
        "On affecte la valeur 1 à la variable x:"
      ],
      "metadata": {
        "id": "lNMRBzkT7vLE"
      }
    },
    {
      "cell_type": "code",
      "execution_count": null,
      "metadata": {
        "id": "NXxvO100_7dC"
      },
      "outputs": [],
      "source": [
        "x = 1"
      ]
    },
    {
      "cell_type": "markdown",
      "source": [
        "Pour afficher le contenu de la variable x, il suffit de saisir son nom x et excécuter la commande:"
      ],
      "metadata": {
        "id": "HE53eGhI_rMi"
      }
    },
    {
      "cell_type": "code",
      "source": [
        "x"
      ],
      "metadata": {
        "colab": {
          "base_uri": "https://localhost:8080/"
        },
        "id": "DbJpJzAGDxJk",
        "outputId": "5e4e079c-c580-488f-b4d3-e3b683996628"
      },
      "execution_count": null,
      "outputs": [
        {
          "output_type": "execute_result",
          "data": {
            "text/plain": [
              "1"
            ]
          },
          "metadata": {},
          "execution_count": 2
        }
      ]
    },
    {
      "cell_type": "markdown",
      "source": [
        "Pour afficher le contenu de la variable x, on peut aussi \"l'imprimer\" à l'écran à l'aide de la fonction **print()**:"
      ],
      "metadata": {
        "id": "MN-Gm-GKABeR"
      }
    },
    {
      "cell_type": "code",
      "source": [
        "print( x )"
      ],
      "metadata": {
        "colab": {
          "base_uri": "https://localhost:8080/"
        },
        "id": "c052JguVD3B0",
        "outputId": "9b4e9a05-dfd7-403c-a5dc-5ead0d1cd992"
      },
      "execution_count": null,
      "outputs": [
        {
          "output_type": "stream",
          "name": "stdout",
          "text": [
            "1\n"
          ]
        }
      ]
    },
    {
      "cell_type": "markdown",
      "source": [
        "#### **Variable qualitative / string**\n",
        "\n",
        "On affecte le texte \"texte\" (entre 2 guillemets \" \" ou entre 2 apostrophes ' ') à la variable y:"
      ],
      "metadata": {
        "id": "gr_FDWvdAWHd"
      }
    },
    {
      "cell_type": "code",
      "source": [
        "y = \"texte\"\n",
        "y"
      ],
      "metadata": {
        "colab": {
          "base_uri": "https://localhost:8080/",
          "height": 35
        },
        "id": "MWXIr1djD4Fm",
        "outputId": "3c00d039-13be-45b2-ceae-b78e9dee7d2e"
      },
      "execution_count": null,
      "outputs": [
        {
          "output_type": "execute_result",
          "data": {
            "text/plain": [
              "'texte'"
            ],
            "application/vnd.google.colaboratory.intrinsic+json": {
              "type": "string"
            }
          },
          "metadata": {},
          "execution_count": 2
        }
      ]
    },
    {
      "cell_type": "markdown",
      "source": [
        "#### **Variable booléenne: True et False**"
      ],
      "metadata": {
        "id": "FWe_cQF-A-jN"
      }
    },
    {
      "cell_type": "code",
      "source": [
        "z = True\n",
        "z"
      ],
      "metadata": {
        "colab": {
          "base_uri": "https://localhost:8080/"
        },
        "id": "81MP_QesEJOB",
        "outputId": "8e61ab7a-b06b-42bd-c7d3-ab2c8a73e5ad"
      },
      "execution_count": null,
      "outputs": [
        {
          "output_type": "execute_result",
          "data": {
            "text/plain": [
              "True"
            ]
          },
          "metadata": {},
          "execution_count": 3
        }
      ]
    },
    {
      "cell_type": "code",
      "source": [
        "z = False\n",
        "z"
      ],
      "metadata": {
        "colab": {
          "base_uri": "https://localhost:8080/"
        },
        "id": "UC9htqh5Eh9W",
        "outputId": "678795cb-4be5-4715-de69-c8d6b7806c4d"
      },
      "execution_count": null,
      "outputs": [
        {
          "output_type": "execute_result",
          "data": {
            "text/plain": [
              "False"
            ]
          },
          "metadata": {},
          "execution_count": 9
        }
      ]
    },
    {
      "cell_type": "markdown",
      "source": [
        "#### On peut assigner des valeurs à des variables simulténément sur la même ligne:"
      ],
      "metadata": {
        "id": "FCyqBS5BDMhs"
      }
    },
    {
      "cell_type": "code",
      "source": [
        "x , y = 1 , 2"
      ],
      "metadata": {
        "id": "wV4vpJlcDXIV"
      },
      "execution_count": null,
      "outputs": []
    },
    {
      "cell_type": "code",
      "source": [
        "print('La valeur de x est: ' , x)\n",
        "print('La valeur de y est: ' , y)"
      ],
      "metadata": {
        "colab": {
          "base_uri": "https://localhost:8080/"
        },
        "id": "Lo8GMRCODYmA",
        "outputId": "84004931-fcd5-4920-8769-616b16c564eb"
      },
      "execution_count": null,
      "outputs": [
        {
          "output_type": "stream",
          "name": "stdout",
          "text": [
            "La valeur de x est:  1\n",
            "La valeur de y est:  2\n"
          ]
        }
      ]
    },
    {
      "cell_type": "markdown",
      "source": [
        "###**Opérations arithmétiques sur les variables**\n",
        "#### **Opérations sur les variables quantitatives**"
      ],
      "metadata": {
        "id": "Gh2cQtdqE9-n"
      }
    },
    {
      "cell_type": "code",
      "source": [
        "# Addition\n",
        "x = 1\n",
        "y = 2\n",
        "x + y"
      ],
      "metadata": {
        "colab": {
          "base_uri": "https://localhost:8080/"
        },
        "id": "MSoX1n74Fr2W",
        "outputId": "b3f0677d-33ba-437e-a83b-e5626cd73c79"
      },
      "execution_count": null,
      "outputs": [
        {
          "output_type": "execute_result",
          "data": {
            "text/plain": [
              "3"
            ]
          },
          "metadata": {},
          "execution_count": 1
        }
      ]
    },
    {
      "cell_type": "code",
      "source": [
        "# Soustraction\n",
        "x - y"
      ],
      "metadata": {
        "colab": {
          "base_uri": "https://localhost:8080/"
        },
        "id": "R_YA_U70F7Tn",
        "outputId": "5b4c348f-ea92-4079-cad2-7c9b9246ab6b"
      },
      "execution_count": null,
      "outputs": [
        {
          "output_type": "execute_result",
          "data": {
            "text/plain": [
              "-1"
            ]
          },
          "metadata": {},
          "execution_count": 2
        }
      ]
    },
    {
      "cell_type": "code",
      "source": [
        "# Multiplication\n",
        "x * y"
      ],
      "metadata": {
        "colab": {
          "base_uri": "https://localhost:8080/"
        },
        "id": "V2TZEcYZF-ke",
        "outputId": "70a2d8be-051e-45d3-95ea-76b75ade44ad"
      },
      "execution_count": null,
      "outputs": [
        {
          "output_type": "execute_result",
          "data": {
            "text/plain": [
              "2"
            ]
          },
          "metadata": {},
          "execution_count": 3
        }
      ]
    },
    {
      "cell_type": "code",
      "source": [
        "# Division\n",
        "x / y"
      ],
      "metadata": {
        "colab": {
          "base_uri": "https://localhost:8080/"
        },
        "id": "UxFE986pGB3b",
        "outputId": "ad9cd98e-9601-423d-cce6-d77d415d2354"
      },
      "execution_count": null,
      "outputs": [
        {
          "output_type": "execute_result",
          "data": {
            "text/plain": [
              "0.5"
            ]
          },
          "metadata": {},
          "execution_count": 4
        }
      ]
    },
    {
      "cell_type": "code",
      "source": [
        "# Puissance\n",
        "x ** y"
      ],
      "metadata": {
        "colab": {
          "base_uri": "https://localhost:8080/"
        },
        "id": "Rvdd9fgSGHhR",
        "outputId": "fce0d115-0e37-44a1-ea15-c50b1a870144"
      },
      "execution_count": null,
      "outputs": [
        {
          "output_type": "execute_result",
          "data": {
            "text/plain": [
              "1"
            ]
          },
          "metadata": {},
          "execution_count": 5
        }
      ]
    },
    {
      "cell_type": "markdown",
      "source": [
        "#### **Opérations sur les variables qualitatives**\n",
        "Les opérations arithmétiques sur les variables qualitatives ne sont pas définies. "
      ],
      "metadata": {
        "id": "W4-VjbAyBxBR"
      }
    },
    {
      "cell_type": "markdown",
      "source": [
        "#### **Opérations sur les variables booléennes**\n",
        "Les variables booléennes sont traitées comme des variables quatitatives:\n",
        "* True = 1\n",
        "* False = 0"
      ],
      "metadata": {
        "id": "wE36M8htCKx7"
      }
    },
    {
      "cell_type": "code",
      "source": [
        "Z1 = True  # = 1\n",
        "Z2 = False # = 0\n",
        "Z1 + Z2    # 1 + 0 "
      ],
      "metadata": {
        "colab": {
          "base_uri": "https://localhost:8080/"
        },
        "id": "1qIGYW--E2xu",
        "outputId": "35810981-53a1-4e03-e9b3-28ee06b860a4"
      },
      "execution_count": null,
      "outputs": [
        {
          "output_type": "execute_result",
          "data": {
            "text/plain": [
              "1"
            ]
          },
          "metadata": {},
          "execution_count": 6
        }
      ]
    },
    {
      "cell_type": "markdown",
      "source": [
        "###**Comparaison de varibales**"
      ],
      "metadata": {
        "id": "Yo0Lm7HQGizl"
      }
    },
    {
      "cell_type": "code",
      "source": [
        "x , y = 1 , 2"
      ],
      "metadata": {
        "colab": {
          "base_uri": "https://localhost:8080/"
        },
        "id": "cmLGwEYRGYcG",
        "outputId": "d1a6cee0-7aaa-4fec-e203-e0495c28a57d"
      },
      "execution_count": null,
      "outputs": [
        {
          "output_type": "execute_result",
          "data": {
            "text/plain": [
              "1"
            ]
          },
          "metadata": {},
          "execution_count": 21
        }
      ]
    },
    {
      "cell_type": "markdown",
      "source": [
        "####**Egalité**"
      ],
      "metadata": {
        "id": "gCW5XzrRDuOA"
      }
    },
    {
      "cell_type": "code",
      "source": [
        "x == y"
      ],
      "metadata": {
        "colab": {
          "base_uri": "https://localhost:8080/"
        },
        "id": "wBJf1QCTGpXM",
        "outputId": "73b70989-9663-43e3-abce-65b483a52371"
      },
      "execution_count": null,
      "outputs": [
        {
          "output_type": "execute_result",
          "data": {
            "text/plain": [
              "False"
            ]
          },
          "metadata": {},
          "execution_count": 11
        }
      ]
    },
    {
      "cell_type": "markdown",
      "source": [
        "####**Différence**"
      ],
      "metadata": {
        "id": "Zav_mcxwD25H"
      }
    },
    {
      "cell_type": "code",
      "source": [
        "x != y "
      ],
      "metadata": {
        "colab": {
          "base_uri": "https://localhost:8080/"
        },
        "id": "k6DWxKEZG1uo",
        "outputId": "9c57a5ec-ab61-4321-9371-6da23c36699f"
      },
      "execution_count": null,
      "outputs": [
        {
          "output_type": "execute_result",
          "data": {
            "text/plain": [
              "True"
            ]
          },
          "metadata": {},
          "execution_count": 12
        }
      ]
    },
    {
      "cell_type": "markdown",
      "source": [
        "####**Supérieur**"
      ],
      "metadata": {
        "id": "BKxke0gzEAUb"
      }
    },
    {
      "cell_type": "code",
      "source": [
        "x > y"
      ],
      "metadata": {
        "colab": {
          "base_uri": "https://localhost:8080/"
        },
        "id": "iTn_JoD7HBAT",
        "outputId": "2b88eac5-1f2d-4b6a-af7a-7ba17da8560d"
      },
      "execution_count": null,
      "outputs": [
        {
          "output_type": "execute_result",
          "data": {
            "text/plain": [
              "False"
            ]
          },
          "metadata": {},
          "execution_count": 25
        }
      ]
    },
    {
      "cell_type": "markdown",
      "source": [
        "####**Supérieur ou égal**"
      ],
      "metadata": {
        "id": "rS2_kSsJED9J"
      }
    },
    {
      "cell_type": "code",
      "source": [
        "x >= y"
      ],
      "metadata": {
        "colab": {
          "base_uri": "https://localhost:8080/"
        },
        "id": "5jzfL5xhHHj0",
        "outputId": "a3099669-70f3-45c5-f343-519a3c59df10"
      },
      "execution_count": null,
      "outputs": [
        {
          "output_type": "execute_result",
          "data": {
            "text/plain": [
              "False"
            ]
          },
          "metadata": {},
          "execution_count": 26
        }
      ]
    },
    {
      "cell_type": "markdown",
      "source": [
        "####**Inférieur**"
      ],
      "metadata": {
        "id": "U4bLwh8UEIYA"
      }
    },
    {
      "cell_type": "code",
      "source": [
        "x < y"
      ],
      "metadata": {
        "colab": {
          "base_uri": "https://localhost:8080/"
        },
        "id": "oQyDIxIYHP2R",
        "outputId": "07d041fb-cdf7-437d-8dc2-f18401ee384c"
      },
      "execution_count": null,
      "outputs": [
        {
          "output_type": "execute_result",
          "data": {
            "text/plain": [
              "True"
            ]
          },
          "metadata": {},
          "execution_count": 27
        }
      ]
    },
    {
      "cell_type": "markdown",
      "source": [
        "####**Inférieur ou égal**"
      ],
      "metadata": {
        "id": "nML_TZS2EMrY"
      }
    },
    {
      "cell_type": "code",
      "source": [
        "x <= y"
      ],
      "metadata": {
        "colab": {
          "base_uri": "https://localhost:8080/"
        },
        "id": "BXH7O4qAHY1q",
        "outputId": "7e86d3ae-6385-40e3-dde5-280312a6bb06"
      },
      "execution_count": null,
      "outputs": [
        {
          "output_type": "execute_result",
          "data": {
            "text/plain": [
              "True"
            ]
          },
          "metadata": {},
          "execution_count": 28
        }
      ]
    },
    {
      "cell_type": "markdown",
      "source": [
        "###**Opérations logiques**"
      ],
      "metadata": {
        "id": "gUVKzYWtF1B5"
      }
    },
    {
      "cell_type": "markdown",
      "source": [
        "![BooleanOperations_ManimCE_v0.17.2.png](data:image/png;base64,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)"
      ],
      "metadata": {
        "id": "n57SEP26HLH7"
      }
    },
    {
      "cell_type": "code",
      "source": [
        "x = 2\n",
        "y = 6\n",
        "z = 8"
      ],
      "metadata": {
        "id": "6YMi_LlR-mMB"
      },
      "execution_count": null,
      "outputs": []
    },
    {
      "cell_type": "markdown",
      "source": [
        "**Intersection ET**"
      ],
      "metadata": {
        "id": "05x1k3E97DFL"
      }
    },
    {
      "cell_type": "code",
      "source": [
        "# (x < y) est VRAI ET (x < z) est VRAI => (x < y) ET (x < z) sont VRAIS SIMULTANEMENT\n",
        "(x < y) & (x < z)"
      ],
      "metadata": {
        "colab": {
          "base_uri": "https://localhost:8080/"
        },
        "id": "gzevuPqh-AB_",
        "outputId": "a5f6f1ec-92f8-43e7-ee34-d7ebd3a14623"
      },
      "execution_count": null,
      "outputs": [
        {
          "output_type": "execute_result",
          "data": {
            "text/plain": [
              "True"
            ]
          },
          "metadata": {},
          "execution_count": 23
        }
      ]
    },
    {
      "cell_type": "code",
      "source": [
        "# (x > y) est FAUX ET (x > z) est FAUX => (x > y) ET (x > z) ne sont pas VRAIS SIMULTANEMENT\n",
        "(x > y) & (x > z)"
      ],
      "metadata": {
        "colab": {
          "base_uri": "https://localhost:8080/"
        },
        "id": "bdg8IqOR_mQW",
        "outputId": "5e08a132-6144-4e55-93d4-6259a262aa59"
      },
      "execution_count": null,
      "outputs": [
        {
          "output_type": "execute_result",
          "data": {
            "text/plain": [
              "False"
            ]
          },
          "metadata": {},
          "execution_count": 24
        }
      ]
    },
    {
      "cell_type": "code",
      "source": [
        "# (x < y) est VRAI ET (x > z) est FAUX => (x < y) ET (x > z) ne sont pas VRAIS SIMULTANEMENT\n",
        "(x < y) & (x > z)"
      ],
      "metadata": {
        "colab": {
          "base_uri": "https://localhost:8080/"
        },
        "id": "dTbMbJa3AuT7",
        "outputId": "c64cd4f0-ff81-44ba-b8bc-5fcba7fd06d5"
      },
      "execution_count": null,
      "outputs": [
        {
          "output_type": "execute_result",
          "data": {
            "text/plain": [
              "False"
            ]
          },
          "metadata": {},
          "execution_count": 25
        }
      ]
    },
    {
      "cell_type": "code",
      "source": [
        "# (x > y) est FAUX ET (x < z) est VRAI => (x > y) ET (x < z) ne sont pas VRAIS SIMULTANEMENT\n",
        "(x > y) & (x < z)"
      ],
      "metadata": {
        "colab": {
          "base_uri": "https://localhost:8080/"
        },
        "id": "BFDT7OQQHawX",
        "outputId": "0e7b1b9f-952a-45df-a11c-66e1c74b3337"
      },
      "execution_count": null,
      "outputs": [
        {
          "output_type": "execute_result",
          "data": {
            "text/plain": [
              "False"
            ]
          },
          "metadata": {},
          "execution_count": 26
        }
      ]
    },
    {
      "cell_type": "markdown",
      "source": [
        "**Union (non-exclusive) OU**"
      ],
      "metadata": {
        "id": "r_BOos6j7Hip"
      }
    },
    {
      "cell_type": "code",
      "source": [
        "# (x < y) est VRAI ET (x < z) est VRAI => au moins (x < y) ou (x < z) est VRAI\n",
        "(x < y) | (x < z)"
      ],
      "metadata": {
        "colab": {
          "base_uri": "https://localhost:8080/"
        },
        "id": "zJGcYvWp9T4N",
        "outputId": "cf94d352-dfd8-4985-ffa9-cbebba85c2bf"
      },
      "execution_count": null,
      "outputs": [
        {
          "output_type": "execute_result",
          "data": {
            "text/plain": [
              "True"
            ]
          },
          "metadata": {},
          "execution_count": 27
        }
      ]
    },
    {
      "cell_type": "code",
      "source": [
        "# (x > y) est FAUX ET (x > z) est FAUX => ni (x > y) ni (x > z) est VRAI\n",
        "(x > y) | (x > z)"
      ],
      "metadata": {
        "colab": {
          "base_uri": "https://localhost:8080/"
        },
        "id": "K4TeNZjlBP59",
        "outputId": "ea3de559-c370-4a63-c7bc-722a05c94211"
      },
      "execution_count": null,
      "outputs": [
        {
          "output_type": "execute_result",
          "data": {
            "text/plain": [
              "False"
            ]
          },
          "metadata": {},
          "execution_count": 28
        }
      ]
    },
    {
      "cell_type": "code",
      "source": [
        "# (x < y) est VRAI ET (x > z) est FAUX => au moins (x < y) OU (x > z) est VRAI\n",
        "(x < y) | (x > z)"
      ],
      "metadata": {
        "colab": {
          "base_uri": "https://localhost:8080/"
        },
        "id": "v6vIVVu5BRdy",
        "outputId": "535e250f-3a74-413d-bfc4-04370a6cb180"
      },
      "execution_count": null,
      "outputs": [
        {
          "output_type": "execute_result",
          "data": {
            "text/plain": [
              "True"
            ]
          },
          "metadata": {},
          "execution_count": 29
        }
      ]
    },
    {
      "cell_type": "code",
      "source": [
        "# (x > y) est VRAI ET (x < z) est FAUX => au moins (x > y) OU (x < z) est VRAI\n",
        "(x > y) | (x < z)"
      ],
      "metadata": {
        "colab": {
          "base_uri": "https://localhost:8080/"
        },
        "id": "R_7FBUifJRTs",
        "outputId": "779b9e7a-61aa-4df3-b30a-562841104429"
      },
      "execution_count": null,
      "outputs": [
        {
          "output_type": "execute_result",
          "data": {
            "text/plain": [
              "True"
            ]
          },
          "metadata": {},
          "execution_count": 30
        }
      ]
    },
    {
      "cell_type": "markdown",
      "source": [
        "**Exclusion (ou union exclusive)**"
      ],
      "metadata": {
        "id": "pkT7ksA_7TlJ"
      }
    },
    {
      "cell_type": "code",
      "source": [
        "# (x < y) est VRAI ET (x > z) est FAUX => (x < y) uniquement OU (x > z) uniquement est VRAI\n",
        "(x < y) ^ (x > z)"
      ],
      "metadata": {
        "colab": {
          "base_uri": "https://localhost:8080/"
        },
        "id": "rRRk6okyCARD",
        "outputId": "79e9fd4b-5d74-433f-b5f5-897a8f3286a9"
      },
      "execution_count": null,
      "outputs": [
        {
          "output_type": "execute_result",
          "data": {
            "text/plain": [
              "True"
            ]
          },
          "metadata": {},
          "execution_count": 31
        }
      ]
    },
    {
      "cell_type": "code",
      "source": [
        "# (x > y) est FAUX ET (x < z) est VRAI => (x > y) uniquement OU (x < z) uniquement est VRAI\n",
        "(x > y) ^ (x < z)"
      ],
      "metadata": {
        "colab": {
          "base_uri": "https://localhost:8080/"
        },
        "id": "yLndiZHLCwGv",
        "outputId": "e64d94f0-0030-4b4d-e23e-3fc338180dfa"
      },
      "execution_count": null,
      "outputs": [
        {
          "output_type": "execute_result",
          "data": {
            "text/plain": [
              "True"
            ]
          },
          "metadata": {},
          "execution_count": 21
        }
      ]
    },
    {
      "cell_type": "code",
      "source": [
        "# (x < y) est VRAI ET (x < z) est VRAI =>  (x < y) ET (x < z) sont VRAIS SIMULTANEMENT\n",
        "(x < y) ^ (x < z)"
      ],
      "metadata": {
        "colab": {
          "base_uri": "https://localhost:8080/"
        },
        "id": "6K8wXwWqCAiB",
        "outputId": "665d285b-4a4e-4c40-eeb4-bd2aa34e9d56"
      },
      "execution_count": null,
      "outputs": [
        {
          "output_type": "execute_result",
          "data": {
            "text/plain": [
              "False"
            ]
          },
          "metadata": {},
          "execution_count": 18
        }
      ]
    },
    {
      "cell_type": "code",
      "source": [
        "# (x > y) est FAUX ET (x > z) est FAUX => ni (x > y) ni (x > z) est VRAI\n",
        "(x > y) ^ (x > z)"
      ],
      "metadata": {
        "colab": {
          "base_uri": "https://localhost:8080/"
        },
        "id": "FnKdEJ9uCAae",
        "outputId": "72da8836-f232-4247-eccc-a57a390d3b24"
      },
      "execution_count": null,
      "outputs": [
        {
          "output_type": "execute_result",
          "data": {
            "text/plain": [
              "False"
            ]
          },
          "metadata": {},
          "execution_count": 19
        }
      ]
    }
  ]
}