{
  "nbformat": 4,
  "nbformat_minor": 0,
  "metadata": {
    "colab": {
      "provenance": [],
      "authorship_tag": "ABX9TyOtfJA0S8ytvMHFZR3VS2Wh",
      "include_colab_link": true
    },
    "kernelspec": {
      "name": "python3",
      "display_name": "Python 3"
    },
    "language_info": {
      "name": "python"
    }
  },
  "cells": [
    {
      "cell_type": "markdown",
      "metadata": {
        "id": "view-in-github",
        "colab_type": "text"
      },
      "source": [
        "<a href=\"https://colab.research.google.com/github/jmadkour/Bases-de-Python/blob/main/3.2-M%C3%A9thodes%20appliqu%C3%A9es%20aux%20listes.ipynb\" target=\"_parent\"><img src=\"https://colab.research.google.com/assets/colab-badge.svg\" alt=\"Open In Colab\"/></a>"
      ]
    },
    {
      "cell_type": "markdown",
      "source": [
        "### **Méthodes appliquées aux listes**\n",
        "Une **méthode** est une **action** que l'on peut effectuer sur une **liste**:\n",
        "* **copy**\n",
        "* **count**\n",
        "* **index**\n",
        "* **append**\n",
        "* **extend**\n",
        "* **insert**\n",
        "* **remove**\n",
        "* **sort**\n",
        "* **reverse**\n",
        "* **pop**\n",
        "* **clear**"
      ],
      "metadata": {
        "id": "fqHbfVf-Fe8I"
      }
    },
    {
      "cell_type": "code",
      "source": [
        "nombres = [1 , 5 , 5 , 7 , 4 , 3]\n",
        "nombres"
      ],
      "metadata": {
        "colab": {
          "base_uri": "https://localhost:8080/"
        },
        "id": "JQvyxc6VESZZ",
        "outputId": "ac1a063c-a1f8-4a7c-99d5-1114977cc8d1"
      },
      "execution_count": null,
      "outputs": [
        {
          "output_type": "execute_result",
          "data": {
            "text/plain": [
              "[1, 5, 5, 7, 4, 3]"
            ]
          },
          "metadata": {},
          "execution_count": 1
        }
      ]
    },
    {
      "cell_type": "code",
      "source": [
        "animaux = ['chat' , 'chien' , 'vache' , 'mouton' , 'chèvre']\n",
        "animaux"
      ],
      "metadata": {
        "colab": {
          "base_uri": "https://localhost:8080/"
        },
        "id": "4nPTIOA9EkdT",
        "outputId": "9850995b-a5a3-431f-8a5e-360ad7bbd69b"
      },
      "execution_count": null,
      "outputs": [
        {
          "output_type": "execute_result",
          "data": {
            "text/plain": [
              "['chat', 'chien', 'vache', 'mouton', 'chèvre']"
            ]
          },
          "metadata": {},
          "execution_count": 2
        }
      ]
    },
    {
      "cell_type": "markdown",
      "source": [
        "####**copy**: créer une copie d'une liste"
      ],
      "metadata": {
        "id": "-pmkRqHQe_8C"
      }
    },
    {
      "cell_type": "code",
      "source": [
        "print(nombres)\n",
        "copie_nombres = nombres.copy()\n",
        "copie_nombres"
      ],
      "metadata": {
        "colab": {
          "base_uri": "https://localhost:8080/"
        },
        "id": "ODAZuqCFiYEX",
        "outputId": "ab4d52e1-0448-41c9-ba5d-d1735e3d8085"
      },
      "execution_count": null,
      "outputs": [
        {
          "output_type": "stream",
          "name": "stdout",
          "text": [
            "[1, 5, 5, 7, 4, 3]\n"
          ]
        },
        {
          "output_type": "execute_result",
          "data": {
            "text/plain": [
              "[1, 5, 5, 7, 4, 3]"
            ]
          },
          "metadata": {},
          "execution_count": 2
        }
      ]
    },
    {
      "cell_type": "code",
      "source": [
        "print(animaux)\n",
        "copie_animaux = animaux.copy()\n",
        "copie_animaux"
      ],
      "metadata": {
        "colab": {
          "base_uri": "https://localhost:8080/"
        },
        "id": "TN_PTLSgipQl",
        "outputId": "c2b45a48-534d-465f-dbf1-9fa56450b52d"
      },
      "execution_count": null,
      "outputs": [
        {
          "output_type": "stream",
          "name": "stdout",
          "text": [
            "['chat', 'chien', 'vache', 'mouton', 'chèvre']\n"
          ]
        },
        {
          "output_type": "execute_result",
          "data": {
            "text/plain": [
              "['chat', 'chien', 'vache', 'mouton', 'chèvre']"
            ]
          },
          "metadata": {},
          "execution_count": 5
        }
      ]
    },
    {
      "cell_type": "markdown",
      "source": [
        "####**count**: compter le nombre d'apparation d'un élément dans une liste"
      ],
      "metadata": {
        "id": "TgRM8hL4aNn0"
      }
    },
    {
      "cell_type": "code",
      "source": [
        "print(nombres)\n",
        "nombres.count(8)"
      ],
      "metadata": {
        "colab": {
          "base_uri": "https://localhost:8080/"
        },
        "id": "ujsCjdUBaWIc",
        "outputId": "46c79f13-57ee-4104-c6d8-3c3afe58ece6"
      },
      "execution_count": null,
      "outputs": [
        {
          "output_type": "stream",
          "name": "stdout",
          "text": [
            "[1, 5, 5, 7, 4, 3]\n"
          ]
        },
        {
          "output_type": "execute_result",
          "data": {
            "text/plain": [
              "0"
            ]
          },
          "metadata": {},
          "execution_count": 9
        }
      ]
    },
    {
      "cell_type": "code",
      "source": [
        "print(animaux)\n",
        "animaux.count('lion')"
      ],
      "metadata": {
        "colab": {
          "base_uri": "https://localhost:8080/"
        },
        "id": "VOyu6e0uah03",
        "outputId": "949db1aa-6668-4ba7-a63f-dc9ba9f1e85e"
      },
      "execution_count": null,
      "outputs": [
        {
          "output_type": "stream",
          "name": "stdout",
          "text": [
            "['chat', 'chien', 'vache', 'mouton', 'chèvre']\n"
          ]
        },
        {
          "output_type": "execute_result",
          "data": {
            "text/plain": [
              "0"
            ]
          },
          "metadata": {},
          "execution_count": 12
        }
      ]
    },
    {
      "cell_type": "markdown",
      "source": [
        "####**index**: localiser un élément dans une liste par son index"
      ],
      "metadata": {
        "id": "D2aCNMw9azjT"
      }
    },
    {
      "cell_type": "code",
      "source": [
        "print(nombres)\n",
        "nombres.index(3)"
      ],
      "metadata": {
        "colab": {
          "base_uri": "https://localhost:8080/"
        },
        "id": "gM1ow-0gbCFv",
        "outputId": "436c6145-32dc-4635-d354-0155c8bf68cd"
      },
      "execution_count": null,
      "outputs": [
        {
          "output_type": "stream",
          "name": "stdout",
          "text": [
            "[1, 5, 5, 7, 4, 3]\n"
          ]
        },
        {
          "output_type": "execute_result",
          "data": {
            "text/plain": [
              "5"
            ]
          },
          "metadata": {},
          "execution_count": 17
        }
      ]
    },
    {
      "cell_type": "code",
      "source": [
        "print(animaux)\n",
        "animaux.index('mouton')"
      ],
      "metadata": {
        "colab": {
          "base_uri": "https://localhost:8080/"
        },
        "id": "lhPE969LasnI",
        "outputId": "a9b75c6d-ed0b-47d4-8f37-2c7bafedc81d"
      },
      "execution_count": null,
      "outputs": [
        {
          "output_type": "stream",
          "name": "stdout",
          "text": [
            "['chat', 'chien', 'vache', 'mouton', 'chèvre']\n"
          ]
        },
        {
          "output_type": "execute_result",
          "data": {
            "text/plain": [
              "3"
            ]
          },
          "metadata": {},
          "execution_count": 14
        }
      ]
    },
    {
      "cell_type": "markdown",
      "source": [
        "####**append**: ajouter un élément à la fin d'une liste"
      ],
      "metadata": {
        "id": "TlD6kAyVeXLS"
      }
    },
    {
      "cell_type": "code",
      "source": [
        "print(nombres)\n",
        "nombres.append(99)\n",
        "nombres"
      ],
      "metadata": {
        "colab": {
          "base_uri": "https://localhost:8080/"
        },
        "id": "48NZQ6D0fm_D",
        "outputId": "3a2c3525-f64d-4fa9-9d57-08a8b4537fbd"
      },
      "execution_count": null,
      "outputs": [
        {
          "output_type": "stream",
          "name": "stdout",
          "text": [
            "[1, 5, 5, 7, 4, 3, 99, 99, 99]\n"
          ]
        },
        {
          "output_type": "execute_result",
          "data": {
            "text/plain": [
              "[1, 5, 5, 7, 4, 3, 99, 99, 99, 99]"
            ]
          },
          "metadata": {},
          "execution_count": 21
        }
      ]
    },
    {
      "cell_type": "code",
      "source": [
        "print(animaux)\n",
        "animaux.append('cheval')\n",
        "animaux"
      ],
      "metadata": {
        "colab": {
          "base_uri": "https://localhost:8080/"
        },
        "id": "b1D9gCy0fM-t",
        "outputId": "6fbf2345-9508-45cb-82cd-d55ff9b2f711"
      },
      "execution_count": null,
      "outputs": [
        {
          "output_type": "stream",
          "name": "stdout",
          "text": [
            "['chat', 'chien', 'vache', 'mouton', 'chèvre']\n"
          ]
        },
        {
          "output_type": "execute_result",
          "data": {
            "text/plain": [
              "['chat', 'chien', 'vache', 'mouton', 'chèvre', 'cheval']"
            ]
          },
          "metadata": {},
          "execution_count": 22
        }
      ]
    },
    {
      "cell_type": "markdown",
      "source": [
        "####**extend**: ajouter une liste à la fin d'une liste"
      ],
      "metadata": {
        "id": "emDpS5CSeerl"
      }
    },
    {
      "cell_type": "code",
      "source": [
        "print(animaux)\n",
        "animaux.extend(nombres)\n",
        "animaux"
      ],
      "metadata": {
        "colab": {
          "base_uri": "https://localhost:8080/"
        },
        "id": "yxooWmsOfxXz",
        "outputId": "56583aef-edfb-4ac5-a7b3-6cd3f075c879"
      },
      "execution_count": null,
      "outputs": [
        {
          "output_type": "stream",
          "name": "stdout",
          "text": [
            "['chat', 'chien', 'vache', 'mouton', 'chèvre']\n"
          ]
        },
        {
          "output_type": "execute_result",
          "data": {
            "text/plain": [
              "['chat', 'chien', 'vache', 'mouton', 'chèvre', 1, 5, 5, 7, 4, 3]"
            ]
          },
          "metadata": {},
          "execution_count": 26
        }
      ]
    },
    {
      "cell_type": "markdown",
      "source": [
        "####**insert**: insérer un nouvel élément à un endroit précis d'une liste"
      ],
      "metadata": {
        "id": "gXLHrH-8ehdv"
      }
    },
    {
      "cell_type": "code",
      "source": [
        "print(nombres)\n",
        "nombres.insert(4,88)\n",
        "nombres"
      ],
      "metadata": {
        "colab": {
          "base_uri": "https://localhost:8080/"
        },
        "id": "x9j1FuVsgFCx",
        "outputId": "7d17b171-e343-41c8-fb0a-8b252236a9bb"
      },
      "execution_count": null,
      "outputs": [
        {
          "output_type": "stream",
          "name": "stdout",
          "text": [
            "[1, 5, 5, 7, 4, 3]\n"
          ]
        },
        {
          "output_type": "execute_result",
          "data": {
            "text/plain": [
              "[1, 5, 5, 7, 88, 4, 3]"
            ]
          },
          "metadata": {},
          "execution_count": 27
        }
      ]
    },
    {
      "cell_type": "code",
      "source": [
        "animaux = ['chat' , 'chien' , 'vache' , 'mouton' , 'chèvre']\n",
        "print(animaux)\n",
        "animaux.insert(4, 'lion')\n",
        "animaux"
      ],
      "metadata": {
        "colab": {
          "base_uri": "https://localhost:8080/"
        },
        "id": "GlkTSJkjgXRw",
        "outputId": "4ab5b29d-23ce-41e0-c0f1-f56b02683b91"
      },
      "execution_count": null,
      "outputs": [
        {
          "output_type": "stream",
          "name": "stdout",
          "text": [
            "['chat', 'chien', 'vache', 'mouton', 'chèvre']\n"
          ]
        },
        {
          "output_type": "execute_result",
          "data": {
            "text/plain": [
              "['chat', 'chien', 'vache', 'mouton', 'lion', 'chèvre']"
            ]
          },
          "metadata": {},
          "execution_count": 28
        }
      ]
    },
    {
      "cell_type": "markdown",
      "source": [
        "####**remove**: supprimer un élément d'une liste"
      ],
      "metadata": {
        "id": "BU7MH_bqexdA"
      }
    },
    {
      "cell_type": "code",
      "source": [
        "print(nombres)\n",
        "nombres.remove(5)\n",
        "nombres"
      ],
      "metadata": {
        "colab": {
          "base_uri": "https://localhost:8080/"
        },
        "id": "FfTIt2YggwqO",
        "outputId": "d5f99687-6312-4d8e-e0b1-c165c5d7eedd"
      },
      "execution_count": null,
      "outputs": [
        {
          "output_type": "stream",
          "name": "stdout",
          "text": [
            "[1, 5, 5, 7, 88, 4, 3]\n"
          ]
        },
        {
          "output_type": "execute_result",
          "data": {
            "text/plain": [
              "[1, 5, 7, 88, 4, 3]"
            ]
          },
          "metadata": {},
          "execution_count": 30
        }
      ]
    },
    {
      "cell_type": "code",
      "source": [
        "print(animaux)\n",
        "animaux.remove('chèvre')\n",
        "animaux"
      ],
      "metadata": {
        "colab": {
          "base_uri": "https://localhost:8080/"
        },
        "id": "d-PsU7Vwg70K",
        "outputId": "bb5e35d3-57e7-4625-8bfb-a7389e1db023"
      },
      "execution_count": null,
      "outputs": [
        {
          "output_type": "stream",
          "name": "stdout",
          "text": [
            "['chat', 'chien', 'vache', 'mouton', 'lion', 'chèvre']\n"
          ]
        },
        {
          "output_type": "execute_result",
          "data": {
            "text/plain": [
              "['chat', 'chien', 'vache', 'mouton', 'lion']"
            ]
          },
          "metadata": {},
          "execution_count": 26
        }
      ]
    },
    {
      "cell_type": "markdown",
      "source": [
        "####**pop**: supprimer l'élément d'une liste ayant un index donné puis le retourner"
      ],
      "metadata": {
        "id": "ys5nJa_be0I0"
      }
    },
    {
      "cell_type": "code",
      "source": [
        "print(nombres)\n",
        "nombres_supprimes = nombres.pop(2)\n",
        "print(nombres)\n",
        "nombres_supprimes"
      ],
      "metadata": {
        "colab": {
          "base_uri": "https://localhost:8080/"
        },
        "id": "kXHd3t7_cvJ5",
        "outputId": "c12a5b31-50c4-47de-cede-bd3496df9e27"
      },
      "execution_count": null,
      "outputs": [
        {
          "output_type": "stream",
          "name": "stdout",
          "text": [
            "[1, 5, 88, 4, 3]\n",
            "[1, 5, 4, 3]\n"
          ]
        },
        {
          "output_type": "execute_result",
          "data": {
            "text/plain": [
              "88"
            ]
          },
          "metadata": {},
          "execution_count": 32
        }
      ]
    },
    {
      "cell_type": "code",
      "source": [
        "print(animaux)\n",
        "animaux_supprimes = animaux.pop(2)\n",
        "print(animaux)\n",
        "animaux_supprimes"
      ],
      "metadata": {
        "colab": {
          "base_uri": "https://localhost:8080/",
          "height": 70
        },
        "id": "-qfkTa48dfpk",
        "outputId": "813e4ef6-3e09-47c9-dd0d-7479106b39c1"
      },
      "execution_count": null,
      "outputs": [
        {
          "output_type": "stream",
          "name": "stdout",
          "text": [
            "['vache', 'mouton', 'lion', 'chien', 'chat']\n",
            "['vache', 'mouton', 'chien', 'chat']\n"
          ]
        },
        {
          "output_type": "execute_result",
          "data": {
            "text/plain": [
              "'lion'"
            ],
            "application/vnd.google.colaboratory.intrinsic+json": {
              "type": "string"
            }
          },
          "metadata": {},
          "execution_count": 47
        }
      ]
    },
    {
      "cell_type": "markdown",
      "source": [
        "####**sort**: trier les éléments d'une liste"
      ],
      "metadata": {
        "id": "BGwd6U2uekPd"
      }
    },
    {
      "cell_type": "code",
      "source": [
        "# Trier dans un sens croissant\n",
        "print(nombres)\n",
        "nombres.sort() \n",
        "nombres"
      ],
      "metadata": {
        "colab": {
          "base_uri": "https://localhost:8080/"
        },
        "id": "TtHbT-LOhLn6",
        "outputId": "df61bf46-38e7-4178-a6c5-c0dd23b93226"
      },
      "execution_count": null,
      "outputs": [
        {
          "output_type": "stream",
          "name": "stdout",
          "text": [
            "[1, 5, 4, 3]\n"
          ]
        },
        {
          "output_type": "execute_result",
          "data": {
            "text/plain": [
              "[1, 3, 4, 5]"
            ]
          },
          "metadata": {},
          "execution_count": 33
        }
      ]
    },
    {
      "cell_type": "code",
      "source": [
        "# Trier dans un sens décroissant\n",
        "print(nombres)\n",
        "nombres.sort(reverse=True) \n",
        "nombres"
      ],
      "metadata": {
        "colab": {
          "base_uri": "https://localhost:8080/"
        },
        "id": "N9OIRgw5hZAv",
        "outputId": "49e0f0e2-16f2-44ff-8da3-fa79a294d154"
      },
      "execution_count": null,
      "outputs": [
        {
          "output_type": "stream",
          "name": "stdout",
          "text": [
            "[1, 3, 4, 5]\n"
          ]
        },
        {
          "output_type": "execute_result",
          "data": {
            "text/plain": [
              "[5, 4, 3, 1]"
            ]
          },
          "metadata": {},
          "execution_count": 34
        }
      ]
    },
    {
      "cell_type": "code",
      "source": [
        "# Trier dans un sens alphabétique\n",
        "print(animaux)\n",
        "animaux.sort() \n",
        "animaux"
      ],
      "metadata": {
        "colab": {
          "base_uri": "https://localhost:8080/"
        },
        "id": "7nzC3sCGhhKU",
        "outputId": "54ac91ef-e109-48b7-c0da-9342206cb51d"
      },
      "execution_count": null,
      "outputs": [
        {
          "output_type": "stream",
          "name": "stdout",
          "text": [
            "['chat', 'chien', 'lion', 'mouton', 'vache']\n"
          ]
        },
        {
          "output_type": "execute_result",
          "data": {
            "text/plain": [
              "['chat', 'chien', 'lion', 'mouton', 'vache']"
            ]
          },
          "metadata": {},
          "execution_count": 39
        }
      ]
    },
    {
      "cell_type": "code",
      "source": [
        "# Trier dans un sens anti-alphabétique\n",
        "print(animaux)\n",
        "animaux.sort(reverse=True) \n",
        "animaux"
      ],
      "metadata": {
        "colab": {
          "base_uri": "https://localhost:8080/"
        },
        "id": "Z6f4qSUqhp2c",
        "outputId": "f639c2c8-a293-4439-bf1f-01347a1d5247"
      },
      "execution_count": null,
      "outputs": [
        {
          "output_type": "stream",
          "name": "stdout",
          "text": [
            "['chat', 'chien', 'lion', 'mouton', 'vache']\n"
          ]
        },
        {
          "output_type": "execute_result",
          "data": {
            "text/plain": [
              "['vache', 'mouton', 'lion', 'chien', 'chat']"
            ]
          },
          "metadata": {},
          "execution_count": 40
        }
      ]
    },
    {
      "cell_type": "markdown",
      "source": [
        "####**reverse**: inverser l'ordre d'une liste"
      ],
      "metadata": {
        "id": "PS86at2ofGaW"
      }
    },
    {
      "cell_type": "code",
      "source": [
        "print(animaux)\n",
        "animaux.reverse()\n",
        "animaux"
      ],
      "metadata": {
        "colab": {
          "base_uri": "https://localhost:8080/"
        },
        "id": "w2YBr2ouh1CL",
        "outputId": "86114b67-5d8e-47f5-943e-f68c777fff34"
      },
      "execution_count": null,
      "outputs": [
        {
          "output_type": "stream",
          "name": "stdout",
          "text": [
            "['chat', 'chien', 'vache', 'mouton', 'lion', 'chèvre']\n"
          ]
        },
        {
          "output_type": "execute_result",
          "data": {
            "text/plain": [
              "['chèvre', 'lion', 'mouton', 'vache', 'chien', 'chat']"
            ]
          },
          "metadata": {},
          "execution_count": 35
        }
      ]
    },
    {
      "cell_type": "markdown",
      "source": [
        "####**clear**: effacer le contenu d'une liste"
      ],
      "metadata": {
        "id": "vC42eVcceu5k"
      }
    },
    {
      "cell_type": "code",
      "source": [
        "print(nombres)\n",
        "nombres.clear()\n",
        "nombres"
      ],
      "metadata": {
        "colab": {
          "base_uri": "https://localhost:8080/"
        },
        "id": "Oe3JL8dFdr-V",
        "outputId": "79b34d75-1e15-496b-c166-762203166e5f"
      },
      "execution_count": null,
      "outputs": [
        {
          "output_type": "stream",
          "name": "stdout",
          "text": [
            "[5, 4, 3, 1]\n"
          ]
        },
        {
          "output_type": "execute_result",
          "data": {
            "text/plain": [
              "[]"
            ]
          },
          "metadata": {},
          "execution_count": 36
        }
      ]
    },
    {
      "cell_type": "code",
      "source": [
        "print(animaux)\n",
        "animaux.clear()\n",
        "animaux"
      ],
      "metadata": {
        "colab": {
          "base_uri": "https://localhost:8080/"
        },
        "id": "4mtIg1_-d5Fm",
        "outputId": "be72cdc7-81bf-43fe-d811-02fe2905d05b"
      },
      "execution_count": null,
      "outputs": [
        {
          "output_type": "stream",
          "name": "stdout",
          "text": [
            "[]\n"
          ]
        },
        {
          "output_type": "execute_result",
          "data": {
            "text/plain": [
              "[]"
            ]
          },
          "metadata": {},
          "execution_count": 51
        }
      ]
    },
    {
      "cell_type": "markdown",
      "source": [
        "### **Exercice:**\n",
        "1. Générer 100 nombres aléatoires compris entre 0 et 20 (notes d'étudiants dans un module)\n",
        "2. Etablir la liste des notes supérieures ou égales à 10 (notes des étudiants ayant validé le mdule) et la liste des notes strictement inférieures à 10 (notes des étudiants n'ayant pas validé le module)"
      ],
      "metadata": {
        "id": "GVCQHcOlMugE"
      }
    },
    {
      "cell_type": "markdown",
      "source": [
        "**Etape 1:**\n",
        "Générer des nombres aléatoires:\n",
        "1. On importe le module numpy: **import numpy as np**\n",
        "2. On fixe la valeur de la graine (à 0 par exemple): **np.random.seed(0)**\n",
        "3. Utiliser la fonction **randint** pour générer des nombres aléatoires ([cliquer ici pour accéder à la documentation](https://numpy.org/doc/stable/reference/random/generated/numpy.random.randint.html#numpy-random-randint)) "
      ],
      "metadata": {
        "id": "dOJEkriCSeDu"
      }
    },
    {
      "cell_type": "code",
      "source": [
        "import numpy as np\n",
        "np.random.seed(0) # nombres pseudo-aléatoires (Théorème fondamental de la statistique)\n",
        "notes = np.random.randint(low=0, high=20, size=100, dtype=int)\n",
        "notes"
      ],
      "metadata": {
        "colab": {
          "base_uri": "https://localhost:8080/"
        },
        "id": "r9TuhmZSpNbw",
        "outputId": "b6e3cd8e-796a-406c-ef80-c61aa7f45e13"
      },
      "execution_count": null,
      "outputs": [
        {
          "output_type": "execute_result",
          "data": {
            "text/plain": [
              "array([12, 15,  0,  3,  3,  7,  9, 19, 18,  4,  6, 12,  1,  6,  7, 14, 17,\n",
              "        5, 13,  8,  9, 19, 16, 19,  5, 15, 15,  0, 18,  3, 17, 19, 19, 19,\n",
              "       14,  7,  0,  1,  9,  0, 10,  3, 11, 18,  2,  0,  0,  4,  5,  6,  8,\n",
              "       17, 15,  4,  9, 10,  1,  1,  7,  9,  3,  6, 11, 14, 18,  0, 14,  3,\n",
              "       12, 10, 11,  4,  6,  4, 15,  3, 12,  4,  8, 14, 15,  3, 15, 13, 16,\n",
              "       17,  5,  9,  3,  0,  5,  0, 17, 18,  4,  2, 16,  3,  2, 10])"
            ]
          },
          "metadata": {},
          "execution_count": 3
        }
      ]
    },
    {
      "cell_type": "markdown",
      "source": [
        "**Etape 2:** Créer 2 listes vides:\n",
        "* **valide** pour collecter les notes des étudiants ayant validé le module\n",
        "* **non_valide** pour collecter les notes des étudiants n'ayant pas validé le module"
      ],
      "metadata": {
        "id": "j3sYNZG2U-LY"
      }
    },
    {
      "cell_type": "code",
      "source": [
        "valide = []\n",
        "non_valide = []"
      ],
      "metadata": {
        "id": "qwylWtQWrqYA"
      },
      "execution_count": null,
      "outputs": []
    },
    {
      "cell_type": "code",
      "source": [
        "valide"
      ],
      "metadata": {
        "colab": {
          "base_uri": "https://localhost:8080/"
        },
        "id": "f4WdapiFryGe",
        "outputId": "25195760-57b2-4c4a-b644-88d5763e5c7b"
      },
      "execution_count": null,
      "outputs": [
        {
          "output_type": "execute_result",
          "data": {
            "text/plain": [
              "[]"
            ]
          },
          "metadata": {},
          "execution_count": 17
        }
      ]
    },
    {
      "cell_type": "code",
      "source": [
        "non_valide"
      ],
      "metadata": {
        "colab": {
          "base_uri": "https://localhost:8080/"
        },
        "id": "PBNZOcNar0fm",
        "outputId": "ad9da72e-ffcd-429f-f1c3-99313ba4b7b5"
      },
      "execution_count": null,
      "outputs": [
        {
          "output_type": "execute_result",
          "data": {
            "text/plain": [
              "[]"
            ]
          },
          "metadata": {},
          "execution_count": 18
        }
      ]
    },
    {
      "cell_type": "markdown",
      "source": [
        "**Etape 3**: A l'aide de boucle for, de test condtionnel if / elif / else et des méthodes des listes:\n",
        "* Affecter les notes qui sont supérieures ou égales à 10 à la liste **valide**\n",
        "* Affecter les notes qui sont strictement inférieures à 10 à la liste **non_valide**"
      ],
      "metadata": {
        "id": "cjNtZHuzVW2z"
      }
    },
    {
      "cell_type": "code",
      "source": [
        "\"\"\"\n",
        "valide = []\n",
        "valide = [12]\n",
        "valide = [13,12]\n",
        "valide = [17,13,12]\n",
        "\"\"\""
      ],
      "metadata": {
        "id": "VJ-NwxejsSJo"
      },
      "execution_count": null,
      "outputs": []
    },
    {
      "cell_type": "code",
      "source": [
        "valide"
      ],
      "metadata": {
        "colab": {
          "base_uri": "https://localhost:8080/"
        },
        "id": "i1NGw4oBt07g",
        "outputId": "774916c6-6c4f-4103-c87e-34e6ace38245"
      },
      "execution_count": null,
      "outputs": [
        {
          "output_type": "execute_result",
          "data": {
            "text/plain": [
              "[10,\n",
              " 16,\n",
              " 18,\n",
              " 17,\n",
              " 17,\n",
              " 16,\n",
              " 13,\n",
              " 15,\n",
              " 15,\n",
              " 14,\n",
              " 12,\n",
              " 15,\n",
              " 11,\n",
              " 10,\n",
              " 12,\n",
              " 14,\n",
              " 18,\n",
              " 14,\n",
              " 11,\n",
              " 10,\n",
              " 15,\n",
              " 17,\n",
              " 18,\n",
              " 11,\n",
              " 10,\n",
              " 14,\n",
              " 19,\n",
              " 19,\n",
              " 19,\n",
              " 17,\n",
              " 18,\n",
              " 15,\n",
              " 15,\n",
              " 19,\n",
              " 16,\n",
              " 19,\n",
              " 13,\n",
              " 17,\n",
              " 14,\n",
              " 12,\n",
              " 18,\n",
              " 19,\n",
              " 15,\n",
              " 12]"
            ]
          },
          "metadata": {},
          "execution_count": 20
        }
      ]
    },
    {
      "cell_type": "code",
      "source": [
        "non_valide"
      ],
      "metadata": {
        "colab": {
          "base_uri": "https://localhost:8080/"
        },
        "id": "fXbOa-55t2I0",
        "outputId": "bb067115-1561-4529-bc54-a7fe2f29d632"
      },
      "execution_count": null,
      "outputs": [
        {
          "output_type": "execute_result",
          "data": {
            "text/plain": [
              "[2,\n",
              " 3,\n",
              " 2,\n",
              " 4,\n",
              " 0,\n",
              " 5,\n",
              " 0,\n",
              " 3,\n",
              " 9,\n",
              " 5,\n",
              " 3,\n",
              " 8,\n",
              " 4,\n",
              " 3,\n",
              " 4,\n",
              " 6,\n",
              " 4,\n",
              " 3,\n",
              " 0,\n",
              " 6,\n",
              " 3,\n",
              " 9,\n",
              " 7,\n",
              " 1,\n",
              " 1,\n",
              " 9,\n",
              " 4,\n",
              " 8,\n",
              " 6,\n",
              " 5,\n",
              " 4,\n",
              " 0,\n",
              " 0,\n",
              " 2,\n",
              " 3,\n",
              " 0,\n",
              " 9,\n",
              " 1,\n",
              " 0,\n",
              " 7,\n",
              " 3,\n",
              " 0,\n",
              " 5,\n",
              " 9,\n",
              " 8,\n",
              " 5,\n",
              " 7,\n",
              " 6,\n",
              " 1,\n",
              " 6,\n",
              " 4,\n",
              " 9,\n",
              " 7,\n",
              " 3,\n",
              " 3,\n",
              " 0]"
            ]
          },
          "metadata": {},
          "execution_count": 21
        }
      ]
    },
    {
      "cell_type": "code",
      "source": [
        "valide = []\n",
        "non_valide = []\n",
        "for i in range(100): # range(100) = [0, 1, 2,...., 100[\n",
        "    if notes[i] >= 10:\n",
        "      valide.append( notes[i] )\n",
        "    else:\n",
        "      non_valide.append( notes[i] ) "
      ],
      "metadata": {
        "id": "VpZ6WmqVubWm"
      },
      "execution_count": null,
      "outputs": []
    },
    {
      "cell_type": "code",
      "source": [
        "valide"
      ],
      "metadata": {
        "colab": {
          "base_uri": "https://localhost:8080/"
        },
        "id": "G0_d1FJ0uvZQ",
        "outputId": "db22a33c-a5dc-4ca2-eb95-9e53ec996f46"
      },
      "execution_count": null,
      "outputs": [
        {
          "output_type": "execute_result",
          "data": {
            "text/plain": [
              "[12,\n",
              " 15,\n",
              " 19,\n",
              " 18,\n",
              " 12,\n",
              " 14,\n",
              " 17,\n",
              " 13,\n",
              " 19,\n",
              " 16,\n",
              " 19,\n",
              " 15,\n",
              " 15,\n",
              " 18,\n",
              " 17,\n",
              " 19,\n",
              " 19,\n",
              " 19,\n",
              " 14,\n",
              " 10,\n",
              " 11,\n",
              " 18,\n",
              " 17,\n",
              " 15,\n",
              " 10,\n",
              " 11,\n",
              " 14,\n",
              " 18,\n",
              " 14,\n",
              " 12,\n",
              " 10,\n",
              " 11,\n",
              " 15,\n",
              " 12,\n",
              " 14,\n",
              " 15,\n",
              " 15,\n",
              " 13,\n",
              " 16,\n",
              " 17,\n",
              " 17,\n",
              " 18,\n",
              " 16,\n",
              " 10]"
            ]
          },
          "metadata": {},
          "execution_count": 24
        }
      ]
    },
    {
      "cell_type": "code",
      "source": [
        "non_valide"
      ],
      "metadata": {
        "colab": {
          "base_uri": "https://localhost:8080/"
        },
        "id": "0LzFJ9m1uxUa",
        "outputId": "b2c8c6a0-ab45-4ed7-c28a-5d52c4afb763"
      },
      "execution_count": null,
      "outputs": [
        {
          "output_type": "execute_result",
          "data": {
            "text/plain": [
              "[0,\n",
              " 3,\n",
              " 3,\n",
              " 7,\n",
              " 9,\n",
              " 4,\n",
              " 6,\n",
              " 1,\n",
              " 6,\n",
              " 7,\n",
              " 5,\n",
              " 8,\n",
              " 9,\n",
              " 5,\n",
              " 0,\n",
              " 3,\n",
              " 7,\n",
              " 0,\n",
              " 1,\n",
              " 9,\n",
              " 0,\n",
              " 3,\n",
              " 2,\n",
              " 0,\n",
              " 0,\n",
              " 4,\n",
              " 5,\n",
              " 6,\n",
              " 8,\n",
              " 4,\n",
              " 9,\n",
              " 1,\n",
              " 1,\n",
              " 7,\n",
              " 9,\n",
              " 3,\n",
              " 6,\n",
              " 0,\n",
              " 3,\n",
              " 4,\n",
              " 6,\n",
              " 4,\n",
              " 3,\n",
              " 4,\n",
              " 8,\n",
              " 3,\n",
              " 5,\n",
              " 9,\n",
              " 3,\n",
              " 0,\n",
              " 5,\n",
              " 0,\n",
              " 4,\n",
              " 2,\n",
              " 3,\n",
              " 2]"
            ]
          },
          "metadata": {},
          "execution_count": 25
        }
      ]
    },
    {
      "cell_type": "code",
      "source": [
        "valide = []\n",
        "non_valide = []\n",
        "for i in range(len(notes)): # range(100) = [0, 1, 2,...., 100[\n",
        "    if notes[i] >= 10:\n",
        "      valide.append( notes[i] )\n",
        "    else:\n",
        "      non_valide.append( notes[i] ) "
      ],
      "metadata": {
        "id": "Y_8P1c64u0w7"
      },
      "execution_count": null,
      "outputs": []
    },
    {
      "cell_type": "code",
      "source": [
        "valide"
      ],
      "metadata": {
        "colab": {
          "base_uri": "https://localhost:8080/"
        },
        "id": "hliQzBpJvLBT",
        "outputId": "3a3e8fb8-0d7a-4cb4-8a66-47ed8e456fff"
      },
      "execution_count": null,
      "outputs": [
        {
          "output_type": "execute_result",
          "data": {
            "text/plain": [
              "[12,\n",
              " 15,\n",
              " 19,\n",
              " 18,\n",
              " 12,\n",
              " 14,\n",
              " 17,\n",
              " 13,\n",
              " 19,\n",
              " 16,\n",
              " 19,\n",
              " 15,\n",
              " 15,\n",
              " 18,\n",
              " 17,\n",
              " 19,\n",
              " 19,\n",
              " 19,\n",
              " 14,\n",
              " 10,\n",
              " 11,\n",
              " 18,\n",
              " 17,\n",
              " 15,\n",
              " 10,\n",
              " 11,\n",
              " 14,\n",
              " 18,\n",
              " 14,\n",
              " 12,\n",
              " 10,\n",
              " 11,\n",
              " 15,\n",
              " 12,\n",
              " 14,\n",
              " 15,\n",
              " 15,\n",
              " 13,\n",
              " 16,\n",
              " 17,\n",
              " 17,\n",
              " 18,\n",
              " 16,\n",
              " 10]"
            ]
          },
          "metadata": {},
          "execution_count": 27
        }
      ]
    },
    {
      "cell_type": "code",
      "source": [
        "non_valide"
      ],
      "metadata": {
        "colab": {
          "base_uri": "https://localhost:8080/"
        },
        "id": "m2qDTBczvLv-",
        "outputId": "15bb9861-fd96-432a-b3dd-49238cc7c3c4"
      },
      "execution_count": null,
      "outputs": [
        {
          "output_type": "execute_result",
          "data": {
            "text/plain": [
              "[0,\n",
              " 3,\n",
              " 3,\n",
              " 7,\n",
              " 9,\n",
              " 4,\n",
              " 6,\n",
              " 1,\n",
              " 6,\n",
              " 7,\n",
              " 5,\n",
              " 8,\n",
              " 9,\n",
              " 5,\n",
              " 0,\n",
              " 3,\n",
              " 7,\n",
              " 0,\n",
              " 1,\n",
              " 9,\n",
              " 0,\n",
              " 3,\n",
              " 2,\n",
              " 0,\n",
              " 0,\n",
              " 4,\n",
              " 5,\n",
              " 6,\n",
              " 8,\n",
              " 4,\n",
              " 9,\n",
              " 1,\n",
              " 1,\n",
              " 7,\n",
              " 9,\n",
              " 3,\n",
              " 6,\n",
              " 0,\n",
              " 3,\n",
              " 4,\n",
              " 6,\n",
              " 4,\n",
              " 3,\n",
              " 4,\n",
              " 8,\n",
              " 3,\n",
              " 5,\n",
              " 9,\n",
              " 3,\n",
              " 0,\n",
              " 5,\n",
              " 0,\n",
              " 4,\n",
              " 2,\n",
              " 3,\n",
              " 2]"
            ]
          },
          "metadata": {},
          "execution_count": 28
        }
      ]
    },
    {
      "cell_type": "code",
      "source": [
        "valide = []\n",
        "non_valide = []\n",
        "for i in notes: # notes = [0 , 12 , 15 , 6, 8 ]\n",
        "    if i >= 10:\n",
        "      valide.append( i )\n",
        "    else:\n",
        "      non_valide.append( i ) "
      ],
      "metadata": {
        "id": "Ccoi4lrSvOT1"
      },
      "execution_count": null,
      "outputs": []
    },
    {
      "cell_type": "code",
      "source": [
        "valide"
      ],
      "metadata": {
        "colab": {
          "base_uri": "https://localhost:8080/"
        },
        "id": "Rb_n9CPuw6E8",
        "outputId": "0a0933e9-2ccd-4bb3-8484-28ee7c226737"
      },
      "execution_count": null,
      "outputs": [
        {
          "output_type": "execute_result",
          "data": {
            "text/plain": [
              "[12,\n",
              " 15,\n",
              " 19,\n",
              " 18,\n",
              " 12,\n",
              " 14,\n",
              " 17,\n",
              " 13,\n",
              " 19,\n",
              " 16,\n",
              " 19,\n",
              " 15,\n",
              " 15,\n",
              " 18,\n",
              " 17,\n",
              " 19,\n",
              " 19,\n",
              " 19,\n",
              " 14,\n",
              " 10,\n",
              " 11,\n",
              " 18,\n",
              " 17,\n",
              " 15,\n",
              " 10,\n",
              " 11,\n",
              " 14,\n",
              " 18,\n",
              " 14,\n",
              " 12,\n",
              " 10,\n",
              " 11,\n",
              " 15,\n",
              " 12,\n",
              " 14,\n",
              " 15,\n",
              " 15,\n",
              " 13,\n",
              " 16,\n",
              " 17,\n",
              " 17,\n",
              " 18,\n",
              " 16,\n",
              " 10]"
            ]
          },
          "metadata": {},
          "execution_count": 31
        }
      ]
    },
    {
      "cell_type": "code",
      "source": [
        "non_valide"
      ],
      "metadata": {
        "colab": {
          "base_uri": "https://localhost:8080/"
        },
        "id": "F0hb4lGsw7UV",
        "outputId": "0d568faa-3ba3-42cb-acac-ee53be6e1f81"
      },
      "execution_count": null,
      "outputs": [
        {
          "output_type": "execute_result",
          "data": {
            "text/plain": [
              "[0,\n",
              " 3,\n",
              " 3,\n",
              " 7,\n",
              " 9,\n",
              " 4,\n",
              " 6,\n",
              " 1,\n",
              " 6,\n",
              " 7,\n",
              " 5,\n",
              " 8,\n",
              " 9,\n",
              " 5,\n",
              " 0,\n",
              " 3,\n",
              " 7,\n",
              " 0,\n",
              " 1,\n",
              " 9,\n",
              " 0,\n",
              " 3,\n",
              " 2,\n",
              " 0,\n",
              " 0,\n",
              " 4,\n",
              " 5,\n",
              " 6,\n",
              " 8,\n",
              " 4,\n",
              " 9,\n",
              " 1,\n",
              " 1,\n",
              " 7,\n",
              " 9,\n",
              " 3,\n",
              " 6,\n",
              " 0,\n",
              " 3,\n",
              " 4,\n",
              " 6,\n",
              " 4,\n",
              " 3,\n",
              " 4,\n",
              " 8,\n",
              " 3,\n",
              " 5,\n",
              " 9,\n",
              " 3,\n",
              " 0,\n",
              " 5,\n",
              " 0,\n",
              " 4,\n",
              " 2,\n",
              " 3,\n",
              " 2]"
            ]
          },
          "metadata": {},
          "execution_count": 32
        }
      ]
    }
  ]
}